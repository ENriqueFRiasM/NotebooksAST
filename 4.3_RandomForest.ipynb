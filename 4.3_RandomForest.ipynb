{
 "cells": [
  {
   "cell_type": "markdown",
   "metadata": {},
   "source": [
    "# Random Forest Model"
   ]
  },
  {
   "cell_type": "markdown",
   "metadata": {},
   "source": [
    "The previous discussion on Decision Tree Model will give us intuition about a  Random Forest Model.  Random Forest focuses on feature selection and is a supervised learning algorithm. It can be used for both classification and regression. Random Forest helps us reduce the variance in decision trees.  It's a balance between high variance and high bias models.  It is a collection (ensemble) of decision trees. There is sample with replacement with each tree we fit.   There is a sample of features at each split, which helps to reduce variance."
   ]
  },
  {
   "cell_type": "code",
   "execution_count": 5,
   "metadata": {},
   "outputs": [],
   "source": [
    "import pandas as pd\n",
    "from pandas import read_csv\n",
    "from matplotlib import pyplot as plot"
   ]
  },
  {
   "cell_type": "markdown",
   "metadata": {},
   "source": [
    "## Example 1:  Vacation Dataset"
   ]
  },
  {
   "cell_type": "code",
   "execution_count": 6,
   "metadata": {},
   "outputs": [
    {
     "data": {
      "text/html": [
       "<div>\n",
       "<style scoped>\n",
       "    .dataframe tbody tr th:only-of-type {\n",
       "        vertical-align: middle;\n",
       "    }\n",
       "\n",
       "    .dataframe tbody tr th {\n",
       "        vertical-align: top;\n",
       "    }\n",
       "\n",
       "    .dataframe thead th {\n",
       "        text-align: right;\n",
       "    }\n",
       "</style>\n",
       "<table border=\"1\" class=\"dataframe\">\n",
       "  <thead>\n",
       "    <tr style=\"text-align: right;\">\n",
       "      <th></th>\n",
       "      <th>t-12</th>\n",
       "      <th>t-11</th>\n",
       "      <th>t-10</th>\n",
       "      <th>t-9</th>\n",
       "      <th>t-8</th>\n",
       "      <th>t-7</th>\n",
       "      <th>t-6</th>\n",
       "      <th>t-5</th>\n",
       "      <th>t-4</th>\n",
       "      <th>t-3</th>\n",
       "      <th>t-2</th>\n",
       "      <th>t-1</th>\n",
       "      <th>t</th>\n",
       "    </tr>\n",
       "  </thead>\n",
       "  <tbody>\n",
       "    <tr>\n",
       "      <th>0</th>\n",
       "      <td>10.0</td>\n",
       "      <td>9.0</td>\n",
       "      <td>-2.0</td>\n",
       "      <td>-17.0</td>\n",
       "      <td>-18.0</td>\n",
       "      <td>-1.0</td>\n",
       "      <td>3.0</td>\n",
       "      <td>4.0</td>\n",
       "      <td>33.0</td>\n",
       "      <td>-6.0</td>\n",
       "      <td>-3.0</td>\n",
       "      <td>-11.0</td>\n",
       "      <td>3.0</td>\n",
       "    </tr>\n",
       "    <tr>\n",
       "      <th>1</th>\n",
       "      <td>9.0</td>\n",
       "      <td>-2.0</td>\n",
       "      <td>-17.0</td>\n",
       "      <td>-18.0</td>\n",
       "      <td>-1.0</td>\n",
       "      <td>3.0</td>\n",
       "      <td>4.0</td>\n",
       "      <td>33.0</td>\n",
       "      <td>-6.0</td>\n",
       "      <td>-3.0</td>\n",
       "      <td>-11.0</td>\n",
       "      <td>3.0</td>\n",
       "      <td>13.0</td>\n",
       "    </tr>\n",
       "    <tr>\n",
       "      <th>2</th>\n",
       "      <td>-2.0</td>\n",
       "      <td>-17.0</td>\n",
       "      <td>-18.0</td>\n",
       "      <td>-1.0</td>\n",
       "      <td>3.0</td>\n",
       "      <td>4.0</td>\n",
       "      <td>33.0</td>\n",
       "      <td>-6.0</td>\n",
       "      <td>-3.0</td>\n",
       "      <td>-11.0</td>\n",
       "      <td>3.0</td>\n",
       "      <td>13.0</td>\n",
       "      <td>-4.0</td>\n",
       "    </tr>\n",
       "    <tr>\n",
       "      <th>3</th>\n",
       "      <td>-17.0</td>\n",
       "      <td>-18.0</td>\n",
       "      <td>-1.0</td>\n",
       "      <td>3.0</td>\n",
       "      <td>4.0</td>\n",
       "      <td>33.0</td>\n",
       "      <td>-6.0</td>\n",
       "      <td>-3.0</td>\n",
       "      <td>-11.0</td>\n",
       "      <td>3.0</td>\n",
       "      <td>13.0</td>\n",
       "      <td>-4.0</td>\n",
       "      <td>-16.0</td>\n",
       "    </tr>\n",
       "    <tr>\n",
       "      <th>4</th>\n",
       "      <td>-18.0</td>\n",
       "      <td>-1.0</td>\n",
       "      <td>3.0</td>\n",
       "      <td>4.0</td>\n",
       "      <td>33.0</td>\n",
       "      <td>-6.0</td>\n",
       "      <td>-3.0</td>\n",
       "      <td>-11.0</td>\n",
       "      <td>3.0</td>\n",
       "      <td>13.0</td>\n",
       "      <td>-4.0</td>\n",
       "      <td>-16.0</td>\n",
       "      <td>-20.0</td>\n",
       "    </tr>\n",
       "  </tbody>\n",
       "</table>\n",
       "</div>"
      ],
      "text/plain": [
       "   t-12  t-11  t-10   t-9   t-8   t-7   t-6   t-5   t-4   t-3   t-2   t-1  \\\n",
       "0  10.0   9.0  -2.0 -17.0 -18.0  -1.0   3.0   4.0  33.0  -6.0  -3.0 -11.0   \n",
       "1   9.0  -2.0 -17.0 -18.0  -1.0   3.0   4.0  33.0  -6.0  -3.0 -11.0   3.0   \n",
       "2  -2.0 -17.0 -18.0  -1.0   3.0   4.0  33.0  -6.0  -3.0 -11.0   3.0  13.0   \n",
       "3 -17.0 -18.0  -1.0   3.0   4.0  33.0  -6.0  -3.0 -11.0   3.0  13.0  -4.0   \n",
       "4 -18.0  -1.0   3.0   4.0  33.0  -6.0  -3.0 -11.0   3.0  13.0  -4.0 -16.0   \n",
       "\n",
       "      t  \n",
       "0   3.0  \n",
       "1  13.0  \n",
       "2  -4.0  \n",
       "3 -16.0  \n",
       "4 -20.0  "
      ]
     },
     "execution_count": 6,
     "metadata": {},
     "output_type": "execute_result"
    }
   ],
   "source": [
    "# load data, this data has been stationarized\n",
    "df1 = pd.read_csv('vacation_lags_12months_features.csv', header=0)\n",
    "df1.head()"
   ]
  },
  {
   "cell_type": "code",
   "execution_count": 7,
   "metadata": {},
   "outputs": [],
   "source": [
    "vacat = df1.values\n",
    "# split into lagged variables (features) and original time series data (target)\n",
    "X1= vacat[:,0:-1]  # slice all rows and start with column 0 and go up to but not including the last column\n",
    "y1 = vacat[:,-1]  # slice all rows and last column, essentially separating out 't' column"
   ]
  },
  {
   "cell_type": "code",
   "execution_count": 8,
   "metadata": {},
   "outputs": [],
   "source": [
    "# Columns t-1 to t-12, which are the lagged variables\n",
    "# X1"
   ]
  },
  {
   "cell_type": "code",
   "execution_count": 9,
   "metadata": {},
   "outputs": [],
   "source": [
    "# Column t, which is the original time series\n",
    "# Give first 10 values of target variable, time series\n",
    "# y1[0:10]"
   ]
  },
  {
   "cell_type": "code",
   "execution_count": 10,
   "metadata": {},
   "outputs": [
    {
     "name": "stdout",
     "output_type": "stream",
     "text": [
      "Observations for Target: 174\n",
      "Training Observations for Target: 130\n",
      "Testing Observations for Target: 44\n"
     ]
    }
   ],
   "source": [
    "# Target Train-Test split\n",
    "from pandas import read_csv\n",
    "\n",
    "Y1 = y1\n",
    "traintarget_size = int(len(Y1) * 0.75)   # Set split\n",
    "train_target, test_target = Y1[0:traintarget_size], Y1[traintarget_size:len(Y1)]\n",
    "\n",
    "print('Observations for Target: %d' % (len(Y1)))\n",
    "print('Training Observations for Target: %d' % (len(train_target)))\n",
    "print('Testing Observations for Target: %d' % (len(test_target)))"
   ]
  },
  {
   "cell_type": "code",
   "execution_count": 11,
   "metadata": {},
   "outputs": [
    {
     "name": "stdout",
     "output_type": "stream",
     "text": [
      "Observations for feature: 174\n",
      "Training Observations for feature: 130\n",
      "Testing Observations for feature: 44\n"
     ]
    }
   ],
   "source": [
    "# Features Train-Test split\n",
    "\n",
    "# X1\n",
    "trainfeature_size = int(len(X1) * 0.75)\n",
    "train_feature, test_feature = X1[0:trainfeature_size], X1[trainfeature_size:len(X1)]\n",
    "print('Observations for feature: %d' % (len(X1)))\n",
    "print('Training Observations for feature: %d' % (len(train_feature)))\n",
    "print('Testing Observations for feature: %d' % (len(test_feature)))"
   ]
  },
  {
   "cell_type": "code",
   "execution_count": 12,
   "metadata": {},
   "outputs": [
    {
     "name": "stdout",
     "output_type": "stream",
     "text": [
      "0.9848425260570494\n",
      "0.621439351045946\n"
     ]
    }
   ],
   "source": [
    "# Feature Selection with Random Forest\n",
    "\n",
    "# Random Forest\n",
    "from sklearn.ensemble import RandomForestRegressor\n",
    "\n",
    "# Create the random forest model and fit to the training data\n",
    "rfr = RandomForestRegressor(n_estimators=200)  # n_estimators is the number of trees in forest\n",
    "rfr.fit(train_feature, train_target)\n",
    "\n",
    "# Look at the R^2 scores on train and test\n",
    "print(rfr.score(train_feature, train_target))\n",
    "print(rfr.score(test_feature, test_target))  # Try to attain a positive value"
   ]
  },
  {
   "cell_type": "code",
   "execution_count": 33,
   "metadata": {},
   "outputs": [
    {
     "name": "stdout",
     "output_type": "stream",
     "text": [
      "[{'max_depth': 5, 'max_features': 2, 'n_estimators': 100, 'random_state': 17}, {'max_depth': 5, 'max_features': 2, 'n_estimators': 200, 'random_state': 17}, {'max_depth': 5, 'max_features': 2, 'n_estimators': 250, 'random_state': 17}, {'max_depth': 5, 'max_features': 3, 'n_estimators': 100, 'random_state': 17}, {'max_depth': 5, 'max_features': 3, 'n_estimators': 200, 'random_state': 17}, {'max_depth': 5, 'max_features': 3, 'n_estimators': 250, 'random_state': 17}, {'max_depth': 5, 'max_features': 4, 'n_estimators': 100, 'random_state': 17}, {'max_depth': 5, 'max_features': 4, 'n_estimators': 200, 'random_state': 17}, {'max_depth': 5, 'max_features': 4, 'n_estimators': 250, 'random_state': 17}, {'max_depth': 5, 'max_features': 5, 'n_estimators': 100, 'random_state': 17}, {'max_depth': 5, 'max_features': 5, 'n_estimators': 200, 'random_state': 17}, {'max_depth': 5, 'max_features': 5, 'n_estimators': 250, 'random_state': 17}, {'max_depth': 5, 'max_features': 6, 'n_estimators': 100, 'random_state': 17}, {'max_depth': 5, 'max_features': 6, 'n_estimators': 200, 'random_state': 17}, {'max_depth': 5, 'max_features': 6, 'n_estimators': 250, 'random_state': 17}, {'max_depth': 6, 'max_features': 2, 'n_estimators': 100, 'random_state': 17}, {'max_depth': 6, 'max_features': 2, 'n_estimators': 200, 'random_state': 17}, {'max_depth': 6, 'max_features': 2, 'n_estimators': 250, 'random_state': 17}, {'max_depth': 6, 'max_features': 3, 'n_estimators': 100, 'random_state': 17}, {'max_depth': 6, 'max_features': 3, 'n_estimators': 200, 'random_state': 17}, {'max_depth': 6, 'max_features': 3, 'n_estimators': 250, 'random_state': 17}, {'max_depth': 6, 'max_features': 4, 'n_estimators': 100, 'random_state': 17}, {'max_depth': 6, 'max_features': 4, 'n_estimators': 200, 'random_state': 17}, {'max_depth': 6, 'max_features': 4, 'n_estimators': 250, 'random_state': 17}, {'max_depth': 6, 'max_features': 5, 'n_estimators': 100, 'random_state': 17}, {'max_depth': 6, 'max_features': 5, 'n_estimators': 200, 'random_state': 17}, {'max_depth': 6, 'max_features': 5, 'n_estimators': 250, 'random_state': 17}, {'max_depth': 6, 'max_features': 6, 'n_estimators': 100, 'random_state': 17}, {'max_depth': 6, 'max_features': 6, 'n_estimators': 200, 'random_state': 17}, {'max_depth': 6, 'max_features': 6, 'n_estimators': 250, 'random_state': 17}, {'max_depth': 7, 'max_features': 2, 'n_estimators': 100, 'random_state': 17}, {'max_depth': 7, 'max_features': 2, 'n_estimators': 200, 'random_state': 17}, {'max_depth': 7, 'max_features': 2, 'n_estimators': 250, 'random_state': 17}, {'max_depth': 7, 'max_features': 3, 'n_estimators': 100, 'random_state': 17}, {'max_depth': 7, 'max_features': 3, 'n_estimators': 200, 'random_state': 17}, {'max_depth': 7, 'max_features': 3, 'n_estimators': 250, 'random_state': 17}, {'max_depth': 7, 'max_features': 4, 'n_estimators': 100, 'random_state': 17}, {'max_depth': 7, 'max_features': 4, 'n_estimators': 200, 'random_state': 17}, {'max_depth': 7, 'max_features': 4, 'n_estimators': 250, 'random_state': 17}, {'max_depth': 7, 'max_features': 5, 'n_estimators': 100, 'random_state': 17}, {'max_depth': 7, 'max_features': 5, 'n_estimators': 200, 'random_state': 17}, {'max_depth': 7, 'max_features': 5, 'n_estimators': 250, 'random_state': 17}, {'max_depth': 7, 'max_features': 6, 'n_estimators': 100, 'random_state': 17}, {'max_depth': 7, 'max_features': 6, 'n_estimators': 200, 'random_state': 17}, {'max_depth': 7, 'max_features': 6, 'n_estimators': 250, 'random_state': 17}, {'max_depth': 8, 'max_features': 2, 'n_estimators': 100, 'random_state': 17}, {'max_depth': 8, 'max_features': 2, 'n_estimators': 200, 'random_state': 17}, {'max_depth': 8, 'max_features': 2, 'n_estimators': 250, 'random_state': 17}, {'max_depth': 8, 'max_features': 3, 'n_estimators': 100, 'random_state': 17}, {'max_depth': 8, 'max_features': 3, 'n_estimators': 200, 'random_state': 17}, {'max_depth': 8, 'max_features': 3, 'n_estimators': 250, 'random_state': 17}, {'max_depth': 8, 'max_features': 4, 'n_estimators': 100, 'random_state': 17}, {'max_depth': 8, 'max_features': 4, 'n_estimators': 200, 'random_state': 17}, {'max_depth': 8, 'max_features': 4, 'n_estimators': 250, 'random_state': 17}, {'max_depth': 8, 'max_features': 5, 'n_estimators': 100, 'random_state': 17}, {'max_depth': 8, 'max_features': 5, 'n_estimators': 200, 'random_state': 17}, {'max_depth': 8, 'max_features': 5, 'n_estimators': 250, 'random_state': 17}, {'max_depth': 8, 'max_features': 6, 'n_estimators': 100, 'random_state': 17}, {'max_depth': 8, 'max_features': 6, 'n_estimators': 200, 'random_state': 17}, {'max_depth': 8, 'max_features': 6, 'n_estimators': 250, 'random_state': 17}, {'max_depth': 9, 'max_features': 2, 'n_estimators': 100, 'random_state': 17}, {'max_depth': 9, 'max_features': 2, 'n_estimators': 200, 'random_state': 17}, {'max_depth': 9, 'max_features': 2, 'n_estimators': 250, 'random_state': 17}, {'max_depth': 9, 'max_features': 3, 'n_estimators': 100, 'random_state': 17}, {'max_depth': 9, 'max_features': 3, 'n_estimators': 200, 'random_state': 17}, {'max_depth': 9, 'max_features': 3, 'n_estimators': 250, 'random_state': 17}, {'max_depth': 9, 'max_features': 4, 'n_estimators': 100, 'random_state': 17}, {'max_depth': 9, 'max_features': 4, 'n_estimators': 200, 'random_state': 17}, {'max_depth': 9, 'max_features': 4, 'n_estimators': 250, 'random_state': 17}, {'max_depth': 9, 'max_features': 5, 'n_estimators': 100, 'random_state': 17}, {'max_depth': 9, 'max_features': 5, 'n_estimators': 200, 'random_state': 17}, {'max_depth': 9, 'max_features': 5, 'n_estimators': 250, 'random_state': 17}, {'max_depth': 9, 'max_features': 6, 'n_estimators': 100, 'random_state': 17}, {'max_depth': 9, 'max_features': 6, 'n_estimators': 200, 'random_state': 17}, {'max_depth': 9, 'max_features': 6, 'n_estimators': 250, 'random_state': 17}, {'max_depth': 10, 'max_features': 2, 'n_estimators': 100, 'random_state': 17}, {'max_depth': 10, 'max_features': 2, 'n_estimators': 200, 'random_state': 17}, {'max_depth': 10, 'max_features': 2, 'n_estimators': 250, 'random_state': 17}, {'max_depth': 10, 'max_features': 3, 'n_estimators': 100, 'random_state': 17}, {'max_depth': 10, 'max_features': 3, 'n_estimators': 200, 'random_state': 17}, {'max_depth': 10, 'max_features': 3, 'n_estimators': 250, 'random_state': 17}, {'max_depth': 10, 'max_features': 4, 'n_estimators': 100, 'random_state': 17}, {'max_depth': 10, 'max_features': 4, 'n_estimators': 200, 'random_state': 17}, {'max_depth': 10, 'max_features': 4, 'n_estimators': 250, 'random_state': 17}, {'max_depth': 10, 'max_features': 5, 'n_estimators': 100, 'random_state': 17}, {'max_depth': 10, 'max_features': 5, 'n_estimators': 200, 'random_state': 17}, {'max_depth': 10, 'max_features': 5, 'n_estimators': 250, 'random_state': 17}, {'max_depth': 10, 'max_features': 6, 'n_estimators': 100, 'random_state': 17}, {'max_depth': 10, 'max_features': 6, 'n_estimators': 200, 'random_state': 17}, {'max_depth': 10, 'max_features': 6, 'n_estimators': 250, 'random_state': 17}]\n",
      "0.7606229730010098 {'random_state': 17, 'n_estimators': 100, 'max_features': 3, 'max_depth': 5}\n",
      "0.9689540046209794\n"
     ]
    }
   ],
   "source": [
    "# Note: This cell will take some time to run\n",
    "#  https://scikit-learn.org/stable/modules/generated/sklearn.ensemble.RandomForestRegressor.html\n",
    "from sklearn.model_selection import ParameterGrid\n",
    "import numpy as np\n",
    "\n",
    "# Create a dictionary of hyperparameters to search\n",
    "# n_estimators is the number of trees in the forest. The larger the better, \n",
    "# but also the longer it will take to compute. \n",
    "# max_features is the number of features chosen at random at splits\n",
    "# max_depth is the number of splits\n",
    "# random_state will make your result reproducible\n",
    "\n",
    "# Run grid search\n",
    "# grid = {'n_estimators': [200], 'max_depth': [2, 3, 4, 5, 6, 7, 8, 9, 10],'max_features': [2, 3, 4, 5, 6, 7, 8, 9, 10, 11, 12], 'random_state': [17]}\n",
    "grid = {'n_estimators': [100,200,250], 'max_depth': [5,6,7,8,9,10],'max_features': [2,3,4,5,6], 'random_state': [17]}\n",
    "test_scores = []\n",
    "train_scores= []\n",
    "\n",
    "print(list(ParameterGrid(grid)))\n",
    "\n",
    "# Loop through the parameter grid, set the hyperparameters, and save the scores\n",
    "for g in ParameterGrid(grid):\n",
    "    \n",
    "    rfr.set_params(**g)  # ** is \"unpacking\" the dictionary\n",
    "    rfr.fit(train_feature, train_target)\n",
    "    test_scores.append(rfr.score(test_feature, test_target))\n",
    "    train_scores.append(rfr.score(train_feature, train_target))\n",
    "\n",
    "# Find best hyperparameters from the test score and print\n",
    "best_idx = np.argmax(test_scores)\n",
    "\n",
    "#print(train_scores)\n",
    "#print(test_scores)\n",
    "\n",
    "print(test_scores[best_idx], ParameterGrid(grid)[best_idx])  # You don't want negative value\n",
    "print(train_scores[best_idx])\n",
    "\n",
    "# The best test score\n",
    "\n"
   ]
  },
  {
   "cell_type": "code",
   "execution_count": 34,
   "metadata": {},
   "outputs": [
    {
     "data": {
      "image/png": "[encoded data removed]",
      "text/plain": [
       "<Figure size 432x288 with 1 Axes>"
      ]
     },
     "metadata": {
      "needs_background": "light"
     },
     "output_type": "display_data"
    }
   ],
   "source": [
    "# Use the best hyperparameters from before to fit a random forest model\n",
    "rfr = RandomForestRegressor(n_estimators=200, max_depth=10, max_features=2, random_state=19)\n",
    "rfr.fit(train_feature, train_target)\n",
    "\n",
    "# Make predictions with our model\n",
    "train_prediction = rfr.predict(train_feature)\n",
    "test_prediction = rfr.predict(test_feature)\n",
    "\n",
    "# Create a scatter plot with train and test actual vs predictions\n",
    "plot.scatter(train_target, train_prediction, label='train')\n",
    "plot.scatter(test_target, test_prediction, label='test')\n",
    "plot.legend()\n",
    "plot.show()"
   ]
  },
  {
   "cell_type": "code",
   "execution_count": 35,
   "metadata": {
    "scrolled": true
   },
   "outputs": [
    {
     "data": {
      "image/png": "[encoded data removed]",
      "text/plain": [
       "<Figure size 432x288 with 1 Axes>"
      ]
     },
     "metadata": {
      "needs_background": "light"
     },
     "output_type": "display_data"
    }
   ],
   "source": [
    "# Random Forest Model Feature Importance\n",
    "\n",
    "# get column names\n",
    "df1.columns\n",
    "# Get feature importances from our random forest model\n",
    "importances = rfr.feature_importances_\n",
    "\n",
    "# Get the index of importances from greatest importance to least\n",
    "sorted_index = np.argsort(importances)[::-1]\n",
    "x1 = range(len(importances))\n",
    "\n",
    "# Create tick labels \n",
    "feature_names = ['t-12', 't-11', 't-10', 't-9', 't-8', 't-7', 't-6', 't-5', 't-4', 't-3',\n",
    "       't-2', 't-1']\n",
    "labels = np.array(feature_names)[sorted_index]\n",
    "plot.bar(x1, importances[sorted_index], tick_label=labels)\n",
    "\n",
    "# Rotate tick labels to vertical\n",
    "plot.xticks(rotation=90)\n",
    "plot.show()"
   ]
  },
  {
   "cell_type": "markdown",
   "metadata": {},
   "source": [
    "## Example 2: Furniture Dataset"
   ]
  },
  {
   "cell_type": "code",
   "execution_count": 10,
   "metadata": {},
   "outputs": [
    {
     "data": {
      "text/html": [
       "<div>\n",
       "<style scoped>\n",
       "    .dataframe tbody tr th:only-of-type {\n",
       "        vertical-align: middle;\n",
       "    }\n",
       "\n",
       "    .dataframe tbody tr th {\n",
       "        vertical-align: top;\n",
       "    }\n",
       "\n",
       "    .dataframe thead th {\n",
       "        text-align: right;\n",
       "    }\n",
       "</style>\n",
       "<table border=\"1\" class=\"dataframe\">\n",
       "  <thead>\n",
       "    <tr style=\"text-align: right;\">\n",
       "      <th></th>\n",
       "      <th>t-12</th>\n",
       "      <th>t-11</th>\n",
       "      <th>t-10</th>\n",
       "      <th>t-9</th>\n",
       "      <th>t-8</th>\n",
       "      <th>t-7</th>\n",
       "      <th>t-6</th>\n",
       "      <th>t-5</th>\n",
       "      <th>t-4</th>\n",
       "      <th>t-3</th>\n",
       "      <th>t-2</th>\n",
       "      <th>t-1</th>\n",
       "      <th>t</th>\n",
       "    </tr>\n",
       "  </thead>\n",
       "  <tbody>\n",
       "    <tr>\n",
       "      <td>0</td>\n",
       "      <td>0.069088</td>\n",
       "      <td>-0.002419</td>\n",
       "      <td>0.033839</td>\n",
       "      <td>0.022829</td>\n",
       "      <td>0.013640</td>\n",
       "      <td>0.011722</td>\n",
       "      <td>-0.023777</td>\n",
       "      <td>0.042725</td>\n",
       "      <td>0.043720</td>\n",
       "      <td>0.127219</td>\n",
       "      <td>-0.219927</td>\n",
       "      <td>-0.044419</td>\n",
       "      <td>0.121869</td>\n",
       "    </tr>\n",
       "    <tr>\n",
       "      <td>1</td>\n",
       "      <td>-0.002419</td>\n",
       "      <td>0.033839</td>\n",
       "      <td>0.022829</td>\n",
       "      <td>0.013640</td>\n",
       "      <td>0.011722</td>\n",
       "      <td>-0.023777</td>\n",
       "      <td>0.042725</td>\n",
       "      <td>0.043720</td>\n",
       "      <td>0.127219</td>\n",
       "      <td>-0.219927</td>\n",
       "      <td>-0.044419</td>\n",
       "      <td>0.121869</td>\n",
       "      <td>0.003474</td>\n",
       "    </tr>\n",
       "    <tr>\n",
       "      <td>2</td>\n",
       "      <td>0.033839</td>\n",
       "      <td>0.022829</td>\n",
       "      <td>0.013640</td>\n",
       "      <td>0.011722</td>\n",
       "      <td>-0.023777</td>\n",
       "      <td>0.042725</td>\n",
       "      <td>0.043720</td>\n",
       "      <td>0.127219</td>\n",
       "      <td>-0.219927</td>\n",
       "      <td>-0.044419</td>\n",
       "      <td>0.121869</td>\n",
       "      <td>0.003474</td>\n",
       "      <td>0.038723</td>\n",
       "    </tr>\n",
       "    <tr>\n",
       "      <td>3</td>\n",
       "      <td>0.022829</td>\n",
       "      <td>0.013640</td>\n",
       "      <td>0.011722</td>\n",
       "      <td>-0.023777</td>\n",
       "      <td>0.042725</td>\n",
       "      <td>0.043720</td>\n",
       "      <td>0.127219</td>\n",
       "      <td>-0.219927</td>\n",
       "      <td>-0.044419</td>\n",
       "      <td>0.121869</td>\n",
       "      <td>0.003474</td>\n",
       "      <td>0.038723</td>\n",
       "      <td>0.008674</td>\n",
       "    </tr>\n",
       "    <tr>\n",
       "      <td>4</td>\n",
       "      <td>0.013640</td>\n",
       "      <td>0.011722</td>\n",
       "      <td>-0.023777</td>\n",
       "      <td>0.042725</td>\n",
       "      <td>0.043720</td>\n",
       "      <td>0.127219</td>\n",
       "      <td>-0.219927</td>\n",
       "      <td>-0.044419</td>\n",
       "      <td>0.121869</td>\n",
       "      <td>0.003474</td>\n",
       "      <td>0.038723</td>\n",
       "      <td>0.008674</td>\n",
       "      <td>0.024956</td>\n",
       "    </tr>\n",
       "  </tbody>\n",
       "</table>\n",
       "</div>"
      ],
      "text/plain": [
       "       t-12      t-11      t-10       t-9       t-8       t-7       t-6  \\\n",
       "0  0.069088 -0.002419  0.033839  0.022829  0.013640  0.011722 -0.023777   \n",
       "1 -0.002419  0.033839  0.022829  0.013640  0.011722 -0.023777  0.042725   \n",
       "2  0.033839  0.022829  0.013640  0.011722 -0.023777  0.042725  0.043720   \n",
       "3  0.022829  0.013640  0.011722 -0.023777  0.042725  0.043720  0.127219   \n",
       "4  0.013640  0.011722 -0.023777  0.042725  0.043720  0.127219 -0.219927   \n",
       "\n",
       "        t-5       t-4       t-3       t-2       t-1         t  \n",
       "0  0.042725  0.043720  0.127219 -0.219927 -0.044419  0.121869  \n",
       "1  0.043720  0.127219 -0.219927 -0.044419  0.121869  0.003474  \n",
       "2  0.127219 -0.219927 -0.044419  0.121869  0.003474  0.038723  \n",
       "3 -0.219927 -0.044419  0.121869  0.003474  0.038723  0.008674  \n",
       "4 -0.044419  0.121869  0.003474  0.038723  0.008674  0.024956  "
      ]
     },
     "execution_count": 10,
     "metadata": {},
     "output_type": "execute_result"
    }
   ],
   "source": [
    "# load data, this data has been stationarized\n",
    "df2 = pd.read_csv('~/Desktop/section_4/furniture_lags_12months_features.csv', header=0)\n",
    "df2.head()"
   ]
  },
  {
   "cell_type": "markdown",
   "metadata": {},
   "source": [
    "### Split Data"
   ]
  },
  {
   "cell_type": "code",
   "execution_count": 11,
   "metadata": {},
   "outputs": [],
   "source": [
    "furn = df2.values\n",
    "# split into lagged variables (features) and original time series data (target)\n",
    "X2= furn[:,0:-1]  # slice all rows and start with column 0 and go up to but not including the last column\n",
    "y2 = furn[:,-1]  # slice all rows and last column, essentially separating out 't' column"
   ]
  },
  {
   "cell_type": "code",
   "execution_count": null,
   "metadata": {},
   "outputs": [],
   "source": [
    "# Columns t-1 to t-12, which are the lagged variables\n",
    "# X2"
   ]
  },
  {
   "cell_type": "code",
   "execution_count": null,
   "metadata": {},
   "outputs": [],
   "source": [
    "# Column t, which is the original time series\n",
    "# Give first 10 values of target variable, time series\n",
    "# y2[0:10]"
   ]
  },
  {
   "cell_type": "markdown",
   "metadata": {},
   "source": [
    "Below, you can alter the splits as 50-50, 60-40, 70-30, 75-25, 80-20, and 85-15, etc. "
   ]
  },
  {
   "cell_type": "code",
   "execution_count": 12,
   "metadata": {},
   "outputs": [
    {
     "name": "stdout",
     "output_type": "stream",
     "text": [
      "Observations for Target: 317\n",
      "Training Observations for Target: 237\n",
      "Testing Observations for Target: 80\n"
     ]
    }
   ],
   "source": [
    "# Target Train-Test split\n",
    "from pandas import read_csv\n",
    "\n",
    "Y2 = y2\n",
    "traintarget_size = int(len(Y2) * 0.75)   # Set split\n",
    "train_target, test_target = Y2[0:traintarget_size], Y2[traintarget_size:len(Y2)]\n",
    "\n",
    "print('Observations for Target: %d' % (len(Y2)))\n",
    "print('Training Observations for Target: %d' % (len(train_target)))\n",
    "print('Testing Observations for Target: %d' % (len(test_target)))"
   ]
  },
  {
   "cell_type": "code",
   "execution_count": 13,
   "metadata": {},
   "outputs": [
    {
     "name": "stdout",
     "output_type": "stream",
     "text": [
      "Observations for feature: 317\n",
      "Training Observations for feature: 237\n",
      "Testing Observations for feature: 80\n"
     ]
    }
   ],
   "source": [
    "# Features Train-Test split\n",
    "\n",
    "trainfeature_size = int(len(X2) * 0.75)\n",
    "train_feature, test_feature = X2[0:trainfeature_size], X2[trainfeature_size:len(X2)]\n",
    "print('Observations for feature: %d' % (len(X2)))\n",
    "print('Training Observations for feature: %d' % (len(train_feature)))\n",
    "print('Testing Observations for feature: %d' % (len(test_feature)))"
   ]
  },
  {
   "cell_type": "code",
   "execution_count": 14,
   "metadata": {},
   "outputs": [
    {
     "name": "stdout",
     "output_type": "stream",
     "text": [
      "0.9868574623992057\n",
      "0.9102476672332983\n"
     ]
    }
   ],
   "source": [
    "# Random Forest Model\n",
    "from sklearn.ensemble import RandomForestRegressor\n",
    "\n",
    "# Create the random forest model and fit to the training data\n",
    "rfr = RandomForestRegressor(n_estimators=200)\n",
    "rfr.fit(train_feature, train_target)\n",
    "\n",
    "# Look at the R^2 scores on train and test\n",
    "print(rfr.score(train_feature, train_target))\n",
    "print(rfr.score(test_feature, test_target))  # Try to attain a positive value"
   ]
  },
  {
   "cell_type": "markdown",
   "metadata": {},
   "source": [
    "One important aspect of tuning the hyperparameter is the number of features we sample at each split. This is the max_features in RandomForestRegressor from the sklearn library. For models like random forests that have randomness built-in, we also want to set the random_state. This is set for our results to be reproducible. We will use sklearn's ParameterGrid to create combinations of hyperparameters to search."
   ]
  },
  {
   "cell_type": "code",
   "execution_count": 15,
   "metadata": {},
   "outputs": [
    {
     "name": "stdout",
     "output_type": "stream",
     "text": [
      "0.9121835299273042 {'random_state': 13, 'n_estimators': 200, 'max_features': 7, 'max_depth': 10}\n"
     ]
    }
   ],
   "source": [
    "# Note: This cell will take some time to run\n",
    "#  https://scikit-learn.org/stable/modules/generated/sklearn.ensemble.RandomForestRegressor.html\n",
    "from sklearn.model_selection import ParameterGrid\n",
    "import numpy as np\n",
    "\n",
    "# Create a dictionary of hyperparameters to search\n",
    "# n_estimators is the number of trees in the forest. The larger the better, \n",
    "# but also the longer it will take to compute. \n",
    "# Run grid search\n",
    "# grid = {'n_estimators': [200], 'max_depth': [2, 3, 4, 5, 6, 7, 8, 9, 10], 'max_features': [2, 3, 4, 5, 6, 7, 8, 9, 10, 11, 12], 'random_state': [13]}\n",
    "grid = {'n_estimators': [200], 'max_depth': [10], 'max_features': [7], 'random_state': [13]}\n",
    "test_scores = []\n",
    "\n",
    "# Loop through the parameter grid, set the hyperparameters, and save the scores\n",
    "for g in ParameterGrid(grid):\n",
    "    rfr.set_params(**g)  # ** is \"unpacking\" the dictionary\n",
    "    rfr.fit(train_feature, train_target)\n",
    "    test_scores.append(rfr.score(test_feature, test_target))\n",
    "\n",
    "# Find best hyperparameters from the test score and print\n",
    "best_idx = np.argmax(test_scores)\n",
    "print(test_scores[best_idx], ParameterGrid(grid)[best_idx])  # You don't want negative value\n",
    "\n",
    "# The best test score"
   ]
  },
  {
   "cell_type": "markdown",
   "metadata": {},
   "source": [
    "We want to evaluate performance of our best model to check how well or poorly we are doing. We've already seen the R-squares scores, but let's take a look at the scatter plot of predictions vs actual results using matplotlib. Perfect predictions would be a diagonal line from the lower left to the upper right."
   ]
  },
  {
   "cell_type": "code",
   "execution_count": 16,
   "metadata": {},
   "outputs": [
    {
     "data": {
      "image/png": "[encoded data removed]",
      "text/plain": [
       "<Figure size 432x288 with 1 Axes>"
      ]
     },
     "metadata": {
      "needs_background": "light"
     },
     "output_type": "display_data"
    }
   ],
   "source": [
    "# Use the best hyperparameters from before to fit a random forest model\n",
    "rfr = RandomForestRegressor(n_estimators=200, max_depth=10, max_features = 7, random_state=13)\n",
    "rfr.fit(train_feature, train_target)\n",
    "\n",
    "# Make predictions with our model\n",
    "train_prediction = rfr.predict(train_feature)\n",
    "test_prediction = rfr.predict(test_feature)\n",
    "\n",
    "# Create a scatter plot with train and test actual vs predictions\n",
    "plot.scatter(train_target, train_prediction, label='train')\n",
    "plot.scatter(test_target, test_prediction, label='test')\n",
    "plot.legend()\n",
    "plot.show()"
   ]
  },
  {
   "cell_type": "markdown",
   "metadata": {},
   "source": [
    "Random Forest offers variable importance. This means that it will measure how much each feature contributes to our predictions. This is a way to reduce the number of features, particularly when dealing with a very large dataset.  You will then be able to hone in on the important variables (features). \n",
    "\n",
    "Be sure to use the  .feature_importances_ property which is available after you fit a model. It stores the feature importance scores. You will use the indices of the sorted feature importances using np.argsort() to make a bar plot of feature importances (sorted from greatest to least importance)."
   ]
  },
  {
   "cell_type": "code",
   "execution_count": 17,
   "metadata": {},
   "outputs": [
    {
     "data": {
      "text/plain": [
       "Index(['t-12', 't-11', 't-10', 't-9', 't-8', 't-7', 't-6', 't-5', 't-4', 't-3',\n",
       "       't-2', 't-1', 't'],\n",
       "      dtype='object')"
      ]
     },
     "execution_count": 17,
     "metadata": {},
     "output_type": "execute_result"
    }
   ],
   "source": [
    "# Random Forest Feature Importance\n",
    "# get column names\n",
    "df2.columns"
   ]
  },
  {
   "cell_type": "code",
   "execution_count": 18,
   "metadata": {},
   "outputs": [
    {
     "data": {
      "image/png": "[encoded data removed]",
      "text/plain": [
       "<Figure size 432x288 with 1 Axes>"
      ]
     },
     "metadata": {
      "needs_background": "light"
     },
     "output_type": "display_data"
    }
   ],
   "source": [
    "# Get feature importances from our random forest model\n",
    "importances = rfr.feature_importances_\n",
    "\n",
    "# Get the index of importances from greatest importance to least\n",
    "sorted_index = np.argsort(importances)[::-1]\n",
    "x = range(len(importances))\n",
    "\n",
    "# Create tick labels \n",
    "feature_names = ['t-12', 't-11', 't-10', 't-9', 't-8', 't-7', 't-6', 't-5', 't-4', 't-3',\n",
    "       't-2', 't-1']\n",
    "labels = np.array(feature_names)[sorted_index]\n",
    "plot.bar(x, importances[sorted_index], tick_label=labels)\n",
    "\n",
    "# Rotate tick labels to vertical\n",
    "plot.xticks(rotation=90)\n",
    "plot.show()"
   ]
  },
  {
   "cell_type": "markdown",
   "metadata": {},
   "source": [
    "Here, we can see how much each lag variable gives in explanatory power. It shows the explanatory power for each lag in sorted order.  It is similiar to the autocorrelation plot."
   ]
  },
  {
   "cell_type": "code",
   "execution_count": null,
   "metadata": {},
   "outputs": [],
   "source": []
  },
  {
   "cell_type": "markdown",
   "metadata": {},
   "source": [
    "## Example 3: Bank of America Dataset"
   ]
  },
  {
   "cell_type": "code",
   "execution_count": 19,
   "metadata": {},
   "outputs": [
    {
     "data": {
      "text/html": [
       "<div>\n",
       "<style scoped>\n",
       "    .dataframe tbody tr th:only-of-type {\n",
       "        vertical-align: middle;\n",
       "    }\n",
       "\n",
       "    .dataframe tbody tr th {\n",
       "        vertical-align: top;\n",
       "    }\n",
       "\n",
       "    .dataframe thead th {\n",
       "        text-align: right;\n",
       "    }\n",
       "</style>\n",
       "<table border=\"1\" class=\"dataframe\">\n",
       "  <thead>\n",
       "    <tr style=\"text-align: right;\">\n",
       "      <th></th>\n",
       "      <th>t-12</th>\n",
       "      <th>t-11</th>\n",
       "      <th>t-10</th>\n",
       "      <th>t-9</th>\n",
       "      <th>t-8</th>\n",
       "      <th>t-7</th>\n",
       "      <th>t-6</th>\n",
       "      <th>t-5</th>\n",
       "      <th>t-4</th>\n",
       "      <th>t-3</th>\n",
       "      <th>t-2</th>\n",
       "      <th>t-1</th>\n",
       "      <th>t</th>\n",
       "    </tr>\n",
       "  </thead>\n",
       "  <tbody>\n",
       "    <tr>\n",
       "      <td>0</td>\n",
       "      <td>1.687537</td>\n",
       "      <td>1.469485</td>\n",
       "      <td>1.441042</td>\n",
       "      <td>1.525887</td>\n",
       "      <td>1.476664</td>\n",
       "      <td>1.412676</td>\n",
       "      <td>1.341841</td>\n",
       "      <td>0.879137</td>\n",
       "      <td>0.709480</td>\n",
       "      <td>0.987102</td>\n",
       "      <td>1.002662</td>\n",
       "      <td>1.232781</td>\n",
       "      <td>1.282093</td>\n",
       "    </tr>\n",
       "    <tr>\n",
       "      <td>1</td>\n",
       "      <td>1.469485</td>\n",
       "      <td>1.441042</td>\n",
       "      <td>1.525887</td>\n",
       "      <td>1.476664</td>\n",
       "      <td>1.412676</td>\n",
       "      <td>1.341841</td>\n",
       "      <td>0.879137</td>\n",
       "      <td>0.709480</td>\n",
       "      <td>0.987102</td>\n",
       "      <td>1.002662</td>\n",
       "      <td>1.232781</td>\n",
       "      <td>1.282093</td>\n",
       "      <td>1.595426</td>\n",
       "    </tr>\n",
       "    <tr>\n",
       "      <td>2</td>\n",
       "      <td>1.441042</td>\n",
       "      <td>1.525887</td>\n",
       "      <td>1.476664</td>\n",
       "      <td>1.412676</td>\n",
       "      <td>1.341841</td>\n",
       "      <td>0.879137</td>\n",
       "      <td>0.709480</td>\n",
       "      <td>0.987102</td>\n",
       "      <td>1.002662</td>\n",
       "      <td>1.232781</td>\n",
       "      <td>1.282093</td>\n",
       "      <td>1.595426</td>\n",
       "      <td>1.699101</td>\n",
       "    </tr>\n",
       "    <tr>\n",
       "      <td>3</td>\n",
       "      <td>1.525887</td>\n",
       "      <td>1.476664</td>\n",
       "      <td>1.412676</td>\n",
       "      <td>1.341841</td>\n",
       "      <td>0.879137</td>\n",
       "      <td>0.709480</td>\n",
       "      <td>0.987102</td>\n",
       "      <td>1.002662</td>\n",
       "      <td>1.232781</td>\n",
       "      <td>1.282093</td>\n",
       "      <td>1.595426</td>\n",
       "      <td>1.699101</td>\n",
       "      <td>1.941008</td>\n",
       "    </tr>\n",
       "    <tr>\n",
       "      <td>4</td>\n",
       "      <td>1.476664</td>\n",
       "      <td>1.412676</td>\n",
       "      <td>1.341841</td>\n",
       "      <td>0.879137</td>\n",
       "      <td>0.709480</td>\n",
       "      <td>0.987102</td>\n",
       "      <td>1.002662</td>\n",
       "      <td>1.232781</td>\n",
       "      <td>1.282093</td>\n",
       "      <td>1.595426</td>\n",
       "      <td>1.699101</td>\n",
       "      <td>1.941008</td>\n",
       "      <td>1.707245</td>\n",
       "    </tr>\n",
       "  </tbody>\n",
       "</table>\n",
       "</div>"
      ],
      "text/plain": [
       "       t-12      t-11      t-10       t-9       t-8       t-7       t-6  \\\n",
       "0  1.687537  1.469485  1.441042  1.525887  1.476664  1.412676  1.341841   \n",
       "1  1.469485  1.441042  1.525887  1.476664  1.412676  1.341841  0.879137   \n",
       "2  1.441042  1.525887  1.476664  1.412676  1.341841  0.879137  0.709480   \n",
       "3  1.525887  1.476664  1.412676  1.341841  0.879137  0.709480  0.987102   \n",
       "4  1.476664  1.412676  1.341841  0.879137  0.709480  0.987102  1.002662   \n",
       "\n",
       "        t-5       t-4       t-3       t-2       t-1         t  \n",
       "0  0.879137  0.709480  0.987102  1.002662  1.232781  1.282093  \n",
       "1  0.709480  0.987102  1.002662  1.232781  1.282093  1.595426  \n",
       "2  0.987102  1.002662  1.232781  1.282093  1.595426  1.699101  \n",
       "3  1.002662  1.232781  1.282093  1.595426  1.699101  1.941008  \n",
       "4  1.232781  1.282093  1.595426  1.699101  1.941008  1.707245  "
      ]
     },
     "execution_count": 19,
     "metadata": {},
     "output_type": "execute_result"
    }
   ],
   "source": [
    "# load data, this data has been stationarized\n",
    "df3 = pd.read_csv('~/Desktop/section_4/bac_lags_12months_features.csv', header=0)\n",
    "df3.head()"
   ]
  },
  {
   "cell_type": "code",
   "execution_count": 20,
   "metadata": {},
   "outputs": [],
   "source": [
    "# Split Data\n",
    "\n",
    "bac = df3.values\n",
    "# split into lagged variables (features) and original time series data (target)\n",
    "X3= bac[:,0:-1]  # slice all rows and start with column 0 and go up to but not including the last column\n",
    "y3 = bac[:,-1]  # slice all rows and last column, essentially separating out 't' column"
   ]
  },
  {
   "cell_type": "code",
   "execution_count": 21,
   "metadata": {},
   "outputs": [
    {
     "data": {
      "text/plain": [
       "array([1.28209293, 1.59542644, 1.69910097, 1.94100773, 1.70724475,\n",
       "       1.65948939, 1.91634405, 1.76750135, 1.85432637, 1.70548344])"
      ]
     },
     "execution_count": 21,
     "metadata": {},
     "output_type": "execute_result"
    }
   ],
   "source": [
    "# Column t, which is the original time series\n",
    "# Give first 10 values of target variable, time series\n",
    "y3[0:10]"
   ]
  },
  {
   "cell_type": "code",
   "execution_count": 22,
   "metadata": {},
   "outputs": [
    {
     "name": "stdout",
     "output_type": "stream",
     "text": [
      "Observations for Target: 345\n",
      "Training Observations for Target: 258\n",
      "Testing Observations for Target: 87\n"
     ]
    }
   ],
   "source": [
    "# Target Train-Test split\n",
    "from pandas import read_csv\n",
    "\n",
    "Y3 = y3\n",
    "traintarget_size = int(len(Y3) * 0.75)   # Set split\n",
    "train_target, test_target = Y3[0:traintarget_size], Y3[traintarget_size:len(Y3)]\n",
    "\n",
    "print('Observations for Target: %d' % (len(Y3)))\n",
    "print('Training Observations for Target: %d' % (len(train_target)))\n",
    "print('Testing Observations for Target: %d' % (len(test_target)))"
   ]
  },
  {
   "cell_type": "code",
   "execution_count": 23,
   "metadata": {},
   "outputs": [
    {
     "name": "stdout",
     "output_type": "stream",
     "text": [
      "Observations for feature: 345\n",
      "Training Observations for feature: 258\n",
      "Testing Observations for feature: 87\n"
     ]
    }
   ],
   "source": [
    "# Features Train-Test split\n",
    "\n",
    "trainfeature_size = int(len(X3) * 0.75)\n",
    "train_feature, test_feature = X3[0:trainfeature_size], X3[trainfeature_size:len(X3)]\n",
    "print('Observations for feature: %d' % (len(X3)))\n",
    "print('Training Observations for feature: %d' % (len(train_feature)))\n",
    "print('Testing Observations for feature: %d' % (len(test_feature)))"
   ]
  },
  {
   "cell_type": "code",
   "execution_count": 24,
   "metadata": {},
   "outputs": [
    {
     "name": "stdout",
     "output_type": "stream",
     "text": [
      "0.9958364803460175\n",
      "0.949064720871019\n"
     ]
    }
   ],
   "source": [
    "# Random Forest Model\n",
    "from sklearn.ensemble import RandomForestRegressor\n",
    "\n",
    "# Create the random forest model and fit to the training data\n",
    "rfr = RandomForestRegressor(n_estimators=200)\n",
    "rfr.fit(train_feature, train_target)\n",
    "\n",
    "# Look at the R^2 scores on train and test\n",
    "print(rfr.score(train_feature, train_target))\n",
    "print(rfr.score(test_feature, test_target))  # Try to attain a positive value"
   ]
  },
  {
   "cell_type": "code",
   "execution_count": 25,
   "metadata": {},
   "outputs": [
    {
     "name": "stdout",
     "output_type": "stream",
     "text": [
      "0.956948680986422 {'random_state': 13, 'n_estimators': 200, 'max_features': 8, 'max_depth': 4}\n"
     ]
    }
   ],
   "source": [
    "# Note: This cell will take some time to run\n",
    "#  https://scikit-learn.org/stable/modules/generated/sklearn.ensemble.RandomForestRegressor.html\n",
    "from sklearn.model_selection import ParameterGrid\n",
    "import numpy as np\n",
    "\n",
    "# Create a dictionary of hyperparameters to search\n",
    "# n_estimators is the number of trees in the forest. The larger the better, \n",
    "# but also the longer it will take to compute. \n",
    "# Run grid search\n",
    "# grid = {'n_estimators': [200], 'max_depth': [2, 3, 4, 5, 6, 7, 8, 9, 10], 'max_features': [2, 3, 4, 5, 6, 7, 8, 9, 10, 11, 12], 'random_state': [13]}\n",
    "grid = {'n_estimators': [200], 'max_depth': [4], 'max_features': [8], 'random_state': [13]}\n",
    "test_scores = []\n",
    "\n",
    "# Loop through the parameter grid, set the hyperparameters, and save the scores\n",
    "for g in ParameterGrid(grid):\n",
    "    rfr.set_params(**g)  # ** is \"unpacking\" the dictionary\n",
    "    rfr.fit(train_feature, train_target)\n",
    "    test_scores.append(rfr.score(test_feature, test_target))\n",
    "\n",
    "# Find best hyperparameters from the test score and print\n",
    "best_idx = np.argmax(test_scores)\n",
    "print(test_scores[best_idx], ParameterGrid(grid)[best_idx])  # You don't want negative value\n",
    "\n",
    "# The best test score"
   ]
  },
  {
   "cell_type": "code",
   "execution_count": 26,
   "metadata": {},
   "outputs": [
    {
     "data": {
      "image/png": "[encoded data removed]",
      "text/plain": [
       "<Figure size 432x288 with 1 Axes>"
      ]
     },
     "metadata": {
      "needs_background": "light"
     },
     "output_type": "display_data"
    }
   ],
   "source": [
    "# Use the best hyperparameters from before to fit a random forest model\n",
    "rfr = RandomForestRegressor(n_estimators=200, max_depth=4, max_features = 8, random_state=13)\n",
    "rfr.fit(train_feature, train_target)\n",
    "\n",
    "# Make predictions with our model\n",
    "train_prediction = rfr.predict(train_feature)\n",
    "test_prediction = rfr.predict(test_feature)\n",
    "\n",
    "# Create a scatter plot with train and test actual vs predictions\n",
    "plot.scatter(train_target, train_prediction, label='train')\n",
    "plot.scatter(test_target, test_prediction, label='test')\n",
    "plot.legend()\n",
    "plot.show()"
   ]
  },
  {
   "cell_type": "code",
   "execution_count": 27,
   "metadata": {},
   "outputs": [
    {
     "data": {
      "text/plain": [
       "Index(['t-12', 't-11', 't-10', 't-9', 't-8', 't-7', 't-6', 't-5', 't-4', 't-3',\n",
       "       't-2', 't-1', 't'],\n",
       "      dtype='object')"
      ]
     },
     "execution_count": 27,
     "metadata": {},
     "output_type": "execute_result"
    }
   ],
   "source": [
    "# Random Forest Feature Importance\n",
    "# get column names\n",
    "df3.columns"
   ]
  },
  {
   "cell_type": "code",
   "execution_count": 28,
   "metadata": {},
   "outputs": [
    {
     "data": {
      "image/png": "[encoded data removed]",
      "text/plain": [
       "<Figure size 432x288 with 1 Axes>"
      ]
     },
     "metadata": {
      "needs_background": "light"
     },
     "output_type": "display_data"
    }
   ],
   "source": [
    "# Get feature importances from our random forest model\n",
    "importances = rfr.feature_importances_\n",
    "\n",
    "# Get the index of importances from greatest importance to least\n",
    "sorted_index = np.argsort(importances)[::-1]\n",
    "x = range(len(importances))\n",
    "\n",
    "# Create tick labels \n",
    "feature_names = ['t-12', 't-11', 't-10', 't-9', 't-8', 't-7', 't-6', 't-5', 't-4', 't-3',\n",
    "       't-2', 't-1']\n",
    "labels = np.array(feature_names)[sorted_index]\n",
    "plot.bar(x, importances[sorted_index], tick_label=labels)\n",
    "\n",
    "# Rotate tick labels to vertical\n",
    "plot.xticks(rotation=90)\n",
    "plot.show()"
   ]
  },
  {
   "cell_type": "markdown",
   "metadata": {},
   "source": [
    "## Example 4: J.P. Morgan Dataset"
   ]
  },
  {
   "cell_type": "code",
   "execution_count": 29,
   "metadata": {},
   "outputs": [
    {
     "data": {
      "text/html": [
       "<div>\n",
       "<style scoped>\n",
       "    .dataframe tbody tr th:only-of-type {\n",
       "        vertical-align: middle;\n",
       "    }\n",
       "\n",
       "    .dataframe tbody tr th {\n",
       "        vertical-align: top;\n",
       "    }\n",
       "\n",
       "    .dataframe thead th {\n",
       "        text-align: right;\n",
       "    }\n",
       "</style>\n",
       "<table border=\"1\" class=\"dataframe\">\n",
       "  <thead>\n",
       "    <tr style=\"text-align: right;\">\n",
       "      <th></th>\n",
       "      <th>t-12</th>\n",
       "      <th>t-11</th>\n",
       "      <th>t-10</th>\n",
       "      <th>t-9</th>\n",
       "      <th>t-8</th>\n",
       "      <th>t-7</th>\n",
       "      <th>t-6</th>\n",
       "      <th>t-5</th>\n",
       "      <th>t-4</th>\n",
       "      <th>t-3</th>\n",
       "      <th>t-2</th>\n",
       "      <th>t-1</th>\n",
       "      <th>t</th>\n",
       "    </tr>\n",
       "  </thead>\n",
       "  <tbody>\n",
       "    <tr>\n",
       "      <td>0</td>\n",
       "      <td>3.083579</td>\n",
       "      <td>2.884144</td>\n",
       "      <td>2.884144</td>\n",
       "      <td>3.377686</td>\n",
       "      <td>3.223591</td>\n",
       "      <td>2.907553</td>\n",
       "      <td>2.733733</td>\n",
       "      <td>2.019471</td>\n",
       "      <td>1.319170</td>\n",
       "      <td>1.482032</td>\n",
       "      <td>1.427535</td>\n",
       "      <td>1.742920</td>\n",
       "      <td>2.191100</td>\n",
       "    </tr>\n",
       "    <tr>\n",
       "      <td>1</td>\n",
       "      <td>2.884144</td>\n",
       "      <td>2.884144</td>\n",
       "      <td>3.377686</td>\n",
       "      <td>3.223591</td>\n",
       "      <td>2.907553</td>\n",
       "      <td>2.733733</td>\n",
       "      <td>2.019471</td>\n",
       "      <td>1.319170</td>\n",
       "      <td>1.482032</td>\n",
       "      <td>1.427535</td>\n",
       "      <td>1.742920</td>\n",
       "      <td>2.191100</td>\n",
       "      <td>2.340254</td>\n",
       "    </tr>\n",
       "    <tr>\n",
       "      <td>2</td>\n",
       "      <td>2.884144</td>\n",
       "      <td>3.377686</td>\n",
       "      <td>3.223591</td>\n",
       "      <td>2.907553</td>\n",
       "      <td>2.733733</td>\n",
       "      <td>2.019471</td>\n",
       "      <td>1.319170</td>\n",
       "      <td>1.482032</td>\n",
       "      <td>1.427535</td>\n",
       "      <td>1.742920</td>\n",
       "      <td>2.191100</td>\n",
       "      <td>2.340254</td>\n",
       "      <td>2.761165</td>\n",
       "    </tr>\n",
       "    <tr>\n",
       "      <td>3</td>\n",
       "      <td>3.377686</td>\n",
       "      <td>3.223591</td>\n",
       "      <td>2.907553</td>\n",
       "      <td>2.733733</td>\n",
       "      <td>2.019471</td>\n",
       "      <td>1.319170</td>\n",
       "      <td>1.482032</td>\n",
       "      <td>1.427535</td>\n",
       "      <td>1.742920</td>\n",
       "      <td>2.191100</td>\n",
       "      <td>2.340254</td>\n",
       "      <td>2.761165</td>\n",
       "      <td>2.879019</td>\n",
       "    </tr>\n",
       "    <tr>\n",
       "      <td>4</td>\n",
       "      <td>3.223591</td>\n",
       "      <td>2.907553</td>\n",
       "      <td>2.733733</td>\n",
       "      <td>2.019471</td>\n",
       "      <td>1.319170</td>\n",
       "      <td>1.482032</td>\n",
       "      <td>1.427535</td>\n",
       "      <td>1.742920</td>\n",
       "      <td>2.191100</td>\n",
       "      <td>2.340254</td>\n",
       "      <td>2.761165</td>\n",
       "      <td>2.879019</td>\n",
       "      <td>2.909008</td>\n",
       "    </tr>\n",
       "  </tbody>\n",
       "</table>\n",
       "</div>"
      ],
      "text/plain": [
       "       t-12      t-11      t-10       t-9       t-8       t-7       t-6  \\\n",
       "0  3.083579  2.884144  2.884144  3.377686  3.223591  2.907553  2.733733   \n",
       "1  2.884144  2.884144  3.377686  3.223591  2.907553  2.733733  2.019471   \n",
       "2  2.884144  3.377686  3.223591  2.907553  2.733733  2.019471  1.319170   \n",
       "3  3.377686  3.223591  2.907553  2.733733  2.019471  1.319170  1.482032   \n",
       "4  3.223591  2.907553  2.733733  2.019471  1.319170  1.482032  1.427535   \n",
       "\n",
       "        t-5       t-4       t-3       t-2       t-1         t  \n",
       "0  2.019471  1.319170  1.482032  1.427535  1.742920  2.191100  \n",
       "1  1.319170  1.482032  1.427535  1.742920  2.191100  2.340254  \n",
       "2  1.482032  1.427535  1.742920  2.191100  2.340254  2.761165  \n",
       "3  1.427535  1.742920  2.191100  2.340254  2.761165  2.879019  \n",
       "4  1.742920  2.191100  2.340254  2.761165  2.879019  2.909008  "
      ]
     },
     "execution_count": 29,
     "metadata": {},
     "output_type": "execute_result"
    }
   ],
   "source": [
    "# load data\n",
    "df4 = pd.read_csv('~/Desktop/section_4/jpm_lags_12months_features.csv', header=0)\n",
    "df4.head()"
   ]
  },
  {
   "cell_type": "code",
   "execution_count": 30,
   "metadata": {},
   "outputs": [],
   "source": [
    "# split data\n",
    "\n",
    "jpm = df4.values\n",
    "# split into lagged variables and original time series\n",
    "X4= jpm[:, 0:-1]  # slice all rows and start with column 0 and go up to but not including the last column\n",
    "y4 = jpm[:,-1]  # slice all rows and last column, essentially separating out 't' column"
   ]
  },
  {
   "cell_type": "code",
   "execution_count": null,
   "metadata": {},
   "outputs": [],
   "source": [
    "# Columns t-1 to t-12, which are the lagged variables\n",
    "# X4"
   ]
  },
  {
   "cell_type": "code",
   "execution_count": null,
   "metadata": {},
   "outputs": [],
   "source": [
    "# Column t, which is the original time series\n",
    "# y4[0:10]"
   ]
  },
  {
   "cell_type": "code",
   "execution_count": 31,
   "metadata": {},
   "outputs": [
    {
     "name": "stdout",
     "output_type": "stream",
     "text": [
      "Observations for Target: 345\n",
      "Training Observations for Target: 276\n",
      "Testing Observations for Target: 69\n"
     ]
    }
   ],
   "source": [
    "# Target Train-Test split\n",
    "from pandas import read_csv\n",
    "\n",
    "Y4 = y4\n",
    "traintarget_size = int(len(Y4) * 0.80)   # Set split\n",
    "train_target, test_target = Y4[0:traintarget_size], Y4[traintarget_size:len(Y4)]\n",
    "\n",
    "print('Observations for Target: %d' % (len(Y4)))\n",
    "print('Training Observations for Target: %d' % (len(train_target)))\n",
    "print('Testing Observations for Target: %d' % (len(test_target)))"
   ]
  },
  {
   "cell_type": "code",
   "execution_count": 32,
   "metadata": {},
   "outputs": [
    {
     "name": "stdout",
     "output_type": "stream",
     "text": [
      "Observations for feature: 345\n",
      "Training Observations for feature: 276\n",
      "Testing Observations for feature: 69\n"
     ]
    }
   ],
   "source": [
    "# Features Train-Test split\n",
    "\n",
    "trainfeature_size = int(len(X4) * 0.80)\n",
    "train_feature, test_feature = X4[0:trainfeature_size], X4[trainfeature_size:len(X4)]\n",
    "print('Observations for feature: %d' % (len(X4)))\n",
    "print('Training Observations for feature: %d' % (len(train_feature)))\n",
    "print('Testing Observations for feature: %d' % (len(test_feature)))"
   ]
  },
  {
   "cell_type": "code",
   "execution_count": 33,
   "metadata": {},
   "outputs": [
    {
     "name": "stdout",
     "output_type": "stream",
     "text": [
      "0.9948496152001673\n",
      "-1.6135598659777242\n"
     ]
    }
   ],
   "source": [
    "# Random Forest Model\n",
    "from sklearn.ensemble import RandomForestRegressor\n",
    "\n",
    "# Create the random forest model and fit to the training data\n",
    "rfr = RandomForestRegressor(n_estimators=200)\n",
    "rfr.fit(train_feature, train_target)\n",
    "\n",
    "# Look at the R^2 scores on train and test\n",
    "print(rfr.score(train_feature, train_target))\n",
    "print(rfr.score(test_feature, test_target))  # Try to attain a positive value"
   ]
  },
  {
   "cell_type": "code",
   "execution_count": 34,
   "metadata": {},
   "outputs": [
    {
     "name": "stdout",
     "output_type": "stream",
     "text": [
      "-1.5603710361856487 {'random_state': 13, 'n_estimators': 200, 'max_features': 3, 'max_depth': 7}\n"
     ]
    }
   ],
   "source": [
    "# Note: This cell will take some time to run\n",
    "#  https://scikit-learn.org/stable/modules/generated/sklearn.ensemble.RandomForestRegressor.html\n",
    "from sklearn.model_selection import ParameterGrid\n",
    "import numpy as np\n",
    "\n",
    "# Create a dictionary of hyperparameters to search\n",
    "# n_estimators is the number of trees in the forest. The larger the better, \n",
    "# but also the longer it will take to compute. \n",
    "\n",
    "# Run grid search\n",
    "# grid = {'n_estimators': [200], 'max_depth': [2, 3, 4, 5, 6, 7, 8, 9, 10], 'max_features': [2, 3, 4, 5, 6, 7, 8, 9, 10, 11, 12], 'random_state': [13]}\n",
    "grid = {'n_estimators': [200], 'max_depth': [7], 'max_features': [3], 'random_state': [13]}\n",
    "\n",
    "test_scores = []\n",
    "\n",
    "# Loop through the parameter grid, set the hyperparameters, and save the scores\n",
    "for g in ParameterGrid(grid):\n",
    "    rfr.set_params(**g)  # ** is \"unpacking\" the dictionary\n",
    "    rfr.fit(train_feature, train_target)\n",
    "    test_scores.append(rfr.score(test_feature, test_target))\n",
    "\n",
    "# Find best hyperparameters from the test score and print\n",
    "best_idx = np.argmax(test_scores)\n",
    "print(test_scores[best_idx], ParameterGrid(grid)[best_idx])  # You don't want negative value\n",
    "\n",
    "# The best test score"
   ]
  },
  {
   "cell_type": "code",
   "execution_count": 35,
   "metadata": {},
   "outputs": [
    {
     "data": {
      "image/png": "[encoded data removed]",
      "text/plain": [
       "<Figure size 432x288 with 1 Axes>"
      ]
     },
     "metadata": {
      "needs_background": "light"
     },
     "output_type": "display_data"
    }
   ],
   "source": [
    "# Use the best hyperparameters from before to fit a random forest model\n",
    "rfr = RandomForestRegressor(n_estimators=200, max_depth=7, max_features = 3, random_state=13)\n",
    "rfr.fit(train_feature, train_target)\n",
    "\n",
    "# Make predictions with our model\n",
    "train_prediction = rfr.predict(train_feature)\n",
    "test_prediction = rfr.predict(test_feature)\n",
    "\n",
    "# Create a scatter plot with train and test actual vs predictions\n",
    "plot.scatter(train_target, train_prediction, label='train')\n",
    "plot.scatter(test_target, test_prediction, label='test')\n",
    "plot.legend()\n",
    "plot.show()"
   ]
  },
  {
   "cell_type": "code",
   "execution_count": 36,
   "metadata": {},
   "outputs": [
    {
     "data": {
      "text/plain": [
       "Index(['t-12', 't-11', 't-10', 't-9', 't-8', 't-7', 't-6', 't-5', 't-4', 't-3',\n",
       "       't-2', 't-1', 't'],\n",
       "      dtype='object')"
      ]
     },
     "execution_count": 36,
     "metadata": {},
     "output_type": "execute_result"
    }
   ],
   "source": [
    "# Random Forest Feature Importance\n",
    "# get column names\n",
    "df4.columns"
   ]
  },
  {
   "cell_type": "code",
   "execution_count": 37,
   "metadata": {},
   "outputs": [
    {
     "data": {
      "image/png": "[encoded data removed]",
      "text/plain": [
       "<Figure size 432x288 with 1 Axes>"
      ]
     },
     "metadata": {
      "needs_background": "light"
     },
     "output_type": "display_data"
    }
   ],
   "source": [
    "# Get feature importances from our random forest model\n",
    "importances = rfr.feature_importances_\n",
    "\n",
    "# Get the index of importances from greatest importance to least\n",
    "sorted_index = np.argsort(importances)[::-1]\n",
    "x = range(len(importances))\n",
    "\n",
    "# Create tick labels \n",
    "feature_names = ['t-12', 't-11', 't-10', 't-9', 't-8', 't-7', 't-6', 't-5', 't-4', 't-3',\n",
    "       't-2', 't-1']\n",
    "labels = np.array(feature_names)[sorted_index]\n",
    "plot.bar(x, importances[sorted_index], tick_label=labels)\n",
    "\n",
    "# Rotate tick labels to vertical\n",
    "plot.xticks(rotation=90)\n",
    "plot.show()"
   ]
  },
  {
   "cell_type": "markdown",
   "metadata": {},
   "source": [
    "## Example 5: Average Temperature Dataset"
   ]
  },
  {
   "cell_type": "code",
   "execution_count": 38,
   "metadata": {},
   "outputs": [
    {
     "data": {
      "text/html": [
       "<div>\n",
       "<style scoped>\n",
       "    .dataframe tbody tr th:only-of-type {\n",
       "        vertical-align: middle;\n",
       "    }\n",
       "\n",
       "    .dataframe tbody tr th {\n",
       "        vertical-align: top;\n",
       "    }\n",
       "\n",
       "    .dataframe thead th {\n",
       "        text-align: right;\n",
       "    }\n",
       "</style>\n",
       "<table border=\"1\" class=\"dataframe\">\n",
       "  <thead>\n",
       "    <tr style=\"text-align: right;\">\n",
       "      <th></th>\n",
       "      <th>t-12</th>\n",
       "      <th>t-11</th>\n",
       "      <th>t-10</th>\n",
       "      <th>t-9</th>\n",
       "      <th>t-8</th>\n",
       "      <th>t-7</th>\n",
       "      <th>t-6</th>\n",
       "      <th>t-5</th>\n",
       "      <th>t-4</th>\n",
       "      <th>t-3</th>\n",
       "      <th>t-2</th>\n",
       "      <th>t-1</th>\n",
       "      <th>t</th>\n",
       "    </tr>\n",
       "  </thead>\n",
       "  <tbody>\n",
       "    <tr>\n",
       "      <td>0</td>\n",
       "      <td>8.250412</td>\n",
       "      <td>17.050412</td>\n",
       "      <td>23.950412</td>\n",
       "      <td>24.850412</td>\n",
       "      <td>15.650412</td>\n",
       "      <td>6.550412</td>\n",
       "      <td>-10.549588</td>\n",
       "      <td>-21.549588</td>\n",
       "      <td>-18.749588</td>\n",
       "      <td>-23.749588</td>\n",
       "      <td>-9.749588</td>\n",
       "      <td>-4.349588</td>\n",
       "      <td>11.750412</td>\n",
       "    </tr>\n",
       "    <tr>\n",
       "      <td>1</td>\n",
       "      <td>17.050412</td>\n",
       "      <td>23.950412</td>\n",
       "      <td>24.850412</td>\n",
       "      <td>15.650412</td>\n",
       "      <td>6.550412</td>\n",
       "      <td>-10.549588</td>\n",
       "      <td>-21.549588</td>\n",
       "      <td>-18.749588</td>\n",
       "      <td>-23.749588</td>\n",
       "      <td>-9.749588</td>\n",
       "      <td>-4.349588</td>\n",
       "      <td>11.750412</td>\n",
       "      <td>19.150412</td>\n",
       "    </tr>\n",
       "    <tr>\n",
       "      <td>2</td>\n",
       "      <td>23.950412</td>\n",
       "      <td>24.850412</td>\n",
       "      <td>15.650412</td>\n",
       "      <td>6.550412</td>\n",
       "      <td>-10.549588</td>\n",
       "      <td>-21.549588</td>\n",
       "      <td>-18.749588</td>\n",
       "      <td>-23.749588</td>\n",
       "      <td>-9.749588</td>\n",
       "      <td>-4.349588</td>\n",
       "      <td>11.750412</td>\n",
       "      <td>19.150412</td>\n",
       "      <td>23.250412</td>\n",
       "    </tr>\n",
       "    <tr>\n",
       "      <td>3</td>\n",
       "      <td>24.850412</td>\n",
       "      <td>15.650412</td>\n",
       "      <td>6.550412</td>\n",
       "      <td>-10.549588</td>\n",
       "      <td>-21.549588</td>\n",
       "      <td>-18.749588</td>\n",
       "      <td>-23.749588</td>\n",
       "      <td>-9.749588</td>\n",
       "      <td>-4.349588</td>\n",
       "      <td>11.750412</td>\n",
       "      <td>19.150412</td>\n",
       "      <td>23.250412</td>\n",
       "      <td>19.250412</td>\n",
       "    </tr>\n",
       "    <tr>\n",
       "      <td>4</td>\n",
       "      <td>15.650412</td>\n",
       "      <td>6.550412</td>\n",
       "      <td>-10.549588</td>\n",
       "      <td>-21.549588</td>\n",
       "      <td>-18.749588</td>\n",
       "      <td>-23.749588</td>\n",
       "      <td>-9.749588</td>\n",
       "      <td>-4.349588</td>\n",
       "      <td>11.750412</td>\n",
       "      <td>19.150412</td>\n",
       "      <td>23.250412</td>\n",
       "      <td>19.250412</td>\n",
       "      <td>18.750412</td>\n",
       "    </tr>\n",
       "  </tbody>\n",
       "</table>\n",
       "</div>"
      ],
      "text/plain": [
       "        t-12       t-11       t-10        t-9        t-8        t-7  \\\n",
       "0   8.250412  17.050412  23.950412  24.850412  15.650412   6.550412   \n",
       "1  17.050412  23.950412  24.850412  15.650412   6.550412 -10.549588   \n",
       "2  23.950412  24.850412  15.650412   6.550412 -10.549588 -21.549588   \n",
       "3  24.850412  15.650412   6.550412 -10.549588 -21.549588 -18.749588   \n",
       "4  15.650412   6.550412 -10.549588 -21.549588 -18.749588 -23.749588   \n",
       "\n",
       "         t-6        t-5        t-4        t-3        t-2        t-1          t  \n",
       "0 -10.549588 -21.549588 -18.749588 -23.749588  -9.749588  -4.349588  11.750412  \n",
       "1 -21.549588 -18.749588 -23.749588  -9.749588  -4.349588  11.750412  19.150412  \n",
       "2 -18.749588 -23.749588  -9.749588  -4.349588  11.750412  19.150412  23.250412  \n",
       "3 -23.749588  -9.749588  -4.349588  11.750412  19.150412  23.250412  19.250412  \n",
       "4  -9.749588  -4.349588  11.750412  19.150412  23.250412  19.250412  18.750412  "
      ]
     },
     "execution_count": 38,
     "metadata": {},
     "output_type": "execute_result"
    }
   ],
   "source": [
    "# load data\n",
    "df5 = pd.read_csv('~/Desktop/section_4/temp_lags_12months_features.csv', header=0)\n",
    "df5.head()"
   ]
  },
  {
   "cell_type": "code",
   "execution_count": 39,
   "metadata": {},
   "outputs": [],
   "source": [
    "temp = df5.values\n",
    "# split into lagged variables and original time series\n",
    "X5= temp[:,0:-1]  # slice all rows and start with column 0 and go up to but not including the last column\n",
    "y5 = temp[:,-1]  # slice all rows and last column, essentially separating out 't' column"
   ]
  },
  {
   "cell_type": "code",
   "execution_count": null,
   "metadata": {},
   "outputs": [],
   "source": [
    "# Columns t-1 to t-12, which are the lagged variables\n",
    "# X5"
   ]
  },
  {
   "cell_type": "code",
   "execution_count": null,
   "metadata": {},
   "outputs": [],
   "source": [
    "# Column t, which is the original time series\n",
    "# y5[0:10]"
   ]
  },
  {
   "cell_type": "code",
   "execution_count": 40,
   "metadata": {},
   "outputs": [
    {
     "name": "stdout",
     "output_type": "stream",
     "text": [
      "Observations for Target: 957\n",
      "Training Observations for Target: 765\n",
      "Testing Observations for Target: 192\n"
     ]
    }
   ],
   "source": [
    "# Target Train-Test split\n",
    "from pandas import read_csv\n",
    "\n",
    "Y5 = y5\n",
    "traintarget_size = int(len(Y5) * 0.80)   # Set split\n",
    "train_target, test_target = Y5[0:traintarget_size], Y5[traintarget_size:len(Y5)]\n",
    "\n",
    "print('Observations for Target: %d' % (len(Y5)))\n",
    "print('Training Observations for Target: %d' % (len(train_target)))\n",
    "print('Testing Observations for Target: %d' % (len(test_target)))"
   ]
  },
  {
   "cell_type": "code",
   "execution_count": 41,
   "metadata": {},
   "outputs": [
    {
     "name": "stdout",
     "output_type": "stream",
     "text": [
      "Observations for feature: 957\n",
      "Training Observations for feature: 765\n",
      "Testing Observations for feature: 192\n"
     ]
    }
   ],
   "source": [
    "# Features Train-Test split\n",
    "\n",
    "trainfeature_size = int(len(X5) * 0.80)\n",
    "train_feature, test_feature = X5[0:trainfeature_size], X5[trainfeature_size:len(X5)]\n",
    "print('Observations for feature: %d' % (len(X5)))\n",
    "print('Training Observations for feature: %d' % (len(train_feature)))\n",
    "print('Testing Observations for feature: %d' % (len(test_feature)))"
   ]
  },
  {
   "cell_type": "code",
   "execution_count": 42,
   "metadata": {},
   "outputs": [
    {
     "name": "stdout",
     "output_type": "stream",
     "text": [
      "0.9921215597475965\n",
      "0.9381719818821498\n"
     ]
    }
   ],
   "source": [
    "# Random Forest Model\n",
    "from sklearn.ensemble import RandomForestRegressor\n",
    "\n",
    "# Create the random forest model and fit to the training data\n",
    "rfr = RandomForestRegressor(n_estimators=200)\n",
    "rfr.fit(train_feature, train_target)\n",
    "\n",
    "# Look at the R^2 scores on train and test\n",
    "print(rfr.score(train_feature, train_target))\n",
    "print(rfr.score(test_feature, test_target))  # Try to attain a positive value"
   ]
  },
  {
   "cell_type": "code",
   "execution_count": 43,
   "metadata": {},
   "outputs": [
    {
     "name": "stdout",
     "output_type": "stream",
     "text": [
      "0.928897863589804 {'random_state': 13, 'n_estimators': 200, 'max_features': 8, 'max_depth': 3}\n"
     ]
    }
   ],
   "source": [
    "# Note: This cell will take some time to run\n",
    "#  https://scikit-learn.org/stable/modules/generated/sklearn.ensemble.RandomForestRegressor.html\n",
    "from sklearn.model_selection import ParameterGrid\n",
    "import numpy as np\n",
    "\n",
    "# Create a dictionary of hyperparameters to search\n",
    "# n_estimators is the number of trees in the forest. The larger the better, \n",
    "# but also the longer it will take to compute. \n",
    "# Run grid search\n",
    "#grid = {'n_estimators': [200], 'max_depth': [2, 3, 4, 5, 6, 7, 8, 9, 10], 'max_features': [2, 3, 4, 5, 6, 7, 8, 9, 10, 11, 12], 'random_state': [13]}\n",
    "grid = {'n_estimators': [200], 'max_depth': [3], 'max_features': [8], 'random_state': [13]}\n",
    "\n",
    "test_scores = []\n",
    "\n",
    "# Loop through the parameter grid, set the hyperparameters, and save the scores\n",
    "for g in ParameterGrid(grid):\n",
    "    rfr.set_params(**g)  # ** is \"unpacking\" the dictionary\n",
    "    rfr.fit(train_feature, train_target)\n",
    "    test_scores.append(rfr.score(test_feature, test_target))\n",
    "\n",
    "# Find best hyperparameters from the test score and print\n",
    "best_idx = np.argmax(test_scores)\n",
    "print(test_scores[best_idx], ParameterGrid(grid)[best_idx])  # You don't want negative value\n",
    "\n",
    "# The best test score"
   ]
  },
  {
   "cell_type": "code",
   "execution_count": 44,
   "metadata": {},
   "outputs": [
    {
     "data": {
      "image/png": "[encoded data removed]",
      "text/plain": [
       "<Figure size 432x288 with 1 Axes>"
      ]
     },
     "metadata": {
      "needs_background": "light"
     },
     "output_type": "display_data"
    }
   ],
   "source": [
    "# Use the best hyperparameters from before to fit a random forest model\n",
    "rfr = RandomForestRegressor(n_estimators=200, max_depth=3, max_features = 8, random_state=13)\n",
    "rfr.fit(train_feature, train_target)\n",
    "\n",
    "# Make predictions with our model\n",
    "train_prediction = rfr.predict(train_feature)\n",
    "test_prediction = rfr.predict(test_feature)\n",
    "\n",
    "# Create a scatter plot with train and test actual vs predictions\n",
    "plot.scatter(train_target, train_prediction, label='train')\n",
    "plot.scatter(test_target, test_prediction, label='test')\n",
    "plot.legend()\n",
    "plot.show()"
   ]
  },
  {
   "cell_type": "code",
   "execution_count": 45,
   "metadata": {},
   "outputs": [
    {
     "data": {
      "text/plain": [
       "Index(['t-12', 't-11', 't-10', 't-9', 't-8', 't-7', 't-6', 't-5', 't-4', 't-3',\n",
       "       't-2', 't-1', 't'],\n",
       "      dtype='object')"
      ]
     },
     "execution_count": 45,
     "metadata": {},
     "output_type": "execute_result"
    }
   ],
   "source": [
    "# Random Forest Feature Importance\n",
    "# get column names\n",
    "df5.columns"
   ]
  },
  {
   "cell_type": "code",
   "execution_count": 46,
   "metadata": {},
   "outputs": [
    {
     "data": {
      "image/png": "[encoded data removed]",
      "text/plain": [
       "<Figure size 432x288 with 1 Axes>"
      ]
     },
     "metadata": {
      "needs_background": "light"
     },
     "output_type": "display_data"
    }
   ],
   "source": [
    "# Get feature importances from our random forest model\n",
    "importances = rfr.feature_importances_\n",
    "\n",
    "# Get the index of importances from greatest importance to least\n",
    "sorted_index = np.argsort(importances)[::-1]\n",
    "x = range(len(importances))\n",
    "\n",
    "# Create tick labels \n",
    "feature_names = ['t-12', 't-11', 't-10', 't-9', 't-8', 't-7', 't-6', 't-5', 't-4', 't-3',\n",
    "       't-2', 't-1']\n",
    "labels = np.array(feature_names)[sorted_index]\n",
    "plot.bar(x, importances[sorted_index], tick_label=labels)\n",
    "\n",
    "# Rotate tick labels to vertical\n",
    "plot.xticks(rotation=90)\n",
    "plot.show()"
   ]
  },
  {
   "cell_type": "code",
   "execution_count": null,
   "metadata": {},
   "outputs": [],
   "source": []
  },
  {
   "cell_type": "markdown",
   "metadata": {},
   "source": [
    "In summary, we looked at a Random Forest model on a dataset that consisted of 12 lagged variables.  The dataset was split into features and target. It was further split according to a training and testing datasets. We determined that the best max_depth based on the best R-squared score on the test dataset model. We also determined the best number of features. The scatterplot displays both the predicted and actual values. "
   ]
  },
  {
   "cell_type": "code",
   "execution_count": null,
   "metadata": {},
   "outputs": [],
   "source": []
  },
  {
   "cell_type": "code",
   "execution_count": null,
   "metadata": {},
   "outputs": [],
   "source": [
    "# End"
   ]
  }
 ],
 "metadata": {
  "kernelspec": {
   "display_name": "Python 3 (ipykernel)",
   "language": "python",
   "name": "python3"
  },
  "language_info": {
   "codemirror_mode": {
    "name": "ipython",
    "version": 3
   },
   "file_extension": ".py",
   "mimetype": "text/x-python",
   "name": "python",
   "nbconvert_exporter": "python",
   "pygments_lexer": "ipython3",
   "version": "3.8.11"
  }
 },
 "nbformat": 4,
 "nbformat_minor": 2
}
