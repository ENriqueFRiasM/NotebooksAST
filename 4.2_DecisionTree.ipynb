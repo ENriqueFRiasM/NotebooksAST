{
 "cells": [
  {
   "cell_type": "markdown",
   "metadata": {},
   "source": [
    "# Decision Tree Model"
   ]
  },
  {
   "cell_type": "markdown",
   "metadata": {},
   "source": [
    "A building block to Random Forest is a Decision Tree. Decision trees start with a root node and end with a leaf node. For numeric feature, tree split on each unique value of each data.  Tree-based models may poorly handle trends in data, compared to linear models, so you have to detrend your series first, which was done in the previous part for three of the five datasets."
   ]
  },
  {
   "cell_type": "code",
   "execution_count": 3,
   "metadata": {},
   "outputs": [],
   "source": [
    "import pandas as pd\n",
    "from pandas import read_csv\n",
    "from matplotlib import pyplot"
   ]
  },
  {
   "cell_type": "markdown",
   "metadata": {},
   "source": [
    "## Example 1:  Vacation dataset"
   ]
  },
  {
   "cell_type": "code",
   "execution_count": 4,
   "metadata": {},
   "outputs": [
    {
     "data": {
      "text/html": [
       "<div>\n",
       "<style scoped>\n",
       "    .dataframe tbody tr th:only-of-type {\n",
       "        vertical-align: middle;\n",
       "    }\n",
       "\n",
       "    .dataframe tbody tr th {\n",
       "        vertical-align: top;\n",
       "    }\n",
       "\n",
       "    .dataframe thead th {\n",
       "        text-align: right;\n",
       "    }\n",
       "</style>\n",
       "<table border=\"1\" class=\"dataframe\">\n",
       "  <thead>\n",
       "    <tr style=\"text-align: right;\">\n",
       "      <th></th>\n",
       "      <th>t-12</th>\n",
       "      <th>t-11</th>\n",
       "      <th>t-10</th>\n",
       "      <th>t-9</th>\n",
       "      <th>t-8</th>\n",
       "      <th>t-7</th>\n",
       "      <th>t-6</th>\n",
       "      <th>t-5</th>\n",
       "      <th>t-4</th>\n",
       "      <th>t-3</th>\n",
       "      <th>t-2</th>\n",
       "      <th>t-1</th>\n",
       "      <th>t</th>\n",
       "    </tr>\n",
       "  </thead>\n",
       "  <tbody>\n",
       "    <tr>\n",
       "      <th>0</th>\n",
       "      <td>10.0</td>\n",
       "      <td>9.0</td>\n",
       "      <td>-2.0</td>\n",
       "      <td>-17.0</td>\n",
       "      <td>-18.0</td>\n",
       "      <td>-1.0</td>\n",
       "      <td>3.0</td>\n",
       "      <td>4.0</td>\n",
       "      <td>33.0</td>\n",
       "      <td>-6.0</td>\n",
       "      <td>-3.0</td>\n",
       "      <td>-11.0</td>\n",
       "      <td>3.0</td>\n",
       "    </tr>\n",
       "    <tr>\n",
       "      <th>1</th>\n",
       "      <td>9.0</td>\n",
       "      <td>-2.0</td>\n",
       "      <td>-17.0</td>\n",
       "      <td>-18.0</td>\n",
       "      <td>-1.0</td>\n",
       "      <td>3.0</td>\n",
       "      <td>4.0</td>\n",
       "      <td>33.0</td>\n",
       "      <td>-6.0</td>\n",
       "      <td>-3.0</td>\n",
       "      <td>-11.0</td>\n",
       "      <td>3.0</td>\n",
       "      <td>13.0</td>\n",
       "    </tr>\n",
       "    <tr>\n",
       "      <th>2</th>\n",
       "      <td>-2.0</td>\n",
       "      <td>-17.0</td>\n",
       "      <td>-18.0</td>\n",
       "      <td>-1.0</td>\n",
       "      <td>3.0</td>\n",
       "      <td>4.0</td>\n",
       "      <td>33.0</td>\n",
       "      <td>-6.0</td>\n",
       "      <td>-3.0</td>\n",
       "      <td>-11.0</td>\n",
       "      <td>3.0</td>\n",
       "      <td>13.0</td>\n",
       "      <td>-4.0</td>\n",
       "    </tr>\n",
       "    <tr>\n",
       "      <th>3</th>\n",
       "      <td>-17.0</td>\n",
       "      <td>-18.0</td>\n",
       "      <td>-1.0</td>\n",
       "      <td>3.0</td>\n",
       "      <td>4.0</td>\n",
       "      <td>33.0</td>\n",
       "      <td>-6.0</td>\n",
       "      <td>-3.0</td>\n",
       "      <td>-11.0</td>\n",
       "      <td>3.0</td>\n",
       "      <td>13.0</td>\n",
       "      <td>-4.0</td>\n",
       "      <td>-16.0</td>\n",
       "    </tr>\n",
       "    <tr>\n",
       "      <th>4</th>\n",
       "      <td>-18.0</td>\n",
       "      <td>-1.0</td>\n",
       "      <td>3.0</td>\n",
       "      <td>4.0</td>\n",
       "      <td>33.0</td>\n",
       "      <td>-6.0</td>\n",
       "      <td>-3.0</td>\n",
       "      <td>-11.0</td>\n",
       "      <td>3.0</td>\n",
       "      <td>13.0</td>\n",
       "      <td>-4.0</td>\n",
       "      <td>-16.0</td>\n",
       "      <td>-20.0</td>\n",
       "    </tr>\n",
       "  </tbody>\n",
       "</table>\n",
       "</div>"
      ],
      "text/plain": [
       "   t-12  t-11  t-10   t-9   t-8   t-7   t-6   t-5   t-4   t-3   t-2   t-1  \\\n",
       "0  10.0   9.0  -2.0 -17.0 -18.0  -1.0   3.0   4.0  33.0  -6.0  -3.0 -11.0   \n",
       "1   9.0  -2.0 -17.0 -18.0  -1.0   3.0   4.0  33.0  -6.0  -3.0 -11.0   3.0   \n",
       "2  -2.0 -17.0 -18.0  -1.0   3.0   4.0  33.0  -6.0  -3.0 -11.0   3.0  13.0   \n",
       "3 -17.0 -18.0  -1.0   3.0   4.0  33.0  -6.0  -3.0 -11.0   3.0  13.0  -4.0   \n",
       "4 -18.0  -1.0   3.0   4.0  33.0  -6.0  -3.0 -11.0   3.0  13.0  -4.0 -16.0   \n",
       "\n",
       "      t  \n",
       "0   3.0  \n",
       "1  13.0  \n",
       "2  -4.0  \n",
       "3 -16.0  \n",
       "4 -20.0  "
      ]
     },
     "execution_count": 4,
     "metadata": {},
     "output_type": "execute_result"
    }
   ],
   "source": [
    "# load data\n",
    "df1 = pd.read_csv('vacation_lags_12months_features.csv', header=0)\n",
    "df1.head()"
   ]
  },
  {
   "cell_type": "code",
   "execution_count": 5,
   "metadata": {},
   "outputs": [],
   "source": [
    "# Split data\n",
    "\n",
    "vacat = df1.values\n",
    "# split into lagged variables and original time series\n",
    "X1= vacat[:, 0:-1]  # slice all rows and start with column 0 and go up to but not including the last column\n",
    "y1 = vacat[:,-1]  # slice all rows and last column, essentially separating out 't' column"
   ]
  },
  {
   "cell_type": "code",
   "execution_count": 6,
   "metadata": {},
   "outputs": [
    {
     "data": {
      "text/plain": [
       "array([[ 10.,   9.,  -2., ...,  -6.,  -3., -11.],\n",
       "       [  9.,  -2., -17., ...,  -3., -11.,   3.],\n",
       "       [ -2., -17., -18., ..., -11.,   3.,  13.],\n",
       "       ...,\n",
       "       [-11., -12.,  -1., ...,   1.,  11.,  -2.],\n",
       "       [-12.,  -1.,   4., ...,  11.,  -2., -11.],\n",
       "       [ -1.,   4.,  15., ...,  -2., -11.,  -7.]])"
      ]
     },
     "execution_count": 6,
     "metadata": {},
     "output_type": "execute_result"
    }
   ],
   "source": [
    "# Columns t-1 to t-12, which are the lagged variables\n",
    "X1"
   ]
  },
  {
   "cell_type": "code",
   "execution_count": 7,
   "metadata": {},
   "outputs": [
    {
     "data": {
      "text/plain": [
       "array([  3.,  13.,  -4., -16., -20.,  -2.,   3.,   3.,  30., -11.])"
      ]
     },
     "execution_count": 7,
     "metadata": {},
     "output_type": "execute_result"
    }
   ],
   "source": [
    "# Column t, which is the original time series\n",
    "y1[0:10]"
   ]
  },
  {
   "cell_type": "markdown",
   "metadata": {},
   "source": [
    "Below, you can alter the splits as 50-50, 60-40, 70-30, 75-25, 80-20, and 85-15, etc. So, 0.80 is a 80-20 split."
   ]
  },
  {
   "cell_type": "code",
   "execution_count": 8,
   "metadata": {},
   "outputs": [
    {
     "name": "stdout",
     "output_type": "stream",
     "text": [
      "Observations for Target: 174\n",
      "Training Observations for Target: 139\n",
      "Testing Observations for Target: 35\n"
     ]
    }
   ],
   "source": [
    "# Target Train-Test split\n",
    "from pandas import read_csv\n",
    "\n",
    "Y1 = y1\n",
    "traintarget_size = int(len(Y1) * 0.80)   # Set split\n",
    "train_target, test_target = Y1[0:traintarget_size], Y1[traintarget_size:len(Y1)]\n",
    "\n",
    "print('Observations for Target: %d' % (len(Y1)))\n",
    "print('Training Observations for Target: %d' % (len(train_target)))\n",
    "print('Testing Observations for Target: %d' % (len(test_target)))"
   ]
  },
  {
   "cell_type": "code",
   "execution_count": 9,
   "metadata": {},
   "outputs": [
    {
     "name": "stdout",
     "output_type": "stream",
     "text": [
      "Observations for feature: 174\n",
      "Training Observations for feature: 139\n",
      "Testing Observations for feature: 35\n"
     ]
    }
   ],
   "source": [
    "# Features Train-Test split\n",
    "\n",
    "trainfeature_size = int(len(X1) * 0.80)\n",
    "train_feature, test_feature = X1[0:trainfeature_size], X1[trainfeature_size:len(X1)]\n",
    "print('Observations for feature: %d' % (len(X1)))\n",
    "print('Training Observations for feature: %d' % (len(train_feature)))\n",
    "print('Testing Observations for feature: %d' % (len(test_feature)))"
   ]
  },
  {
   "cell_type": "code",
   "execution_count": 10,
   "metadata": {},
   "outputs": [
    {
     "name": "stdout",
     "output_type": "stream",
     "text": [
      "1.0\n",
      "0.5676086433128686\n"
     ]
    }
   ],
   "source": [
    "# Decision Tree Regresion Model\n",
    "\n",
    "from sklearn.tree import DecisionTreeRegressor\n",
    "\n",
    "# Create a decision tree regression model with default arguments\n",
    "decision_tree_vacat = DecisionTreeRegressor()  # max-depth not set\n",
    "\n",
    "# Fit the model to the training features and targets\n",
    "decision_tree_vacat.fit(train_feature, train_target)\n",
    "\n",
    "# Check the score on train and test\n",
    "print(decision_tree_vacat.score(train_feature, train_target))\n",
    "print(decision_tree_vacat.score(test_feature,test_target))  # predictions are horrible if negative value, no relationship if 0\n"
   ]
  },
  {
   "cell_type": "code",
   "execution_count": 11,
   "metadata": {},
   "outputs": [
    {
     "name": "stdout",
     "output_type": "stream",
     "text": [
      "max_depth= 2\n",
      "0.836755084049483\n",
      "0.5100670898047248 \n",
      "\n",
      "max_depth= 3\n",
      "0.9202849260705976\n",
      "0.5338183325628844 \n",
      "\n",
      "max_depth= 4\n",
      "0.9505108563131668\n",
      "0.5424299225198469 \n",
      "\n",
      "max_depth= 5\n",
      "0.9731320934255739\n",
      "0.576604361448845 \n",
      "\n",
      "max_depth= 7\n",
      "0.9945227439718145\n",
      "0.5425593318028525 \n",
      "\n",
      "max_depth= 8\n",
      "0.9979417202626701\n",
      "0.5567588445559395 \n",
      "\n",
      "max_depth= 10\n",
      "0.9998990581954493\n",
      "0.556490175621631 \n",
      "\n"
     ]
    }
   ],
   "source": [
    "# Find the best Max Depth\n",
    "\n",
    "# Loop through a few different max depths and check the performance\n",
    "# Try different max depths. We want to optimize our ML models to make the best predictions possible.\n",
    "# For regular decision trees, max_depth, which is a hyperparameter, limits the number of splits in a tree.\n",
    "# You can find the best value of max_depth based on the R-squared score of the model on the test set.\n",
    "\n",
    "for d in [2, 3, 4, 5,7,8,10]:\n",
    "    # Create the tree and fit it\n",
    "    decision_tree_vacat = DecisionTreeRegressor(max_depth=d)\n",
    "    decision_tree_vacat.fit(train_feature, train_target)\n",
    "\n",
    "    # Print out the scores on train and test\n",
    "    print('max_depth=', str(d))\n",
    "    print(decision_tree_vacat.score(train_feature, train_target))\n",
    "    print(decision_tree_vacat.score(test_feature, test_target), '\\n')  # You want the test score to be positive and high\n",
    " \n"
   ]
  },
  {
   "cell_type": "markdown",
   "metadata": {},
   "source": [
    "Decision-tree learners can create over-complex trees that do not generalize the data well. This is called overfitting."
   ]
  },
  {
   "cell_type": "code",
   "execution_count": 12,
   "metadata": {},
   "outputs": [
    {
     "data": {
      "image/png": "[encoded data removed]",
      "text/plain": [
       "<Figure size 432x288 with 1 Axes>"
      ]
     },
     "metadata": {
      "needs_background": "light"
     },
     "output_type": "display_data"
    }
   ],
   "source": [
    "# Plot predicted against actual values\n",
    "\n",
    "from matplotlib import pyplot as plt\n",
    "\n",
    "# Use the best max_depth \n",
    "decision_tree_vacat = DecisionTreeRegressor(max_depth=5)  # fill in best max depth here\n",
    "decision_tree_vacat.fit(train_feature, train_target)\n",
    "\n",
    "# Predict values for train and test\n",
    "train_prediction = decision_tree_vacat.predict(train_feature)\n",
    "test_prediction = decision_tree_vacat.predict(test_feature)\n",
    "\n",
    "# Scatter the predictions vs actual values\n",
    "plt.scatter(train_prediction, train_target, label='train')  # blue\n",
    "plt.scatter(test_prediction, test_target, label='test')  # orange\n",
    "plt.show()"
   ]
  },
  {
   "cell_type": "code",
   "execution_count": 13,
   "metadata": {},
   "outputs": [
    {
     "ename": "AttributeError",
     "evalue": "'numpy.ndarray' object has no attribute 'plot'",
     "output_type": "error",
     "traceback": [
      "\u001b[1;31m---------------------------------------------------------------------------\u001b[0m",
      "\u001b[1;31mAttributeError\u001b[0m                            Traceback (most recent call last)",
      "\u001b[1;32m~\\AppData\\Local\\Temp/ipykernel_18956/2019418285.py\u001b[0m in \u001b[0;36m<module>\u001b[1;34m\u001b[0m\n\u001b[1;32m----> 1\u001b[1;33m \u001b[0mtrain_prediction\u001b[0m\u001b[1;33m.\u001b[0m\u001b[0mplot\u001b[0m\u001b[1;33m(\u001b[0m\u001b[0mfigsize\u001b[0m\u001b[1;33m=\u001b[0m\u001b[1;33m(\u001b[0m\u001b[1;36m8\u001b[0m\u001b[1;33m,\u001b[0m\u001b[1;36m5\u001b[0m\u001b[1;33m)\u001b[0m\u001b[1;33m)\u001b[0m\u001b[1;33m\u001b[0m\u001b[1;33m\u001b[0m\u001b[0m\n\u001b[0m\u001b[0;32m      2\u001b[0m \u001b[0mpyplot\u001b[0m\u001b[1;33m.\u001b[0m\u001b[0mshow\u001b[0m\u001b[1;33m(\u001b[0m\u001b[1;33m)\u001b[0m\u001b[1;33m\u001b[0m\u001b[1;33m\u001b[0m\u001b[0m\n",
      "\u001b[1;31mAttributeError\u001b[0m: 'numpy.ndarray' object has no attribute 'plot'"
     ]
    }
   ],
   "source": [
    "train_prediction.plot(figsize=(8,5))\n",
    "pyplot.show()"
   ]
  },
  {
   "cell_type": "code",
   "execution_count": null,
   "metadata": {},
   "outputs": [],
   "source": []
  },
  {
   "cell_type": "markdown",
   "metadata": {},
   "source": [
    "## Example 2: Furniture Dataset"
   ]
  },
  {
   "cell_type": "code",
   "execution_count": 12,
   "metadata": {},
   "outputs": [
    {
     "data": {
      "text/html": [
       "<div>\n",
       "<style scoped>\n",
       "    .dataframe tbody tr th:only-of-type {\n",
       "        vertical-align: middle;\n",
       "    }\n",
       "\n",
       "    .dataframe tbody tr th {\n",
       "        vertical-align: top;\n",
       "    }\n",
       "\n",
       "    .dataframe thead th {\n",
       "        text-align: right;\n",
       "    }\n",
       "</style>\n",
       "<table border=\"1\" class=\"dataframe\">\n",
       "  <thead>\n",
       "    <tr style=\"text-align: right;\">\n",
       "      <th></th>\n",
       "      <th>t-12</th>\n",
       "      <th>t-11</th>\n",
       "      <th>t-10</th>\n",
       "      <th>t-9</th>\n",
       "      <th>t-8</th>\n",
       "      <th>t-7</th>\n",
       "      <th>t-6</th>\n",
       "      <th>t-5</th>\n",
       "      <th>t-4</th>\n",
       "      <th>t-3</th>\n",
       "      <th>t-2</th>\n",
       "      <th>t-1</th>\n",
       "      <th>t</th>\n",
       "    </tr>\n",
       "  </thead>\n",
       "  <tbody>\n",
       "    <tr>\n",
       "      <th>0</th>\n",
       "      <td>0.069088</td>\n",
       "      <td>-0.002419</td>\n",
       "      <td>0.033839</td>\n",
       "      <td>0.022829</td>\n",
       "      <td>0.013640</td>\n",
       "      <td>0.011722</td>\n",
       "      <td>-0.023777</td>\n",
       "      <td>0.042725</td>\n",
       "      <td>0.043720</td>\n",
       "      <td>0.127219</td>\n",
       "      <td>-0.219927</td>\n",
       "      <td>-0.044419</td>\n",
       "      <td>0.121869</td>\n",
       "    </tr>\n",
       "    <tr>\n",
       "      <th>1</th>\n",
       "      <td>-0.002419</td>\n",
       "      <td>0.033839</td>\n",
       "      <td>0.022829</td>\n",
       "      <td>0.013640</td>\n",
       "      <td>0.011722</td>\n",
       "      <td>-0.023777</td>\n",
       "      <td>0.042725</td>\n",
       "      <td>0.043720</td>\n",
       "      <td>0.127219</td>\n",
       "      <td>-0.219927</td>\n",
       "      <td>-0.044419</td>\n",
       "      <td>0.121869</td>\n",
       "      <td>0.003474</td>\n",
       "    </tr>\n",
       "    <tr>\n",
       "      <th>2</th>\n",
       "      <td>0.033839</td>\n",
       "      <td>0.022829</td>\n",
       "      <td>0.013640</td>\n",
       "      <td>0.011722</td>\n",
       "      <td>-0.023777</td>\n",
       "      <td>0.042725</td>\n",
       "      <td>0.043720</td>\n",
       "      <td>0.127219</td>\n",
       "      <td>-0.219927</td>\n",
       "      <td>-0.044419</td>\n",
       "      <td>0.121869</td>\n",
       "      <td>0.003474</td>\n",
       "      <td>0.038723</td>\n",
       "    </tr>\n",
       "    <tr>\n",
       "      <th>3</th>\n",
       "      <td>0.022829</td>\n",
       "      <td>0.013640</td>\n",
       "      <td>0.011722</td>\n",
       "      <td>-0.023777</td>\n",
       "      <td>0.042725</td>\n",
       "      <td>0.043720</td>\n",
       "      <td>0.127219</td>\n",
       "      <td>-0.219927</td>\n",
       "      <td>-0.044419</td>\n",
       "      <td>0.121869</td>\n",
       "      <td>0.003474</td>\n",
       "      <td>0.038723</td>\n",
       "      <td>0.008674</td>\n",
       "    </tr>\n",
       "    <tr>\n",
       "      <th>4</th>\n",
       "      <td>0.013640</td>\n",
       "      <td>0.011722</td>\n",
       "      <td>-0.023777</td>\n",
       "      <td>0.042725</td>\n",
       "      <td>0.043720</td>\n",
       "      <td>0.127219</td>\n",
       "      <td>-0.219927</td>\n",
       "      <td>-0.044419</td>\n",
       "      <td>0.121869</td>\n",
       "      <td>0.003474</td>\n",
       "      <td>0.038723</td>\n",
       "      <td>0.008674</td>\n",
       "      <td>0.024956</td>\n",
       "    </tr>\n",
       "  </tbody>\n",
       "</table>\n",
       "</div>"
      ],
      "text/plain": [
       "       t-12      t-11      t-10       t-9       t-8       t-7       t-6  \\\n",
       "0  0.069088 -0.002419  0.033839  0.022829  0.013640  0.011722 -0.023777   \n",
       "1 -0.002419  0.033839  0.022829  0.013640  0.011722 -0.023777  0.042725   \n",
       "2  0.033839  0.022829  0.013640  0.011722 -0.023777  0.042725  0.043720   \n",
       "3  0.022829  0.013640  0.011722 -0.023777  0.042725  0.043720  0.127219   \n",
       "4  0.013640  0.011722 -0.023777  0.042725  0.043720  0.127219 -0.219927   \n",
       "\n",
       "        t-5       t-4       t-3       t-2       t-1         t  \n",
       "0  0.042725  0.043720  0.127219 -0.219927 -0.044419  0.121869  \n",
       "1  0.043720  0.127219 -0.219927 -0.044419  0.121869  0.003474  \n",
       "2  0.127219 -0.219927 -0.044419  0.121869  0.003474  0.038723  \n",
       "3 -0.219927 -0.044419  0.121869  0.003474  0.038723  0.008674  \n",
       "4 -0.044419  0.121869  0.003474  0.038723  0.008674  0.024956  "
      ]
     },
     "execution_count": 12,
     "metadata": {},
     "output_type": "execute_result"
    }
   ],
   "source": [
    "# load data, this data has been stationarized\n",
    "df2 = pd.read_csv('furniture_lags_12months_features.csv', header=0)\n",
    "df2.head()"
   ]
  },
  {
   "cell_type": "code",
   "execution_count": 13,
   "metadata": {},
   "outputs": [],
   "source": [
    "# Split Data\n",
    "\n",
    "furn = df2.values\n",
    "# split into lagged variables (features) and original time series data (target)\n",
    "X2= furn[:,0:-1]  # slice all rows and start with column 0 and go up to but not including the last column\n",
    "y2 = furn[:,-1]  # slice all rows and last column, essentially separating out 't' column"
   ]
  },
  {
   "cell_type": "code",
   "execution_count": 14,
   "metadata": {},
   "outputs": [
    {
     "data": {
      "text/plain": [
       "array([[ 0.06908776, -0.00241871,  0.03383942, ...,  0.12721928,\n",
       "        -0.21992713, -0.04441943],\n",
       "       [-0.00241871,  0.03383942,  0.02282904, ..., -0.21992713,\n",
       "        -0.04441943,  0.12186938],\n",
       "       [ 0.03383942,  0.02282904,  0.01364014, ..., -0.04441943,\n",
       "         0.12186938,  0.00347408],\n",
       "       ...,\n",
       "       [ 0.08460108, -0.01831672, -0.00127104, ..., -0.01906175,\n",
       "         0.17492792, -0.04829062],\n",
       "       [-0.01831672, -0.00127104,  0.04903607, ...,  0.17492792,\n",
       "        -0.04829062,  0.08136081],\n",
       "       [-0.00127104,  0.04903607, -0.06026621, ..., -0.04829062,\n",
       "         0.08136081, -0.05698937]])"
      ]
     },
     "execution_count": 14,
     "metadata": {},
     "output_type": "execute_result"
    }
   ],
   "source": [
    "# Columns t-1 to t-12, which are the lagged variables\n",
    "X2"
   ]
  },
  {
   "cell_type": "code",
   "execution_count": 15,
   "metadata": {},
   "outputs": [
    {
     "data": {
      "text/plain": [
       "array([ 0.12186938,  0.00347408,  0.03872338,  0.00867379,  0.02495622,\n",
       "        0.01369304, -0.02164084,  0.03759901,  0.08095082,  0.09170221])"
      ]
     },
     "execution_count": 15,
     "metadata": {},
     "output_type": "execute_result"
    }
   ],
   "source": [
    "# Column t, which is the original time series\n",
    "# Give first 10 values of target variable, time series\n",
    "y2[0:10]"
   ]
  },
  {
   "cell_type": "markdown",
   "metadata": {},
   "source": [
    "Below, you can alter the splits as 50-50, 60-40, 70-30, 75-25, 80-20, and 85-15, etc. Here we are using a 75-25 split."
   ]
  },
  {
   "cell_type": "code",
   "execution_count": 16,
   "metadata": {},
   "outputs": [
    {
     "name": "stdout",
     "output_type": "stream",
     "text": [
      "Observations for Target: 317\n",
      "Training Observations for Target: 237\n",
      "Testing Observations for Target: 80\n"
     ]
    }
   ],
   "source": [
    "# Target Train-Test split\n",
    "from pandas import read_csv\n",
    "\n",
    "Y2 = y2\n",
    "traintarget_size = int(len(Y2) * 0.75)   # Set split\n",
    "train_target, test_target = Y2[0:traintarget_size], Y2[traintarget_size:len(Y2)]\n",
    "\n",
    "print('Observations for Target: %d' % (len(Y2)))\n",
    "print('Training Observations for Target: %d' % (len(train_target)))\n",
    "print('Testing Observations for Target: %d' % (len(test_target)))"
   ]
  },
  {
   "cell_type": "code",
   "execution_count": 17,
   "metadata": {},
   "outputs": [
    {
     "name": "stdout",
     "output_type": "stream",
     "text": [
      "Observations for feature: 317\n",
      "Training Observations for feature: 237\n",
      "Testing Observations for feature: 80\n"
     ]
    }
   ],
   "source": [
    "# Features Train-Test split\n",
    "\n",
    "trainfeature_size = int(len(X2) * 0.75)\n",
    "train_feature, test_feature = X2[0:trainfeature_size], X2[trainfeature_size:len(X2)]\n",
    "print('Observations for feature: %d' % (len(X2)))\n",
    "print('Training Observations for feature: %d' % (len(train_feature)))\n",
    "print('Testing Observations for feature: %d' % (len(test_feature)))"
   ]
  },
  {
   "cell_type": "code",
   "execution_count": 18,
   "metadata": {},
   "outputs": [
    {
     "name": "stdout",
     "output_type": "stream",
     "text": [
      "1.0\n",
      "0.7877942032088927\n"
     ]
    }
   ],
   "source": [
    "# Decision Tree Regression Model\n",
    "\n",
    "from sklearn.tree import DecisionTreeRegressor\n",
    "\n",
    "# Create a decision tree regression model with default arguments\n",
    "decision_tree_furn = DecisionTreeRegressor()  # max_depth not set\n",
    "\n",
    "# Fit the model to the training features and targets\n",
    "decision_tree_furn.fit(train_feature, train_target)\n",
    "\n",
    "# Check the score on train and test\n",
    "print(decision_tree_furn.score(train_feature, train_target))\n",
    "print(decision_tree_furn.score(test_feature,test_target))  # predictions are horrible if negative value, no relationship if 0\n"
   ]
  },
  {
   "cell_type": "code",
   "execution_count": 19,
   "metadata": {},
   "outputs": [
    {
     "name": "stdout",
     "output_type": "stream",
     "text": [
      "max_depth= 2\n",
      "0.8156377078263332\n",
      "0.7810130722918899 \n",
      "\n",
      "max_depth= 3\n",
      "0.8863883454069654\n",
      "0.8632482324245954 \n",
      "\n",
      "max_depth= 4\n",
      "0.9135800361483105\n",
      "0.8591272933171432 \n",
      "\n",
      "max_depth= 5\n",
      "0.9393751803685487\n",
      "0.8673987603923319 \n",
      "\n",
      "max_depth= 7\n",
      "0.9750119687499313\n",
      "0.8093626902314203 \n",
      "\n",
      "max_depth= 8\n",
      "0.9864459830278838\n",
      "0.7879216878521809 \n",
      "\n",
      "max_depth= 10\n",
      "0.9969880725037887\n",
      "0.794427379169911 \n",
      "\n"
     ]
    }
   ],
   "source": [
    "# Find Best Max Depth\n",
    "\n",
    "# Loop through a few different max depths and check the performance\n",
    "# Try different max depths. We want to optimize our ML models to make the best predictions possible.\n",
    "# For regular decision trees, max_depth, which is a hyperparameter, limits the number of splits in a tree.\n",
    "# You can find the best value of max_depth based on the R-squared score of the model on the test set.\n",
    "\n",
    "for d in [2, 3,4, 5,7,8,10]:\n",
    "    # Create the tree and fit it\n",
    "    decision_tree_furn = DecisionTreeRegressor(max_depth=d)\n",
    "    decision_tree_furn.fit(train_feature, train_target)\n",
    "\n",
    "    # Print out the scores on train and test\n",
    "    print('max_depth=', str(d))\n",
    "    print(decision_tree_furn.score(train_feature, train_target))\n",
    "    print(decision_tree_furn.score(test_feature, test_target), '\\n')  # You want the test score to be positive\n",
    "    \n",
    "# R-square for train and test scores are below. "
   ]
  },
  {
   "cell_type": "markdown",
   "metadata": {},
   "source": [
    "The best max_depth is max_depth is the one that gives the best test score (positive and high).  Decision-tree learners can create over-complex trees that do not generalize the data well. This is called overfitting."
   ]
  },
  {
   "cell_type": "code",
   "execution_count": 20,
   "metadata": {},
   "outputs": [
    {
     "data": {
      "image/png": "[encoded data removed]",
      "text/plain": [
       "<Figure size 432x288 with 1 Axes>"
      ]
     },
     "metadata": {
      "needs_background": "light"
     },
     "output_type": "display_data"
    }
   ],
   "source": [
    "# Plot predicted against actual values\n",
    "\n",
    "from matplotlib import pyplot as plt\n",
    "\n",
    "# Use the best max_depth \n",
    "decision_tree_furn = DecisionTreeRegressor(max_depth=5) # Fill in best max depth score here\n",
    "decision_tree_furn.fit(train_feature, train_target)\n",
    "\n",
    "# Predict values for train and test\n",
    "train_prediction = decision_tree_furn.predict(train_feature)\n",
    "test_prediction = decision_tree_furn.predict(test_feature)\n",
    "\n",
    "# Scatter the predictions vs actual values, orange is predicted\n",
    "plt.scatter(train_prediction, train_target, label='train')  # blue \n",
    "plt.scatter(test_prediction, test_target, label='test')  \n",
    "plt.show()\n"
   ]
  },
  {
   "cell_type": "markdown",
   "metadata": {},
   "source": [
    "## Example 3:  Bank of America Dataset"
   ]
  },
  {
   "cell_type": "code",
   "execution_count": 14,
   "metadata": {},
   "outputs": [
    {
     "data": {
      "text/html": [
       "<div>\n",
       "<style scoped>\n",
       "    .dataframe tbody tr th:only-of-type {\n",
       "        vertical-align: middle;\n",
       "    }\n",
       "\n",
       "    .dataframe tbody tr th {\n",
       "        vertical-align: top;\n",
       "    }\n",
       "\n",
       "    .dataframe thead th {\n",
       "        text-align: right;\n",
       "    }\n",
       "</style>\n",
       "<table border=\"1\" class=\"dataframe\">\n",
       "  <thead>\n",
       "    <tr style=\"text-align: right;\">\n",
       "      <th></th>\n",
       "      <th>t-12</th>\n",
       "      <th>t-11</th>\n",
       "      <th>t-10</th>\n",
       "      <th>t-9</th>\n",
       "      <th>t-8</th>\n",
       "      <th>t-7</th>\n",
       "      <th>t-6</th>\n",
       "      <th>t-5</th>\n",
       "      <th>t-4</th>\n",
       "      <th>t-3</th>\n",
       "      <th>t-2</th>\n",
       "      <th>t-1</th>\n",
       "      <th>t</th>\n",
       "    </tr>\n",
       "  </thead>\n",
       "  <tbody>\n",
       "    <tr>\n",
       "      <th>0</th>\n",
       "      <td>1.687537</td>\n",
       "      <td>1.469485</td>\n",
       "      <td>1.441042</td>\n",
       "      <td>1.525887</td>\n",
       "      <td>1.476664</td>\n",
       "      <td>1.412676</td>\n",
       "      <td>1.341841</td>\n",
       "      <td>0.879137</td>\n",
       "      <td>0.709480</td>\n",
       "      <td>0.987102</td>\n",
       "      <td>1.002662</td>\n",
       "      <td>1.232781</td>\n",
       "      <td>1.282093</td>\n",
       "    </tr>\n",
       "    <tr>\n",
       "      <th>1</th>\n",
       "      <td>1.469485</td>\n",
       "      <td>1.441042</td>\n",
       "      <td>1.525887</td>\n",
       "      <td>1.476664</td>\n",
       "      <td>1.412676</td>\n",
       "      <td>1.341841</td>\n",
       "      <td>0.879137</td>\n",
       "      <td>0.709480</td>\n",
       "      <td>0.987102</td>\n",
       "      <td>1.002662</td>\n",
       "      <td>1.232781</td>\n",
       "      <td>1.282093</td>\n",
       "      <td>1.595426</td>\n",
       "    </tr>\n",
       "    <tr>\n",
       "      <th>2</th>\n",
       "      <td>1.441042</td>\n",
       "      <td>1.525887</td>\n",
       "      <td>1.476664</td>\n",
       "      <td>1.412676</td>\n",
       "      <td>1.341841</td>\n",
       "      <td>0.879137</td>\n",
       "      <td>0.709480</td>\n",
       "      <td>0.987102</td>\n",
       "      <td>1.002662</td>\n",
       "      <td>1.232781</td>\n",
       "      <td>1.282093</td>\n",
       "      <td>1.595426</td>\n",
       "      <td>1.699101</td>\n",
       "    </tr>\n",
       "    <tr>\n",
       "      <th>3</th>\n",
       "      <td>1.525887</td>\n",
       "      <td>1.476664</td>\n",
       "      <td>1.412676</td>\n",
       "      <td>1.341841</td>\n",
       "      <td>0.879137</td>\n",
       "      <td>0.709480</td>\n",
       "      <td>0.987102</td>\n",
       "      <td>1.002662</td>\n",
       "      <td>1.232781</td>\n",
       "      <td>1.282093</td>\n",
       "      <td>1.595426</td>\n",
       "      <td>1.699101</td>\n",
       "      <td>1.941008</td>\n",
       "    </tr>\n",
       "    <tr>\n",
       "      <th>4</th>\n",
       "      <td>1.476664</td>\n",
       "      <td>1.412676</td>\n",
       "      <td>1.341841</td>\n",
       "      <td>0.879137</td>\n",
       "      <td>0.709480</td>\n",
       "      <td>0.987102</td>\n",
       "      <td>1.002662</td>\n",
       "      <td>1.232781</td>\n",
       "      <td>1.282093</td>\n",
       "      <td>1.595426</td>\n",
       "      <td>1.699101</td>\n",
       "      <td>1.941008</td>\n",
       "      <td>1.707245</td>\n",
       "    </tr>\n",
       "  </tbody>\n",
       "</table>\n",
       "</div>"
      ],
      "text/plain": [
       "       t-12      t-11      t-10       t-9       t-8       t-7       t-6  \\\n",
       "0  1.687537  1.469485  1.441042  1.525887  1.476664  1.412676  1.341841   \n",
       "1  1.469485  1.441042  1.525887  1.476664  1.412676  1.341841  0.879137   \n",
       "2  1.441042  1.525887  1.476664  1.412676  1.341841  0.879137  0.709480   \n",
       "3  1.525887  1.476664  1.412676  1.341841  0.879137  0.709480  0.987102   \n",
       "4  1.476664  1.412676  1.341841  0.879137  0.709480  0.987102  1.002662   \n",
       "\n",
       "        t-5       t-4       t-3       t-2       t-1         t  \n",
       "0  0.879137  0.709480  0.987102  1.002662  1.232781  1.282093  \n",
       "1  0.709480  0.987102  1.002662  1.232781  1.282093  1.595426  \n",
       "2  0.987102  1.002662  1.232781  1.282093  1.595426  1.699101  \n",
       "3  1.002662  1.232781  1.282093  1.595426  1.699101  1.941008  \n",
       "4  1.232781  1.282093  1.595426  1.699101  1.941008  1.707245  "
      ]
     },
     "execution_count": 14,
     "metadata": {},
     "output_type": "execute_result"
    }
   ],
   "source": [
    "# load data, this data has been stationarized\n",
    "df3 = pd.read_csv('bac_lags_12months_features.csv', header=0)\n",
    "df3.head()"
   ]
  },
  {
   "cell_type": "code",
   "execution_count": 15,
   "metadata": {},
   "outputs": [],
   "source": [
    "# Split Data\n",
    "\n",
    "bac = df3.values\n",
    "# split into lagged variables (features) and original time series data (target)\n",
    "X3= bac[:,0:-1]  # slice all rows and start with column 0 and go up to but not including the last column\n",
    "y3 = bac[:,-1]  # slice all rows and last column, essentially separating out 't' column"
   ]
  },
  {
   "cell_type": "code",
   "execution_count": 16,
   "metadata": {},
   "outputs": [
    {
     "data": {
      "text/plain": [
       "array([[ 1.68753707,  1.46948457,  1.44104242, ...,  0.98710191,\n",
       "         1.00266206,  1.23278129],\n",
       "       [ 1.46948457,  1.44104242,  1.52588725, ...,  1.00266206,\n",
       "         1.23278129,  1.28209293],\n",
       "       [ 1.44104242,  1.52588725,  1.47666395, ...,  1.23278129,\n",
       "         1.28209293,  1.59542644],\n",
       "       ...,\n",
       "       [30.09263229, 28.80098343, 26.88482857, ..., 26.28380585,\n",
       "        28.81011391, 30.47911263],\n",
       "       [28.80098343, 26.88482857, 27.76469421, ..., 28.81011391,\n",
       "        30.47911263, 27.32987022],\n",
       "       [26.88482857, 27.76469421, 24.22343063, ..., 30.47911263,\n",
       "        27.32987022, 29.17000008]])"
      ]
     },
     "execution_count": 16,
     "metadata": {},
     "output_type": "execute_result"
    }
   ],
   "source": [
    "# Columns t-1 to t-12, which are the lagged variables\n",
    "X3"
   ]
  },
  {
   "cell_type": "code",
   "execution_count": 17,
   "metadata": {},
   "outputs": [
    {
     "data": {
      "text/plain": [
       "array([1.28209293, 1.59542644, 1.69910097, 1.94100773, 1.70724475,\n",
       "       1.65948939, 1.91634405, 1.76750135, 1.85432637, 1.70548344])"
      ]
     },
     "execution_count": 17,
     "metadata": {},
     "output_type": "execute_result"
    }
   ],
   "source": [
    "# Column t, which is the original time series\n",
    "# Give first 10 values of target variable, time series\n",
    "y3[0:10]"
   ]
  },
  {
   "cell_type": "code",
   "execution_count": 18,
   "metadata": {},
   "outputs": [
    {
     "name": "stdout",
     "output_type": "stream",
     "text": [
      "Observations for Target: 345\n",
      "Training Observations for Target: 258\n",
      "Testing Observations for Target: 87\n"
     ]
    }
   ],
   "source": [
    "# Target Train-Test split\n",
    "from pandas import read_csv\n",
    "\n",
    "Y3 = y3\n",
    "traintarget_size = int(len(Y3) * 0.75)   # Set split\n",
    "train_target, test_target = Y3[0:traintarget_size], Y3[traintarget_size:len(Y3)]\n",
    "\n",
    "print('Observations for Target: %d' % (len(Y3)))\n",
    "print('Training Observations for Target: %d' % (len(train_target)))\n",
    "print('Testing Observations for Target: %d' % (len(test_target)))"
   ]
  },
  {
   "cell_type": "code",
   "execution_count": 19,
   "metadata": {},
   "outputs": [
    {
     "name": "stdout",
     "output_type": "stream",
     "text": [
      "Observations for feature: 345\n",
      "Training Observations for feature: 258\n",
      "Testing Observations for feature: 87\n"
     ]
    }
   ],
   "source": [
    "# Features Train-Test split\n",
    "\n",
    "trainfeature_size = int(len(X3) * 0.75)\n",
    "train_feature, test_feature = X3[0:trainfeature_size], X3[trainfeature_size:len(X3)]\n",
    "print('Observations for feature: %d' % (len(X3)))\n",
    "print('Training Observations for feature: %d' % (len(train_feature)))\n",
    "print('Testing Observations for feature: %d' % (len(test_feature)))"
   ]
  },
  {
   "cell_type": "code",
   "execution_count": 20,
   "metadata": {},
   "outputs": [
    {
     "name": "stdout",
     "output_type": "stream",
     "text": [
      "1.0\n",
      "0.9051003673955429\n"
     ]
    }
   ],
   "source": [
    "# Decision Tree Regression Model\n",
    "\n",
    "from sklearn.tree import DecisionTreeRegressor\n",
    "\n",
    "# Create a decision tree regression model with default arguments\n",
    "decision_tree_bac = DecisionTreeRegressor()  # max_depth not set\n",
    "\n",
    "# Fit the model to the training features and targets\n",
    "decision_tree_bac.fit(train_feature, train_target)\n",
    "\n",
    "# Check the score on train and test\n",
    "print(decision_tree_bac.score(train_feature, train_target))\n",
    "print(decision_tree_bac.score(test_feature,test_target))  # predictions are horrible if negative value, no relationship if 0\n"
   ]
  },
  {
   "cell_type": "code",
   "execution_count": 21,
   "metadata": {},
   "outputs": [
    {
     "name": "stdout",
     "output_type": "stream",
     "text": [
      "max_depth= 2\n",
      "0.9378916189370204\n",
      "0.8319966734609072 \n",
      "\n",
      "max_depth= 3\n",
      "0.9762695646725686\n",
      "0.9340343778452677 \n",
      "\n",
      "max_depth= 4\n",
      "0.9862060481571318\n",
      "0.9543748902590434 \n",
      "\n",
      "max_depth= 5\n",
      "0.993049941112901\n",
      "0.9216419819007288 \n",
      "\n",
      "max_depth= 7\n",
      "0.9985248221522022\n",
      "0.891727714611686 \n",
      "\n",
      "max_depth= 8\n",
      "0.999461138644182\n",
      "0.8896077707322024 \n",
      "\n",
      "max_depth= 10\n",
      "0.9999516846017652\n",
      "0.9123303361347154 \n",
      "\n"
     ]
    }
   ],
   "source": [
    "# Find Best Max Depth\n",
    "\n",
    "# Loop through a few different max depths and check the performance\n",
    "# Try different max depths. We want to optimize our ML models to make the best predictions possible.\n",
    "# For regular decision trees, max_depth, which is a hyperparameter, limits the number of splits in a tree.\n",
    "# You can find the best value of max_depth based on the R-squared score of the model on the test set.\n",
    "\n",
    "for d in [2, 3,4, 5,7,8,10]:\n",
    "    # Create the tree and fit it\n",
    "    decision_tree_bac = DecisionTreeRegressor(max_depth=d)\n",
    "    decision_tree_bac.fit(train_feature, train_target)\n",
    "\n",
    "    # Print out the scores on train and test\n",
    "    print('max_depth=', str(d))\n",
    "    print(decision_tree_bac.score(train_feature, train_target))\n",
    "    print(decision_tree_bac.score(test_feature, test_target), '\\n')  # You want the test score to be positive\n",
    "    \n",
    "# R-square for train and test scores are below. "
   ]
  },
  {
   "cell_type": "code",
   "execution_count": 22,
   "metadata": {},
   "outputs": [
    {
     "data": {
      "image/png": "[encoded data removed]",
      "text/plain": [
       "<Figure size 432x288 with 1 Axes>"
      ]
     },
     "metadata": {
      "needs_background": "light"
     },
     "output_type": "display_data"
    }
   ],
   "source": [
    "# Plot predicted against actual values\n",
    "\n",
    "from matplotlib import pyplot as plt\n",
    "\n",
    "# Use the best max_depth \n",
    "decision_tree_bac = DecisionTreeRegressor(max_depth=4) \n",
    "decision_tree_bac.fit(train_feature, train_target)\n",
    "\n",
    "# Predict values for train and test\n",
    "train_prediction = decision_tree_bac.predict(train_feature)\n",
    "test_prediction = decision_tree_bac.predict(test_feature)\n",
    "\n",
    "# Scatter the predictions vs actual values\n",
    "plt.scatter(train_prediction, train_target, label='train')\n",
    "plt.scatter(test_prediction, test_target, label='test')\n",
    "plt.show()"
   ]
  },
  {
   "cell_type": "code",
   "execution_count": null,
   "metadata": {},
   "outputs": [],
   "source": []
  },
  {
   "cell_type": "markdown",
   "metadata": {},
   "source": [
    "## Example 4:  J.P. Morgan Dataset"
   ]
  },
  {
   "cell_type": "code",
   "execution_count": null,
   "metadata": {},
   "outputs": [],
   "source": [
    "# load data\n",
    "df4 = pd.read_csv('~/Desktop/section_4/jpm_lags_12months_features.csv', header=0)\n",
    "df4.head()"
   ]
  },
  {
   "cell_type": "code",
   "execution_count": null,
   "metadata": {},
   "outputs": [],
   "source": [
    "# split data\n",
    "\n",
    "jpm = df4.values\n",
    "# split into lagged variables and original time series\n",
    "X4= jpm[:, 0:-1]  # slice all rows and start with column 0 and go up to but not including the last column\n",
    "y4 = jpm[:,-1]  # slice all rows and last column, essentially separating out 't' column"
   ]
  },
  {
   "cell_type": "code",
   "execution_count": null,
   "metadata": {},
   "outputs": [],
   "source": [
    "# Columns t-1 to t-12, which are the lagged variables\n",
    "X4"
   ]
  },
  {
   "cell_type": "code",
   "execution_count": null,
   "metadata": {},
   "outputs": [],
   "source": [
    "# Column t, which is the original time series\n",
    "y4[0:10]"
   ]
  },
  {
   "cell_type": "code",
   "execution_count": null,
   "metadata": {},
   "outputs": [],
   "source": [
    "# Target Train-Test split\n",
    "from pandas import read_csv\n",
    "\n",
    "Y4 = y4\n",
    "traintarget_size = int(len(Y4) * 0.50)   # Set split\n",
    "train_target, test_target = Y4[0:traintarget_size], Y4[traintarget_size:len(Y4)]\n",
    "\n",
    "print('Observations for Target: %d' % (len(Y4)))\n",
    "print('Training Observations for Target: %d' % (len(train_target)))\n",
    "print('Testing Observations for Target: %d' % (len(test_target)))"
   ]
  },
  {
   "cell_type": "code",
   "execution_count": null,
   "metadata": {},
   "outputs": [],
   "source": [
    "# Features Train-Test split\n",
    "\n",
    "trainfeature_size = int(len(X4) * 0.50)\n",
    "train_feature, test_feature = X4[0:trainfeature_size], X4[trainfeature_size:len(X4)]\n",
    "print('Observations for feature: %d' % (len(X4)))\n",
    "print('Training Observations for feature: %d' % (len(train_feature)))\n",
    "print('Testing Observations for feature: %d' % (len(test_feature)))"
   ]
  },
  {
   "cell_type": "code",
   "execution_count": null,
   "metadata": {},
   "outputs": [],
   "source": [
    "# Decision Tree Regression Model\n",
    "from sklearn.tree import DecisionTreeRegressor\n",
    "\n",
    "# Create a decision tree regression model with default arguments\n",
    "decision_tree_jpm = DecisionTreeRegressor()  # max-depth not set\n",
    "\n",
    "# Fit the model to the training features and targets\n",
    "decision_tree_jpm.fit(train_feature, train_target)\n",
    "\n",
    "# Check the score on train and test\n",
    "print(decision_tree_jpm.score(train_feature, train_target))\n",
    "print(decision_tree_jpm.score(test_feature,test_target))  # predictions are horrible if negative value, no relationship if 0\n"
   ]
  },
  {
   "cell_type": "code",
   "execution_count": null,
   "metadata": {},
   "outputs": [],
   "source": [
    "# Find Best max depth\n",
    "\n",
    "# Loop through a few different max depths and check the performance\n",
    "# Try different max depths. We want to optimize our ML models to make the best predictions possible.\n",
    "# For regular decision trees, max_depth, which is a hyperparameter, limits the number of splits in a tree.\n",
    "# You can find the best value of max_depth based on the R-squared score of the model on the test set.\n",
    "\n",
    "for d in [2, 3,4, 5,7,8,10]:\n",
    "    # Create the tree and fit it\n",
    "    decision_tree_jpm = DecisionTreeRegressor(max_depth=d)\n",
    "    decision_tree_jpm.fit(train_feature, train_target)\n",
    "\n",
    "    # Print out the scores on train and test\n",
    "    print('max_depth=', str(d))\n",
    "    print(decision_tree_jpm.score(train_feature, train_target))\n",
    "    print(decision_tree_jpm.score(test_feature, test_target), '\\n')  \n",
    "    # You want the test score to be positive and high\n",
    " "
   ]
  },
  {
   "cell_type": "code",
   "execution_count": null,
   "metadata": {},
   "outputs": [],
   "source": [
    "# Plot predicted against actual values\n",
    "\n",
    "from matplotlib import pyplot as plt\n",
    "\n",
    "# Use the best max_depth \n",
    "decision_tree_jpm = DecisionTreeRegressor(max_depth=4)\n",
    "decision_tree_jpm.fit(train_feature, train_target)\n",
    "\n",
    "# Predict values for train and test\n",
    "train_prediction = decision_tree_jpm.predict(train_feature)\n",
    "test_prediction = decision_tree_jpm.predict(test_feature)\n",
    "\n",
    "# Scatter the predictions vs actual values\n",
    "plt.scatter(train_prediction, train_target, label='train')\n",
    "plt.scatter(test_prediction, test_target, label='test')\n",
    "plt.show()"
   ]
  },
  {
   "cell_type": "code",
   "execution_count": null,
   "metadata": {},
   "outputs": [],
   "source": []
  },
  {
   "cell_type": "markdown",
   "metadata": {},
   "source": [
    "## Example 5:  Average Temperature Dataset"
   ]
  },
  {
   "cell_type": "code",
   "execution_count": null,
   "metadata": {},
   "outputs": [],
   "source": [
    "# load data\n",
    "df5 = pd.read_csv('~/Desktop/section_4/temp_lags_12months_features.csv', header=0)\n",
    "df5.head()"
   ]
  },
  {
   "cell_type": "code",
   "execution_count": null,
   "metadata": {},
   "outputs": [],
   "source": [
    "temp = df5.values\n",
    "# split into lagged variables and original time series\n",
    "X5= temp[:,0:-1]  # slice all rows and start with column 0 and go up to but not including the last column\n",
    "y5 = temp[:,-1]  # slice all rows and last column, essentially separating out 't' column"
   ]
  },
  {
   "cell_type": "code",
   "execution_count": null,
   "metadata": {},
   "outputs": [],
   "source": [
    "# Columns t-1 to t-12, which are the lagged variables\n",
    "X5"
   ]
  },
  {
   "cell_type": "code",
   "execution_count": null,
   "metadata": {},
   "outputs": [],
   "source": [
    "# Column t, which is the original time series\n",
    "y5[0:10]"
   ]
  },
  {
   "cell_type": "code",
   "execution_count": null,
   "metadata": {},
   "outputs": [],
   "source": [
    "# Target Train-Test split\n",
    "from pandas import read_csv\n",
    "\n",
    "Y5 = y5\n",
    "traintarget_size = int(len(Y5) * 0.80)   # Set split\n",
    "train_target, test_target = Y5[0:traintarget_size], Y5[traintarget_size:len(Y5)]\n",
    "\n",
    "print('Observations for Target: %d' % (len(Y5)))\n",
    "print('Training Observations for Target: %d' % (len(train_target)))\n",
    "print('Testing Observations for Target: %d' % (len(test_target)))"
   ]
  },
  {
   "cell_type": "code",
   "execution_count": null,
   "metadata": {},
   "outputs": [],
   "source": [
    "# Features Train-Test split\n",
    "\n",
    "trainfeature_size = int(len(X5) * 0.80)\n",
    "train_feature, test_feature = X5[0:trainfeature_size], X5[trainfeature_size:len(X5)]\n",
    "print('Observations for feature: %d' % (len(X5)))\n",
    "print('Training Observations for feature: %d' % (len(train_feature)))\n",
    "print('Testing Observations for feature: %d' % (len(test_feature)))"
   ]
  },
  {
   "cell_type": "code",
   "execution_count": null,
   "metadata": {},
   "outputs": [],
   "source": [
    "# Decision Tree Regression Model\n",
    "\n",
    "from sklearn.tree import DecisionTreeRegressor\n",
    "\n",
    "# Create a decision tree regression model with default arguments\n",
    "decision_tree_temp = DecisionTreeRegressor()  # max-depth not set\n",
    "\n",
    "# Fit the model to the training features and targets\n",
    "decision_tree_temp.fit(train_feature, train_target)\n",
    "\n",
    "# Check the score on train and test\n",
    "print(decision_tree_temp.score(train_feature, train_target))\n",
    "print(decision_tree_temp.score(test_feature,test_target))  # predictions are horrible if negative value, no relationship if 0\n"
   ]
  },
  {
   "cell_type": "code",
   "execution_count": null,
   "metadata": {},
   "outputs": [],
   "source": [
    "# Find best max depth\n",
    "\n",
    "# Loop through a few different max depths and check the performance\n",
    "# Try different max depths. We want to optimize our ML models to make the best predictions possible.\n",
    "# For regular decision trees, max_depth, which is a hyperparameter, limits the number of splits in a tree.\n",
    "# You can find the best value of max_depth based on the R-squared score of the model on the test set.\n",
    "\n",
    "for d in [2, 3, 4, 5,7,8,10]:\n",
    "    # Create the tree and fit it\n",
    "    decision_tree_temp = DecisionTreeRegressor(max_depth=d)\n",
    "    decision_tree_temp.fit(train_feature, train_target)\n",
    "\n",
    "    # Print out the scores on train and test\n",
    "    print('max_depth=', str(d))\n",
    "    print(decision_tree_temp.score(train_feature, train_target))\n",
    "    print(decision_tree_temp.score(test_feature, test_target), '\\n')  # You want the test score to be positive and high\n",
    " \n"
   ]
  },
  {
   "cell_type": "code",
   "execution_count": null,
   "metadata": {},
   "outputs": [],
   "source": [
    "from matplotlib import pyplot as plt\n",
    "\n",
    "# Use the best max_depth \n",
    "decision_tree_temp = DecisionTreeRegressor(max_depth=4)\n",
    "decision_tree_temp.fit(train_feature, train_target)\n",
    "\n",
    "# Predict values for train and test\n",
    "train_prediction = decision_tree_temp.predict(train_feature)\n",
    "test_prediction = decision_tree_temp.predict(test_feature)\n",
    "\n",
    "# Scatter the predictions vs actual values\n",
    "plt.scatter(train_prediction, train_target, label='train')\n",
    "plt.scatter(test_prediction, test_target, label='test')\n",
    "plt.show()"
   ]
  },
  {
   "cell_type": "code",
   "execution_count": null,
   "metadata": {},
   "outputs": [],
   "source": []
  },
  {
   "cell_type": "markdown",
   "metadata": {},
   "source": [
    "## Summary"
   ]
  },
  {
   "cell_type": "markdown",
   "metadata": {},
   "source": [
    "In summary, we looked at a decision tree model on both datasets that consisted of 12 lagged variables.  The datasets were split into features and target. It was further split according to a training and test datasets. We determined that the best max_depth based on the best R-squared score on the test dataset model, which was max_depth with the highest and positive score. The max_depth determines the number of splits and is, essentially, the height of the tree. The scatterplot displays both the predicted and actual values. The decision tree models predicted training data better than test data."
   ]
  },
  {
   "cell_type": "code",
   "execution_count": null,
   "metadata": {},
   "outputs": [],
   "source": []
  },
  {
   "cell_type": "code",
   "execution_count": null,
   "metadata": {},
   "outputs": [],
   "source": [
    "# End"
   ]
  }
 ],
 "metadata": {
  "kernelspec": {
   "display_name": "Python 3 (ipykernel)",
   "language": "python",
   "name": "python3"
  },
  "language_info": {
   "codemirror_mode": {
    "name": "ipython",
    "version": 3
   },
   "file_extension": ".py",
   "mimetype": "text/x-python",
   "name": "python",
   "nbconvert_exporter": "python",
   "pygments_lexer": "ipython3",
   "version": "3.8.11"
  }
 },
 "nbformat": 4,
 "nbformat_minor": 2
}
