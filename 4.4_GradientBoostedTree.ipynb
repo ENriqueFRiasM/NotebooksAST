{
 "cells": [
  {
   "cell_type": "markdown",
   "metadata": {},
   "source": [
    "# Gradient Boosted Tree Model"
   ]
  },
  {
   "cell_type": "markdown",
   "metadata": {},
   "source": [
    "Gradient Boosted Tree is similar to random forest models, but the difference is that trees are built successively. With each iteration, the next tree fits the residual errors from the previous tree in order to improve the fit."
   ]
  },
  {
   "cell_type": "code",
   "execution_count": 1,
   "metadata": {},
   "outputs": [],
   "source": [
    "import pandas as pd\n",
    "import numpy as np\n",
    "from pandas import read_csv\n",
    "from matplotlib import pyplot as plot"
   ]
  },
  {
   "cell_type": "markdown",
   "metadata": {},
   "source": [
    "## Example 1:  Vacation dataset"
   ]
  },
  {
   "cell_type": "code",
   "execution_count": 2,
   "metadata": {},
   "outputs": [
    {
     "data": {
      "text/html": [
       "<div>\n",
       "<style scoped>\n",
       "    .dataframe tbody tr th:only-of-type {\n",
       "        vertical-align: middle;\n",
       "    }\n",
       "\n",
       "    .dataframe tbody tr th {\n",
       "        vertical-align: top;\n",
       "    }\n",
       "\n",
       "    .dataframe thead th {\n",
       "        text-align: right;\n",
       "    }\n",
       "</style>\n",
       "<table border=\"1\" class=\"dataframe\">\n",
       "  <thead>\n",
       "    <tr style=\"text-align: right;\">\n",
       "      <th></th>\n",
       "      <th>t-12</th>\n",
       "      <th>t-11</th>\n",
       "      <th>t-10</th>\n",
       "      <th>t-9</th>\n",
       "      <th>t-8</th>\n",
       "      <th>t-7</th>\n",
       "      <th>t-6</th>\n",
       "      <th>t-5</th>\n",
       "      <th>t-4</th>\n",
       "      <th>t-3</th>\n",
       "      <th>t-2</th>\n",
       "      <th>t-1</th>\n",
       "      <th>t</th>\n",
       "    </tr>\n",
       "  </thead>\n",
       "  <tbody>\n",
       "    <tr>\n",
       "      <th>0</th>\n",
       "      <td>10.0</td>\n",
       "      <td>9.0</td>\n",
       "      <td>-2.0</td>\n",
       "      <td>-17.0</td>\n",
       "      <td>-18.0</td>\n",
       "      <td>-1.0</td>\n",
       "      <td>3.0</td>\n",
       "      <td>4.0</td>\n",
       "      <td>33.0</td>\n",
       "      <td>-6.0</td>\n",
       "      <td>-3.0</td>\n",
       "      <td>-11.0</td>\n",
       "      <td>3.0</td>\n",
       "    </tr>\n",
       "    <tr>\n",
       "      <th>1</th>\n",
       "      <td>9.0</td>\n",
       "      <td>-2.0</td>\n",
       "      <td>-17.0</td>\n",
       "      <td>-18.0</td>\n",
       "      <td>-1.0</td>\n",
       "      <td>3.0</td>\n",
       "      <td>4.0</td>\n",
       "      <td>33.0</td>\n",
       "      <td>-6.0</td>\n",
       "      <td>-3.0</td>\n",
       "      <td>-11.0</td>\n",
       "      <td>3.0</td>\n",
       "      <td>13.0</td>\n",
       "    </tr>\n",
       "    <tr>\n",
       "      <th>2</th>\n",
       "      <td>-2.0</td>\n",
       "      <td>-17.0</td>\n",
       "      <td>-18.0</td>\n",
       "      <td>-1.0</td>\n",
       "      <td>3.0</td>\n",
       "      <td>4.0</td>\n",
       "      <td>33.0</td>\n",
       "      <td>-6.0</td>\n",
       "      <td>-3.0</td>\n",
       "      <td>-11.0</td>\n",
       "      <td>3.0</td>\n",
       "      <td>13.0</td>\n",
       "      <td>-4.0</td>\n",
       "    </tr>\n",
       "    <tr>\n",
       "      <th>3</th>\n",
       "      <td>-17.0</td>\n",
       "      <td>-18.0</td>\n",
       "      <td>-1.0</td>\n",
       "      <td>3.0</td>\n",
       "      <td>4.0</td>\n",
       "      <td>33.0</td>\n",
       "      <td>-6.0</td>\n",
       "      <td>-3.0</td>\n",
       "      <td>-11.0</td>\n",
       "      <td>3.0</td>\n",
       "      <td>13.0</td>\n",
       "      <td>-4.0</td>\n",
       "      <td>-16.0</td>\n",
       "    </tr>\n",
       "    <tr>\n",
       "      <th>4</th>\n",
       "      <td>-18.0</td>\n",
       "      <td>-1.0</td>\n",
       "      <td>3.0</td>\n",
       "      <td>4.0</td>\n",
       "      <td>33.0</td>\n",
       "      <td>-6.0</td>\n",
       "      <td>-3.0</td>\n",
       "      <td>-11.0</td>\n",
       "      <td>3.0</td>\n",
       "      <td>13.0</td>\n",
       "      <td>-4.0</td>\n",
       "      <td>-16.0</td>\n",
       "      <td>-20.0</td>\n",
       "    </tr>\n",
       "  </tbody>\n",
       "</table>\n",
       "</div>"
      ],
      "text/plain": [
       "   t-12  t-11  t-10   t-9   t-8   t-7   t-6   t-5   t-4   t-3   t-2   t-1  \\\n",
       "0  10.0   9.0  -2.0 -17.0 -18.0  -1.0   3.0   4.0  33.0  -6.0  -3.0 -11.0   \n",
       "1   9.0  -2.0 -17.0 -18.0  -1.0   3.0   4.0  33.0  -6.0  -3.0 -11.0   3.0   \n",
       "2  -2.0 -17.0 -18.0  -1.0   3.0   4.0  33.0  -6.0  -3.0 -11.0   3.0  13.0   \n",
       "3 -17.0 -18.0  -1.0   3.0   4.0  33.0  -6.0  -3.0 -11.0   3.0  13.0  -4.0   \n",
       "4 -18.0  -1.0   3.0   4.0  33.0  -6.0  -3.0 -11.0   3.0  13.0  -4.0 -16.0   \n",
       "\n",
       "      t  \n",
       "0   3.0  \n",
       "1  13.0  \n",
       "2  -4.0  \n",
       "3 -16.0  \n",
       "4 -20.0  "
      ]
     },
     "execution_count": 2,
     "metadata": {},
     "output_type": "execute_result"
    }
   ],
   "source": [
    "# load data\n",
    "df1 = pd.read_csv('vacation_lags_12months_features.csv', header=0)\n",
    "df1.head()"
   ]
  },
  {
   "cell_type": "code",
   "execution_count": 3,
   "metadata": {},
   "outputs": [],
   "source": [
    "# Split data\n",
    "\n",
    "vacat = df1.values\n",
    "# split into lagged variables and original time series\n",
    "X1= vacat[:, 0:-1]  # slice all rows and start with column 0 and go up to but not including the last column\n",
    "y1 = vacat[:,-1]  # slice all rows and last column, essentially separating out 't' column"
   ]
  },
  {
   "cell_type": "code",
   "execution_count": 4,
   "metadata": {},
   "outputs": [],
   "source": [
    "# Columns t-1 to t-12, which are the lagged variables\n",
    "# X1"
   ]
  },
  {
   "cell_type": "code",
   "execution_count": 5,
   "metadata": {},
   "outputs": [],
   "source": [
    "# Column t, which is the original time series\n",
    "# y1[0:10]"
   ]
  },
  {
   "cell_type": "code",
   "execution_count": 6,
   "metadata": {},
   "outputs": [
    {
     "name": "stdout",
     "output_type": "stream",
     "text": [
      "Observations for Target: 174\n",
      "Training Observations for Target: 130\n",
      "Testing Observations for Target: 44\n"
     ]
    }
   ],
   "source": [
    "# Target Train-Test split\n",
    "from pandas import read_csv\n",
    "\n",
    "Y1 = y1\n",
    "traintarget_size = int(len(Y1) * 0.75)   # Set split\n",
    "train_target, test_target = Y1[0:traintarget_size], Y1[traintarget_size:len(Y1)]\n",
    "\n",
    "print('Observations for Target: %d' % (len(Y1)))\n",
    "print('Training Observations for Target: %d' % (len(train_target)))\n",
    "print('Testing Observations for Target: %d' % (len(test_target)))"
   ]
  },
  {
   "cell_type": "code",
   "execution_count": 7,
   "metadata": {},
   "outputs": [
    {
     "name": "stdout",
     "output_type": "stream",
     "text": [
      "Observations for feature: 174\n",
      "Training Observations for feature: 130\n",
      "Testing Observations for feature: 44\n"
     ]
    }
   ],
   "source": [
    "# Features Train-Test split\n",
    "\n",
    "trainfeature_size = int(len(X1) * 0.75)\n",
    "train_feature, test_feature = X1[0:trainfeature_size], X1[trainfeature_size:len(X1)]\n",
    "print('Observations for feature: %d' % (len(X1)))\n",
    "print('Training Observations for feature: %d' % (len(train_feature)))\n",
    "print('Testing Observations for feature: %d' % (len(test_feature)))"
   ]
  },
  {
   "cell_type": "code",
   "execution_count": 8,
   "metadata": {},
   "outputs": [
    {
     "name": "stdout",
     "output_type": "stream",
     "text": [
      "0.977863685438799\n",
      "0.7237380036296147\n"
     ]
    }
   ],
   "source": [
    "# Gradient Boosted Regression Model\n",
    "# https://scikit-learn.org/stable/modules/generated/sklearn.ensemble.GradientBoostingRegressor.html\n",
    "from sklearn.ensemble import GradientBoostingRegressor\n",
    "\n",
    "\n",
    "# The fraction of samples to be used for fitting the individual base learners. \n",
    "# Choosing subsample < 1.0 leads to a reduction of variance and an increase in bias.\n",
    "# Create GB model -- hyperparameters \n",
    "gbr = GradientBoostingRegressor(max_features=2,\n",
    "                                learning_rate=0.01,\n",
    "                                n_estimators=500,\n",
    "                                subsample=0.6,\n",
    "                                random_state=99)\n",
    "\n",
    "gbr.fit(train_feature, train_target)\n",
    "\n",
    "print(gbr.score(train_feature, train_target))\n",
    "print(gbr.score(test_feature, test_target))"
   ]
  },
  {
   "cell_type": "code",
   "execution_count": 15,
   "metadata": {},
   "outputs": [],
   "source": [
    "\n",
    "from sklearn.model_selection import ParameterGrid\n",
    "\n",
    "grid = {'subsample':[0.6],'n_estimators': [100,200,250,300,500], \n",
    "        'learning_rate': [0.01,0.01, 0.1, 0.5],'max_features': [2,3,4,5,6],\n",
    "            'random_state': [17]}"
   ]
  },
  {
   "cell_type": "code",
   "execution_count": 17,
   "metadata": {},
   "outputs": [
    {
     "name": "stdout",
     "output_type": "stream",
     "text": [
      "0.7930923716834288 {'subsample': 0.6, 'random_state': 17, 'n_estimators': 300, 'max_features': 6, 'learning_rate': 0.1}\n",
      "0.999581785837155\n"
     ]
    }
   ],
   "source": [
    "# Run grid search\n",
    "# grid = {'n_estimators': [200], 'max_depth': [2, 3, 4, 5, 6, 7, 8, 9, 10],'max_features': [2, 3, 4, 5, 6, 7, 8, 9, 10, 11, 12], 'random_state': [17]}\n",
    "\n",
    "test_scores = []\n",
    "train_scores= []\n",
    "\n",
    "#print(list(ParameterGrid(grid)))\n",
    "\n",
    "# Loop through the parameter grid, set the hyperparameters, and save the scores\n",
    "for g in ParameterGrid(grid):\n",
    "    \n",
    "    gbr.set_params(**g)  # ** is \"unpacking\" the dictionary\n",
    "    gbr.fit(train_feature, train_target)\n",
    "    test_scores.append(gbr.score(test_feature, test_target))\n",
    "    train_scores.append(gbr.score(train_feature, train_target))\n",
    "\n",
    "# Find best hyperparameters from the test score and print\n",
    "best_idx = np.argmax(test_scores)\n",
    "\n",
    "#print(train_scores)\n",
    "#print(test_scores)\n",
    "\n",
    "print(test_scores[best_idx], ParameterGrid(grid)[best_idx])  # You don't want negative value\n",
    "print(train_scores[best_idx])"
   ]
  },
  {
   "cell_type": "code",
   "execution_count": 18,
   "metadata": {},
   "outputs": [
    {
     "data": {
      "image/png": "[encoded data removed]",
      "text/plain": [
       "<Figure size 432x288 with 1 Axes>"
      ]
     },
     "metadata": {
      "needs_background": "light"
     },
     "output_type": "display_data"
    }
   ],
   "source": [
    "# Gradient Boosted Model Feature Importance\n",
    "# Extract feature importances from the fitted gradient boosting model\n",
    "feature_importances = gbr.feature_importances_\n",
    "\n",
    "# Get the indices of the largest to smallest feature importances\n",
    "sorted_index = np.argsort(feature_importances)[::-1]\n",
    "x1 = range(X1.shape[1])\n",
    "\n",
    "# Create tick labels \n",
    "feature_names = ['t-12', 't-11', 't-10', 't-9', 't-8', 't-7', 't-6', 't-5', 't-4', 't-3',\n",
    "       't-2', 't-1']\n",
    "labels = np.array(feature_names)[sorted_index]\n",
    "\n",
    "plot.bar(x1, feature_importances[sorted_index], tick_label=labels)\n",
    "\n",
    "# Set the tick lables to be the feature names, according to the sorted feature_idx\n",
    "plot.xticks(rotation=90)\n",
    "plot.show()"
   ]
  },
  {
   "cell_type": "code",
   "execution_count": null,
   "metadata": {},
   "outputs": [],
   "source": []
  },
  {
   "cell_type": "markdown",
   "metadata": {},
   "source": [
    "## Example 2: Furniture Dataset"
   ]
  },
  {
   "cell_type": "code",
   "execution_count": 8,
   "metadata": {},
   "outputs": [
    {
     "data": {
      "text/html": [
       "<div>\n",
       "<style scoped>\n",
       "    .dataframe tbody tr th:only-of-type {\n",
       "        vertical-align: middle;\n",
       "    }\n",
       "\n",
       "    .dataframe tbody tr th {\n",
       "        vertical-align: top;\n",
       "    }\n",
       "\n",
       "    .dataframe thead th {\n",
       "        text-align: right;\n",
       "    }\n",
       "</style>\n",
       "<table border=\"1\" class=\"dataframe\">\n",
       "  <thead>\n",
       "    <tr style=\"text-align: right;\">\n",
       "      <th></th>\n",
       "      <th>t-12</th>\n",
       "      <th>t-11</th>\n",
       "      <th>t-10</th>\n",
       "      <th>t-9</th>\n",
       "      <th>t-8</th>\n",
       "      <th>t-7</th>\n",
       "      <th>t-6</th>\n",
       "      <th>t-5</th>\n",
       "      <th>t-4</th>\n",
       "      <th>t-3</th>\n",
       "      <th>t-2</th>\n",
       "      <th>t-1</th>\n",
       "      <th>t</th>\n",
       "    </tr>\n",
       "  </thead>\n",
       "  <tbody>\n",
       "    <tr>\n",
       "      <td>0</td>\n",
       "      <td>0.069088</td>\n",
       "      <td>-0.002419</td>\n",
       "      <td>0.033839</td>\n",
       "      <td>0.022829</td>\n",
       "      <td>0.013640</td>\n",
       "      <td>0.011722</td>\n",
       "      <td>-0.023777</td>\n",
       "      <td>0.042725</td>\n",
       "      <td>0.043720</td>\n",
       "      <td>0.127219</td>\n",
       "      <td>-0.219927</td>\n",
       "      <td>-0.044419</td>\n",
       "      <td>0.121869</td>\n",
       "    </tr>\n",
       "    <tr>\n",
       "      <td>1</td>\n",
       "      <td>-0.002419</td>\n",
       "      <td>0.033839</td>\n",
       "      <td>0.022829</td>\n",
       "      <td>0.013640</td>\n",
       "      <td>0.011722</td>\n",
       "      <td>-0.023777</td>\n",
       "      <td>0.042725</td>\n",
       "      <td>0.043720</td>\n",
       "      <td>0.127219</td>\n",
       "      <td>-0.219927</td>\n",
       "      <td>-0.044419</td>\n",
       "      <td>0.121869</td>\n",
       "      <td>0.003474</td>\n",
       "    </tr>\n",
       "    <tr>\n",
       "      <td>2</td>\n",
       "      <td>0.033839</td>\n",
       "      <td>0.022829</td>\n",
       "      <td>0.013640</td>\n",
       "      <td>0.011722</td>\n",
       "      <td>-0.023777</td>\n",
       "      <td>0.042725</td>\n",
       "      <td>0.043720</td>\n",
       "      <td>0.127219</td>\n",
       "      <td>-0.219927</td>\n",
       "      <td>-0.044419</td>\n",
       "      <td>0.121869</td>\n",
       "      <td>0.003474</td>\n",
       "      <td>0.038723</td>\n",
       "    </tr>\n",
       "    <tr>\n",
       "      <td>3</td>\n",
       "      <td>0.022829</td>\n",
       "      <td>0.013640</td>\n",
       "      <td>0.011722</td>\n",
       "      <td>-0.023777</td>\n",
       "      <td>0.042725</td>\n",
       "      <td>0.043720</td>\n",
       "      <td>0.127219</td>\n",
       "      <td>-0.219927</td>\n",
       "      <td>-0.044419</td>\n",
       "      <td>0.121869</td>\n",
       "      <td>0.003474</td>\n",
       "      <td>0.038723</td>\n",
       "      <td>0.008674</td>\n",
       "    </tr>\n",
       "    <tr>\n",
       "      <td>4</td>\n",
       "      <td>0.013640</td>\n",
       "      <td>0.011722</td>\n",
       "      <td>-0.023777</td>\n",
       "      <td>0.042725</td>\n",
       "      <td>0.043720</td>\n",
       "      <td>0.127219</td>\n",
       "      <td>-0.219927</td>\n",
       "      <td>-0.044419</td>\n",
       "      <td>0.121869</td>\n",
       "      <td>0.003474</td>\n",
       "      <td>0.038723</td>\n",
       "      <td>0.008674</td>\n",
       "      <td>0.024956</td>\n",
       "    </tr>\n",
       "  </tbody>\n",
       "</table>\n",
       "</div>"
      ],
      "text/plain": [
       "       t-12      t-11      t-10       t-9       t-8       t-7       t-6  \\\n",
       "0  0.069088 -0.002419  0.033839  0.022829  0.013640  0.011722 -0.023777   \n",
       "1 -0.002419  0.033839  0.022829  0.013640  0.011722 -0.023777  0.042725   \n",
       "2  0.033839  0.022829  0.013640  0.011722 -0.023777  0.042725  0.043720   \n",
       "3  0.022829  0.013640  0.011722 -0.023777  0.042725  0.043720  0.127219   \n",
       "4  0.013640  0.011722 -0.023777  0.042725  0.043720  0.127219 -0.219927   \n",
       "\n",
       "        t-5       t-4       t-3       t-2       t-1         t  \n",
       "0  0.042725  0.043720  0.127219 -0.219927 -0.044419  0.121869  \n",
       "1  0.043720  0.127219 -0.219927 -0.044419  0.121869  0.003474  \n",
       "2  0.127219 -0.219927 -0.044419  0.121869  0.003474  0.038723  \n",
       "3 -0.219927 -0.044419  0.121869  0.003474  0.038723  0.008674  \n",
       "4 -0.044419  0.121869  0.003474  0.038723  0.008674  0.024956  "
      ]
     },
     "execution_count": 8,
     "metadata": {},
     "output_type": "execute_result"
    }
   ],
   "source": [
    "# load data, this data has been stationarized\n",
    "df2 = pd.read_csv('~/Desktop/section_4/furniture_lags_12months_features.csv', header=0)\n",
    "df2.head()"
   ]
  },
  {
   "cell_type": "code",
   "execution_count": 9,
   "metadata": {},
   "outputs": [],
   "source": [
    "# Split Data\n",
    "\n",
    "furn = df2.values\n",
    "# split into lagged variables (features) and original time series data (target)\n",
    "X2= furn[:,0:-1]  # slice all rows and start with column 0 and go up to but not including the last column\n",
    "y2 = furn[:,-1]  # slice all rows and last column, essentially separating out 't' column"
   ]
  },
  {
   "cell_type": "code",
   "execution_count": 10,
   "metadata": {},
   "outputs": [
    {
     "data": {
      "text/plain": [
       "array([[ 0.06908776, -0.00241871,  0.03383942, ...,  0.12721928,\n",
       "        -0.21992713, -0.04441943],\n",
       "       [-0.00241871,  0.03383942,  0.02282904, ..., -0.21992713,\n",
       "        -0.04441943,  0.12186938],\n",
       "       [ 0.03383942,  0.02282904,  0.01364014, ..., -0.04441943,\n",
       "         0.12186938,  0.00347408],\n",
       "       ...,\n",
       "       [ 0.08460108, -0.01831672, -0.00127104, ..., -0.01906175,\n",
       "         0.17492792, -0.04829062],\n",
       "       [-0.01831672, -0.00127104,  0.04903607, ...,  0.17492792,\n",
       "        -0.04829062,  0.08136081],\n",
       "       [-0.00127104,  0.04903607, -0.06026621, ..., -0.04829062,\n",
       "         0.08136081, -0.05698937]])"
      ]
     },
     "execution_count": 10,
     "metadata": {},
     "output_type": "execute_result"
    }
   ],
   "source": [
    "# Columns t-1 to t-12, which are the lagged variables\n",
    "X2"
   ]
  },
  {
   "cell_type": "code",
   "execution_count": 11,
   "metadata": {},
   "outputs": [
    {
     "data": {
      "text/plain": [
       "array([ 0.12186938,  0.00347408,  0.03872338,  0.00867379,  0.02495622,\n",
       "        0.01369304, -0.02164084,  0.03759901,  0.08095082,  0.09170221])"
      ]
     },
     "execution_count": 11,
     "metadata": {},
     "output_type": "execute_result"
    }
   ],
   "source": [
    "# Column t, which is the original time series\n",
    "# Give first 10 values of target variable, time series\n",
    "y2[0:10]"
   ]
  },
  {
   "cell_type": "markdown",
   "metadata": {},
   "source": [
    "Below, you can alter the splits as 50-50, 60-40, 70-30, 75-25, 80-20, and 85-15, etc. "
   ]
  },
  {
   "cell_type": "code",
   "execution_count": 12,
   "metadata": {},
   "outputs": [
    {
     "name": "stdout",
     "output_type": "stream",
     "text": [
      "Observations for Target: 317\n",
      "Training Observations for Target: 237\n",
      "Testing Observations for Target: 80\n"
     ]
    }
   ],
   "source": [
    "# Target Train-Test split\n",
    "from pandas import read_csv\n",
    "\n",
    "Y2 = y2\n",
    "traintarget_size = int(len(Y2) * 0.75)   # Set split\n",
    "train_target, test_target = Y2[0:traintarget_size], Y2[traintarget_size:len(Y2)]\n",
    "\n",
    "print('Observations for Target: %d' % (len(Y2)))\n",
    "print('Training Observations for Target: %d' % (len(train_target)))\n",
    "print('Testing Observations for Target: %d' % (len(test_target)))"
   ]
  },
  {
   "cell_type": "code",
   "execution_count": 13,
   "metadata": {},
   "outputs": [
    {
     "name": "stdout",
     "output_type": "stream",
     "text": [
      "Observations for feature: 317\n",
      "Training Observations for feature: 237\n",
      "Testing Observations for feature: 80\n"
     ]
    }
   ],
   "source": [
    "# Features Train-Test split\n",
    "\n",
    "trainfeature_size = int(len(X2) * 0.75)\n",
    "train_feature, test_feature = X2[0:trainfeature_size], X2[trainfeature_size:len(X2)]\n",
    "print('Observations for feature: %d' % (len(X2)))\n",
    "print('Training Observations for feature: %d' % (len(train_feature)))\n",
    "print('Testing Observations for feature: %d' % (len(test_feature)))"
   ]
  },
  {
   "cell_type": "code",
   "execution_count": 14,
   "metadata": {},
   "outputs": [
    {
     "name": "stdout",
     "output_type": "stream",
     "text": [
      "0.9646015239785328\n",
      "0.9023134137739652\n"
     ]
    }
   ],
   "source": [
    "# https://scikit-learn.org/stable/modules/generated/sklearn.ensemble.GradientBoostingRegressor.html\n",
    "from sklearn.ensemble import GradientBoostingRegressor\n",
    "\n",
    "\n",
    "# The fraction of samples to be used for fitting the individual base learners. \n",
    "# Choosing subsample < 1.0 leads to a reduction of variance and an increase in bias.\n",
    "# Create GB model -- hyperparameters \n",
    "gbr = GradientBoostingRegressor(max_features=7,\n",
    "                                learning_rate=0.01,\n",
    "                                n_estimators=500,\n",
    "                                subsample=0.6,\n",
    "                                random_state=99)\n",
    "\n",
    "gbr.fit(train_feature, train_target)\n",
    "\n",
    "print(gbr.score(train_feature, train_target))\n",
    "print(gbr.score(test_feature, test_target))"
   ]
  },
  {
   "cell_type": "markdown",
   "metadata": {},
   "source": [
    "The GB model is  better than Random Forest model."
   ]
  },
  {
   "cell_type": "markdown",
   "metadata": {},
   "source": [
    "We can extract feature importances from gradient boosting models to understand which features are the best predictors. Sometimes it's nice to try different tree-based models and look at the feature importances from all of them. This can help average out any peculiarities that may arise from one particular model.\n",
    "\n",
    "The feature importances are stored as a numpy array in the .feature_importances_ property of the gradient boosting model. We'll need to get the sorted indices of the feature importances, using np.argsort(), in order to make a nice plot. We want the features from largest to smallest, so we will use Python's indexing to reverse the sorted importances like feat_importances[::-1]."
   ]
  },
  {
   "cell_type": "code",
   "execution_count": 15,
   "metadata": {},
   "outputs": [
    {
     "data": {
      "image/png": "[encoded data removed]",
      "text/plain": [
       "<Figure size 432x288 with 1 Axes>"
      ]
     },
     "metadata": {
      "needs_background": "light"
     },
     "output_type": "display_data"
    }
   ],
   "source": [
    "# Gradient Boosted Model Feature Importance\n",
    "# Extract feature importances from the fitted gradient boosting model\n",
    "feature_importances = gbr.feature_importances_\n",
    "\n",
    "# Get the indices of the largest to smallest feature importances\n",
    "sorted_index = np.argsort(feature_importances)[::-1]\n",
    "x2 = range(X2.shape[1])\n",
    "\n",
    "# Create tick labels \n",
    "feature_names = ['t-12', 't-11', 't-10', 't-9', 't-8', 't-7', 't-6', 't-5', 't-4', 't-3',\n",
    "       't-2', 't-1']\n",
    "labels = np.array(feature_names)[sorted_index]\n",
    "\n",
    "plot.bar(x2, feature_importances[sorted_index], tick_label=labels)\n",
    "\n",
    "# Set the tick lables to be the feature names, according to the sorted feature_idx\n",
    "plot.xticks(rotation=90)\n",
    "plot.show()"
   ]
  },
  {
   "cell_type": "markdown",
   "metadata": {},
   "source": [
    "Notice the feature importances are not exactly the same as the random forest model's but they are close."
   ]
  },
  {
   "cell_type": "markdown",
   "metadata": {},
   "source": [
    "## Example 3: Bank of America Dataset"
   ]
  },
  {
   "cell_type": "code",
   "execution_count": 16,
   "metadata": {},
   "outputs": [
    {
     "data": {
      "text/html": [
       "<div>\n",
       "<style scoped>\n",
       "    .dataframe tbody tr th:only-of-type {\n",
       "        vertical-align: middle;\n",
       "    }\n",
       "\n",
       "    .dataframe tbody tr th {\n",
       "        vertical-align: top;\n",
       "    }\n",
       "\n",
       "    .dataframe thead th {\n",
       "        text-align: right;\n",
       "    }\n",
       "</style>\n",
       "<table border=\"1\" class=\"dataframe\">\n",
       "  <thead>\n",
       "    <tr style=\"text-align: right;\">\n",
       "      <th></th>\n",
       "      <th>t-12</th>\n",
       "      <th>t-11</th>\n",
       "      <th>t-10</th>\n",
       "      <th>t-9</th>\n",
       "      <th>t-8</th>\n",
       "      <th>t-7</th>\n",
       "      <th>t-6</th>\n",
       "      <th>t-5</th>\n",
       "      <th>t-4</th>\n",
       "      <th>t-3</th>\n",
       "      <th>t-2</th>\n",
       "      <th>t-1</th>\n",
       "      <th>t</th>\n",
       "    </tr>\n",
       "  </thead>\n",
       "  <tbody>\n",
       "    <tr>\n",
       "      <td>0</td>\n",
       "      <td>1.687537</td>\n",
       "      <td>1.469485</td>\n",
       "      <td>1.441042</td>\n",
       "      <td>1.525887</td>\n",
       "      <td>1.476664</td>\n",
       "      <td>1.412676</td>\n",
       "      <td>1.341841</td>\n",
       "      <td>0.879137</td>\n",
       "      <td>0.709480</td>\n",
       "      <td>0.987102</td>\n",
       "      <td>1.002662</td>\n",
       "      <td>1.232781</td>\n",
       "      <td>1.282093</td>\n",
       "    </tr>\n",
       "    <tr>\n",
       "      <td>1</td>\n",
       "      <td>1.469485</td>\n",
       "      <td>1.441042</td>\n",
       "      <td>1.525887</td>\n",
       "      <td>1.476664</td>\n",
       "      <td>1.412676</td>\n",
       "      <td>1.341841</td>\n",
       "      <td>0.879137</td>\n",
       "      <td>0.709480</td>\n",
       "      <td>0.987102</td>\n",
       "      <td>1.002662</td>\n",
       "      <td>1.232781</td>\n",
       "      <td>1.282093</td>\n",
       "      <td>1.595426</td>\n",
       "    </tr>\n",
       "    <tr>\n",
       "      <td>2</td>\n",
       "      <td>1.441042</td>\n",
       "      <td>1.525887</td>\n",
       "      <td>1.476664</td>\n",
       "      <td>1.412676</td>\n",
       "      <td>1.341841</td>\n",
       "      <td>0.879137</td>\n",
       "      <td>0.709480</td>\n",
       "      <td>0.987102</td>\n",
       "      <td>1.002662</td>\n",
       "      <td>1.232781</td>\n",
       "      <td>1.282093</td>\n",
       "      <td>1.595426</td>\n",
       "      <td>1.699101</td>\n",
       "    </tr>\n",
       "    <tr>\n",
       "      <td>3</td>\n",
       "      <td>1.525887</td>\n",
       "      <td>1.476664</td>\n",
       "      <td>1.412676</td>\n",
       "      <td>1.341841</td>\n",
       "      <td>0.879137</td>\n",
       "      <td>0.709480</td>\n",
       "      <td>0.987102</td>\n",
       "      <td>1.002662</td>\n",
       "      <td>1.232781</td>\n",
       "      <td>1.282093</td>\n",
       "      <td>1.595426</td>\n",
       "      <td>1.699101</td>\n",
       "      <td>1.941008</td>\n",
       "    </tr>\n",
       "    <tr>\n",
       "      <td>4</td>\n",
       "      <td>1.476664</td>\n",
       "      <td>1.412676</td>\n",
       "      <td>1.341841</td>\n",
       "      <td>0.879137</td>\n",
       "      <td>0.709480</td>\n",
       "      <td>0.987102</td>\n",
       "      <td>1.002662</td>\n",
       "      <td>1.232781</td>\n",
       "      <td>1.282093</td>\n",
       "      <td>1.595426</td>\n",
       "      <td>1.699101</td>\n",
       "      <td>1.941008</td>\n",
       "      <td>1.707245</td>\n",
       "    </tr>\n",
       "  </tbody>\n",
       "</table>\n",
       "</div>"
      ],
      "text/plain": [
       "       t-12      t-11      t-10       t-9       t-8       t-7       t-6  \\\n",
       "0  1.687537  1.469485  1.441042  1.525887  1.476664  1.412676  1.341841   \n",
       "1  1.469485  1.441042  1.525887  1.476664  1.412676  1.341841  0.879137   \n",
       "2  1.441042  1.525887  1.476664  1.412676  1.341841  0.879137  0.709480   \n",
       "3  1.525887  1.476664  1.412676  1.341841  0.879137  0.709480  0.987102   \n",
       "4  1.476664  1.412676  1.341841  0.879137  0.709480  0.987102  1.002662   \n",
       "\n",
       "        t-5       t-4       t-3       t-2       t-1         t  \n",
       "0  0.879137  0.709480  0.987102  1.002662  1.232781  1.282093  \n",
       "1  0.709480  0.987102  1.002662  1.232781  1.282093  1.595426  \n",
       "2  0.987102  1.002662  1.232781  1.282093  1.595426  1.699101  \n",
       "3  1.002662  1.232781  1.282093  1.595426  1.699101  1.941008  \n",
       "4  1.232781  1.282093  1.595426  1.699101  1.941008  1.707245  "
      ]
     },
     "execution_count": 16,
     "metadata": {},
     "output_type": "execute_result"
    }
   ],
   "source": [
    "# load data, this data has been stationarized\n",
    "df3 = pd.read_csv('~/Desktop/section_4/bac_lags_12months_features.csv', header=0)\n",
    "df3.head()"
   ]
  },
  {
   "cell_type": "code",
   "execution_count": 17,
   "metadata": {},
   "outputs": [],
   "source": [
    "# Split Data\n",
    "\n",
    "bac = df3.values\n",
    "# split into lagged variables (features) and original time series data (target)\n",
    "X3= bac[:,0:-1]  # slice all rows and start with column 0 and go up to but not including the last column\n",
    "y3 = bac[:,-1]  # slice all rows and last column, essentially separating out 't' column"
   ]
  },
  {
   "cell_type": "code",
   "execution_count": 18,
   "metadata": {},
   "outputs": [
    {
     "data": {
      "text/plain": [
       "array([[ 1.68753707,  1.46948457,  1.44104242, ...,  0.98710191,\n",
       "         1.00266206,  1.23278129],\n",
       "       [ 1.46948457,  1.44104242,  1.52588725, ...,  1.00266206,\n",
       "         1.23278129,  1.28209293],\n",
       "       [ 1.44104242,  1.52588725,  1.47666395, ...,  1.23278129,\n",
       "         1.28209293,  1.59542644],\n",
       "       ...,\n",
       "       [30.09263229, 28.80098343, 26.88482857, ..., 26.28380585,\n",
       "        28.81011391, 30.47911263],\n",
       "       [28.80098343, 26.88482857, 27.76469421, ..., 28.81011391,\n",
       "        30.47911263, 27.32987022],\n",
       "       [26.88482857, 27.76469421, 24.22343063, ..., 30.47911263,\n",
       "        27.32987022, 29.17000008]])"
      ]
     },
     "execution_count": 18,
     "metadata": {},
     "output_type": "execute_result"
    }
   ],
   "source": [
    "# Columns t-1 to t-12, which are the lagged variables\n",
    "X3"
   ]
  },
  {
   "cell_type": "code",
   "execution_count": 19,
   "metadata": {},
   "outputs": [
    {
     "data": {
      "text/plain": [
       "array([1.28209293, 1.59542644, 1.69910097, 1.94100773, 1.70724475,\n",
       "       1.65948939, 1.91634405, 1.76750135, 1.85432637, 1.70548344])"
      ]
     },
     "execution_count": 19,
     "metadata": {},
     "output_type": "execute_result"
    }
   ],
   "source": [
    "# Column t, which is the original time series\n",
    "# Give first 10 values of target variable, time series\n",
    "y3[0:10]"
   ]
  },
  {
   "cell_type": "code",
   "execution_count": 20,
   "metadata": {},
   "outputs": [
    {
     "name": "stdout",
     "output_type": "stream",
     "text": [
      "Observations for Target: 345\n",
      "Training Observations for Target: 258\n",
      "Testing Observations for Target: 87\n"
     ]
    }
   ],
   "source": [
    "# Target Train-Test split\n",
    "from pandas import read_csv\n",
    "\n",
    "Y3 = y3\n",
    "traintarget_size = int(len(Y3) * 0.75)   # Set split\n",
    "train_target, test_target = Y3[0:traintarget_size], Y3[traintarget_size:len(Y3)]\n",
    "\n",
    "print('Observations for Target: %d' % (len(Y3)))\n",
    "print('Training Observations for Target: %d' % (len(train_target)))\n",
    "print('Testing Observations for Target: %d' % (len(test_target)))"
   ]
  },
  {
   "cell_type": "code",
   "execution_count": 21,
   "metadata": {},
   "outputs": [
    {
     "name": "stdout",
     "output_type": "stream",
     "text": [
      "Observations for feature: 345\n",
      "Training Observations for feature: 258\n",
      "Testing Observations for feature: 87\n"
     ]
    }
   ],
   "source": [
    "# Features Train-Test split\n",
    "\n",
    "trainfeature_size = int(len(X3) * 0.75)\n",
    "train_feature, test_feature = X3[0:trainfeature_size], X3[trainfeature_size:len(X3)]\n",
    "print('Observations for feature: %d' % (len(X3)))\n",
    "print('Training Observations for feature: %d' % (len(train_feature)))\n",
    "print('Testing Observations for feature: %d' % (len(test_feature)))"
   ]
  },
  {
   "cell_type": "code",
   "execution_count": 22,
   "metadata": {},
   "outputs": [
    {
     "name": "stdout",
     "output_type": "stream",
     "text": [
      "0.99460446666043\n",
      "0.9521949350955565\n"
     ]
    }
   ],
   "source": [
    "# https://scikit-learn.org/stable/modules/generated/sklearn.ensemble.GradientBoostingRegressor.html\n",
    "from sklearn.ensemble import GradientBoostingRegressor\n",
    "\n",
    "\n",
    "# The fraction of samples to be used for fitting the individual base learners. \n",
    "# Choosing subsample < 1.0 leads to a reduction of variance and an increase in bias.\n",
    "# Create GB model -- hyperparameters\n",
    "gbr = GradientBoostingRegressor(max_features=8,\n",
    "                                learning_rate=0.01,\n",
    "                                n_estimators=500,\n",
    "                                subsample=0.6,\n",
    "                                random_state=99)\n",
    "\n",
    "gbr.fit(train_feature, train_target)\n",
    "\n",
    "print(gbr.score(train_feature, train_target))\n",
    "print(gbr.score(test_feature, test_target))"
   ]
  },
  {
   "cell_type": "code",
   "execution_count": 23,
   "metadata": {},
   "outputs": [
    {
     "data": {
      "image/png": "[encoded data removed]",
      "text/plain": [
       "<Figure size 432x288 with 1 Axes>"
      ]
     },
     "metadata": {
      "needs_background": "light"
     },
     "output_type": "display_data"
    }
   ],
   "source": [
    "# Gradient Boosted Model Feature Importance\n",
    "# Extract feature importances from the fitted gradient boosting model\n",
    "feature_importances = gbr.feature_importances_\n",
    "\n",
    "# Get the indices of the largest to smallest feature importances\n",
    "sorted_index = np.argsort(feature_importances)[::-1]\n",
    "x3 = range(X3.shape[1])\n",
    "\n",
    "# Create tick labels \n",
    "feature_names = ['t-12', 't-11', 't-10', 't-9', 't-8', 't-7', 't-6', 't-5', 't-4', 't-3',\n",
    "       't-2', 't-1']\n",
    "labels = np.array(feature_names)[sorted_index]\n",
    "\n",
    "plot.bar(x3, feature_importances[sorted_index], tick_label=labels)\n",
    "\n",
    "# Set the tick lables to be the feature names, according to the sorted feature_idx\n",
    "plot.xticks(rotation=90)\n",
    "plot.show()"
   ]
  },
  {
   "cell_type": "markdown",
   "metadata": {},
   "source": [
    "## Example 4:  J.P. Morgan Dataset"
   ]
  },
  {
   "cell_type": "code",
   "execution_count": 24,
   "metadata": {},
   "outputs": [
    {
     "data": {
      "text/html": [
       "<div>\n",
       "<style scoped>\n",
       "    .dataframe tbody tr th:only-of-type {\n",
       "        vertical-align: middle;\n",
       "    }\n",
       "\n",
       "    .dataframe tbody tr th {\n",
       "        vertical-align: top;\n",
       "    }\n",
       "\n",
       "    .dataframe thead th {\n",
       "        text-align: right;\n",
       "    }\n",
       "</style>\n",
       "<table border=\"1\" class=\"dataframe\">\n",
       "  <thead>\n",
       "    <tr style=\"text-align: right;\">\n",
       "      <th></th>\n",
       "      <th>t-12</th>\n",
       "      <th>t-11</th>\n",
       "      <th>t-10</th>\n",
       "      <th>t-9</th>\n",
       "      <th>t-8</th>\n",
       "      <th>t-7</th>\n",
       "      <th>t-6</th>\n",
       "      <th>t-5</th>\n",
       "      <th>t-4</th>\n",
       "      <th>t-3</th>\n",
       "      <th>t-2</th>\n",
       "      <th>t-1</th>\n",
       "      <th>t</th>\n",
       "    </tr>\n",
       "  </thead>\n",
       "  <tbody>\n",
       "    <tr>\n",
       "      <td>0</td>\n",
       "      <td>3.083579</td>\n",
       "      <td>2.884144</td>\n",
       "      <td>2.884144</td>\n",
       "      <td>3.377686</td>\n",
       "      <td>3.223591</td>\n",
       "      <td>2.907553</td>\n",
       "      <td>2.733733</td>\n",
       "      <td>2.019471</td>\n",
       "      <td>1.319170</td>\n",
       "      <td>1.482032</td>\n",
       "      <td>1.427535</td>\n",
       "      <td>1.742920</td>\n",
       "      <td>2.191100</td>\n",
       "    </tr>\n",
       "    <tr>\n",
       "      <td>1</td>\n",
       "      <td>2.884144</td>\n",
       "      <td>2.884144</td>\n",
       "      <td>3.377686</td>\n",
       "      <td>3.223591</td>\n",
       "      <td>2.907553</td>\n",
       "      <td>2.733733</td>\n",
       "      <td>2.019471</td>\n",
       "      <td>1.319170</td>\n",
       "      <td>1.482032</td>\n",
       "      <td>1.427535</td>\n",
       "      <td>1.742920</td>\n",
       "      <td>2.191100</td>\n",
       "      <td>2.340254</td>\n",
       "    </tr>\n",
       "    <tr>\n",
       "      <td>2</td>\n",
       "      <td>2.884144</td>\n",
       "      <td>3.377686</td>\n",
       "      <td>3.223591</td>\n",
       "      <td>2.907553</td>\n",
       "      <td>2.733733</td>\n",
       "      <td>2.019471</td>\n",
       "      <td>1.319170</td>\n",
       "      <td>1.482032</td>\n",
       "      <td>1.427535</td>\n",
       "      <td>1.742920</td>\n",
       "      <td>2.191100</td>\n",
       "      <td>2.340254</td>\n",
       "      <td>2.761165</td>\n",
       "    </tr>\n",
       "    <tr>\n",
       "      <td>3</td>\n",
       "      <td>3.377686</td>\n",
       "      <td>3.223591</td>\n",
       "      <td>2.907553</td>\n",
       "      <td>2.733733</td>\n",
       "      <td>2.019471</td>\n",
       "      <td>1.319170</td>\n",
       "      <td>1.482032</td>\n",
       "      <td>1.427535</td>\n",
       "      <td>1.742920</td>\n",
       "      <td>2.191100</td>\n",
       "      <td>2.340254</td>\n",
       "      <td>2.761165</td>\n",
       "      <td>2.879019</td>\n",
       "    </tr>\n",
       "    <tr>\n",
       "      <td>4</td>\n",
       "      <td>3.223591</td>\n",
       "      <td>2.907553</td>\n",
       "      <td>2.733733</td>\n",
       "      <td>2.019471</td>\n",
       "      <td>1.319170</td>\n",
       "      <td>1.482032</td>\n",
       "      <td>1.427535</td>\n",
       "      <td>1.742920</td>\n",
       "      <td>2.191100</td>\n",
       "      <td>2.340254</td>\n",
       "      <td>2.761165</td>\n",
       "      <td>2.879019</td>\n",
       "      <td>2.909008</td>\n",
       "    </tr>\n",
       "  </tbody>\n",
       "</table>\n",
       "</div>"
      ],
      "text/plain": [
       "       t-12      t-11      t-10       t-9       t-8       t-7       t-6  \\\n",
       "0  3.083579  2.884144  2.884144  3.377686  3.223591  2.907553  2.733733   \n",
       "1  2.884144  2.884144  3.377686  3.223591  2.907553  2.733733  2.019471   \n",
       "2  2.884144  3.377686  3.223591  2.907553  2.733733  2.019471  1.319170   \n",
       "3  3.377686  3.223591  2.907553  2.733733  2.019471  1.319170  1.482032   \n",
       "4  3.223591  2.907553  2.733733  2.019471  1.319170  1.482032  1.427535   \n",
       "\n",
       "        t-5       t-4       t-3       t-2       t-1         t  \n",
       "0  2.019471  1.319170  1.482032  1.427535  1.742920  2.191100  \n",
       "1  1.319170  1.482032  1.427535  1.742920  2.191100  2.340254  \n",
       "2  1.482032  1.427535  1.742920  2.191100  2.340254  2.761165  \n",
       "3  1.427535  1.742920  2.191100  2.340254  2.761165  2.879019  \n",
       "4  1.742920  2.191100  2.340254  2.761165  2.879019  2.909008  "
      ]
     },
     "execution_count": 24,
     "metadata": {},
     "output_type": "execute_result"
    }
   ],
   "source": [
    "# load data\n",
    "df4 = pd.read_csv('~/Desktop/section_4/jpm_lags_12months_features.csv', header=0)\n",
    "df4.head()"
   ]
  },
  {
   "cell_type": "code",
   "execution_count": 25,
   "metadata": {},
   "outputs": [],
   "source": [
    "# split data\n",
    "\n",
    "jpm = df4.values\n",
    "# split into lagged variables and original time series\n",
    "X4= jpm[:, 0:-1]  # slice all rows and start with column 0 and go up to but not including the last column\n",
    "y4 = jpm[:,-1]  # slice all rows and last column, essentially separating out 't' column"
   ]
  },
  {
   "cell_type": "code",
   "execution_count": 26,
   "metadata": {},
   "outputs": [
    {
     "data": {
      "text/plain": [
       "array([[  3.0835793 ,   2.88414359,   2.88414359, ...,   1.4820317 ,\n",
       "          1.42753482,   1.74292016],\n",
       "       [  2.88414359,   2.88414359,   3.37768602, ...,   1.42753482,\n",
       "          1.74292016,   2.19109988],\n",
       "       [  2.88414359,   3.37768602,   3.22359133, ...,   1.74292016,\n",
       "          2.19109988,   2.34025359],\n",
       "       ...,\n",
       "       [110.3382339 , 108.6626434 , 105.7192307 , ..., 104.3789597 ,\n",
       "        110.1318283 , 115.0781479 ],\n",
       "       [108.6626434 , 105.7192307 , 107.8235474 , ..., 110.1318283 ,\n",
       "        115.0781479 , 108.9869385 ],\n",
       "       [105.7192307 , 107.8235474 ,  94.66440582, ..., 115.0781479 ,\n",
       "        108.9869385 , 116.754715  ]])"
      ]
     },
     "execution_count": 26,
     "metadata": {},
     "output_type": "execute_result"
    }
   ],
   "source": [
    "# Columns t-1 to t-12, which are the lagged variables\n",
    "X4"
   ]
  },
  {
   "cell_type": "code",
   "execution_count": 27,
   "metadata": {},
   "outputs": [
    {
     "data": {
      "text/plain": [
       "array([2.19109988, 2.34025359, 2.7611649 , 2.87901878, 2.90900755,\n",
       "       3.48740601, 3.6064899 , 3.48626947, 3.40040255, 2.90236306])"
      ]
     },
     "execution_count": 27,
     "metadata": {},
     "output_type": "execute_result"
    }
   ],
   "source": [
    "# Column t, which is the original time series\n",
    "y4[0:10]"
   ]
  },
  {
   "cell_type": "code",
   "execution_count": 28,
   "metadata": {},
   "outputs": [
    {
     "name": "stdout",
     "output_type": "stream",
     "text": [
      "Observations for Target: 345\n",
      "Training Observations for Target: 241\n",
      "Testing Observations for Target: 104\n"
     ]
    }
   ],
   "source": [
    "# Target Train-Test split\n",
    "from pandas import read_csv\n",
    "\n",
    "Y4 = y4\n",
    "traintarget_size = int(len(Y4) * 0.70)   # Set split\n",
    "train_target, test_target = Y4[0:traintarget_size], Y4[traintarget_size:len(Y4)]\n",
    "\n",
    "print('Observations for Target: %d' % (len(Y4)))\n",
    "print('Training Observations for Target: %d' % (len(train_target)))\n",
    "print('Testing Observations for Target: %d' % (len(test_target)))"
   ]
  },
  {
   "cell_type": "code",
   "execution_count": 29,
   "metadata": {},
   "outputs": [
    {
     "name": "stdout",
     "output_type": "stream",
     "text": [
      "Observations for feature: 345\n",
      "Training Observations for feature: 241\n",
      "Testing Observations for feature: 104\n"
     ]
    }
   ],
   "source": [
    "# Features Train-Test split\n",
    "\n",
    "trainfeature_size = int(len(X4) * 0.70)\n",
    "train_feature, test_feature = X4[0:trainfeature_size], X4[trainfeature_size:len(X4)]\n",
    "print('Observations for feature: %d' % (len(X4)))\n",
    "print('Training Observations for feature: %d' % (len(train_feature)))\n",
    "print('Testing Observations for feature: %d' % (len(test_feature)))"
   ]
  },
  {
   "cell_type": "code",
   "execution_count": 30,
   "metadata": {},
   "outputs": [
    {
     "name": "stdout",
     "output_type": "stream",
     "text": [
      "0.9839877776490134\n",
      "-1.1714873104202743\n"
     ]
    }
   ],
   "source": [
    "# https://scikit-learn.org/stable/modules/generated/sklearn.ensemble.GradientBoostingRegressor.html\n",
    "from sklearn.ensemble import GradientBoostingRegressor\n",
    "\n",
    "\n",
    "# The fraction of samples to be used for fitting the individual base learners. \n",
    "# Choosing subsample < 1.0 leads to a reduction of variance and an increase in bias.\n",
    "# Create GB model -- hyperparameters \n",
    "gbr = GradientBoostingRegressor(max_features=3,\n",
    "                                learning_rate=0.01,\n",
    "                                n_estimators=500,\n",
    "                                subsample=0.6,\n",
    "                                random_state=99)\n",
    "\n",
    "gbr.fit(train_feature, train_target)\n",
    "\n",
    "print(gbr.score(train_feature, train_target))\n",
    "print(gbr.score(test_feature, test_target))"
   ]
  },
  {
   "cell_type": "code",
   "execution_count": 31,
   "metadata": {},
   "outputs": [
    {
     "data": {
      "image/png": "[encoded data removed]",
      "text/plain": [
       "<Figure size 432x288 with 1 Axes>"
      ]
     },
     "metadata": {
      "needs_background": "light"
     },
     "output_type": "display_data"
    }
   ],
   "source": [
    "# Gradient Boosted Model Feature Importance\n",
    "# Extract feature importances from the fitted gradient boosting model\n",
    "feature_importances = gbr.feature_importances_\n",
    "\n",
    "# Get the indices of the largest to smallest feature importances\n",
    "sorted_index = np.argsort(feature_importances)[::-1]\n",
    "x4 = range(X4.shape[1])\n",
    "\n",
    "# Create tick labels \n",
    "feature_names = ['t-12', 't-11', 't-10', 't-9', 't-8', 't-7', 't-6', 't-5', 't-4', 't-3',\n",
    "       't-2', 't-1']\n",
    "labels = np.array(feature_names)[sorted_index]\n",
    "\n",
    "plot.bar(x4, feature_importances[sorted_index], tick_label=labels)\n",
    "\n",
    "# Set the tick lables to be the feature names, according to the sorted feature_idx\n",
    "plot.xticks(rotation=90)\n",
    "plot.show()"
   ]
  },
  {
   "cell_type": "code",
   "execution_count": null,
   "metadata": {},
   "outputs": [],
   "source": []
  },
  {
   "cell_type": "markdown",
   "metadata": {},
   "source": [
    "## Example 5: Average Temperature Dataset"
   ]
  },
  {
   "cell_type": "code",
   "execution_count": 32,
   "metadata": {},
   "outputs": [
    {
     "data": {
      "text/html": [
       "<div>\n",
       "<style scoped>\n",
       "    .dataframe tbody tr th:only-of-type {\n",
       "        vertical-align: middle;\n",
       "    }\n",
       "\n",
       "    .dataframe tbody tr th {\n",
       "        vertical-align: top;\n",
       "    }\n",
       "\n",
       "    .dataframe thead th {\n",
       "        text-align: right;\n",
       "    }\n",
       "</style>\n",
       "<table border=\"1\" class=\"dataframe\">\n",
       "  <thead>\n",
       "    <tr style=\"text-align: right;\">\n",
       "      <th></th>\n",
       "      <th>t-12</th>\n",
       "      <th>t-11</th>\n",
       "      <th>t-10</th>\n",
       "      <th>t-9</th>\n",
       "      <th>t-8</th>\n",
       "      <th>t-7</th>\n",
       "      <th>t-6</th>\n",
       "      <th>t-5</th>\n",
       "      <th>t-4</th>\n",
       "      <th>t-3</th>\n",
       "      <th>t-2</th>\n",
       "      <th>t-1</th>\n",
       "      <th>t</th>\n",
       "    </tr>\n",
       "  </thead>\n",
       "  <tbody>\n",
       "    <tr>\n",
       "      <td>0</td>\n",
       "      <td>8.250412</td>\n",
       "      <td>17.050412</td>\n",
       "      <td>23.950412</td>\n",
       "      <td>24.850412</td>\n",
       "      <td>15.650412</td>\n",
       "      <td>6.550412</td>\n",
       "      <td>-10.549588</td>\n",
       "      <td>-21.549588</td>\n",
       "      <td>-18.749588</td>\n",
       "      <td>-23.749588</td>\n",
       "      <td>-9.749588</td>\n",
       "      <td>-4.349588</td>\n",
       "      <td>11.750412</td>\n",
       "    </tr>\n",
       "    <tr>\n",
       "      <td>1</td>\n",
       "      <td>17.050412</td>\n",
       "      <td>23.950412</td>\n",
       "      <td>24.850412</td>\n",
       "      <td>15.650412</td>\n",
       "      <td>6.550412</td>\n",
       "      <td>-10.549588</td>\n",
       "      <td>-21.549588</td>\n",
       "      <td>-18.749588</td>\n",
       "      <td>-23.749588</td>\n",
       "      <td>-9.749588</td>\n",
       "      <td>-4.349588</td>\n",
       "      <td>11.750412</td>\n",
       "      <td>19.150412</td>\n",
       "    </tr>\n",
       "    <tr>\n",
       "      <td>2</td>\n",
       "      <td>23.950412</td>\n",
       "      <td>24.850412</td>\n",
       "      <td>15.650412</td>\n",
       "      <td>6.550412</td>\n",
       "      <td>-10.549588</td>\n",
       "      <td>-21.549588</td>\n",
       "      <td>-18.749588</td>\n",
       "      <td>-23.749588</td>\n",
       "      <td>-9.749588</td>\n",
       "      <td>-4.349588</td>\n",
       "      <td>11.750412</td>\n",
       "      <td>19.150412</td>\n",
       "      <td>23.250412</td>\n",
       "    </tr>\n",
       "    <tr>\n",
       "      <td>3</td>\n",
       "      <td>24.850412</td>\n",
       "      <td>15.650412</td>\n",
       "      <td>6.550412</td>\n",
       "      <td>-10.549588</td>\n",
       "      <td>-21.549588</td>\n",
       "      <td>-18.749588</td>\n",
       "      <td>-23.749588</td>\n",
       "      <td>-9.749588</td>\n",
       "      <td>-4.349588</td>\n",
       "      <td>11.750412</td>\n",
       "      <td>19.150412</td>\n",
       "      <td>23.250412</td>\n",
       "      <td>19.250412</td>\n",
       "    </tr>\n",
       "    <tr>\n",
       "      <td>4</td>\n",
       "      <td>15.650412</td>\n",
       "      <td>6.550412</td>\n",
       "      <td>-10.549588</td>\n",
       "      <td>-21.549588</td>\n",
       "      <td>-18.749588</td>\n",
       "      <td>-23.749588</td>\n",
       "      <td>-9.749588</td>\n",
       "      <td>-4.349588</td>\n",
       "      <td>11.750412</td>\n",
       "      <td>19.150412</td>\n",
       "      <td>23.250412</td>\n",
       "      <td>19.250412</td>\n",
       "      <td>18.750412</td>\n",
       "    </tr>\n",
       "  </tbody>\n",
       "</table>\n",
       "</div>"
      ],
      "text/plain": [
       "        t-12       t-11       t-10        t-9        t-8        t-7  \\\n",
       "0   8.250412  17.050412  23.950412  24.850412  15.650412   6.550412   \n",
       "1  17.050412  23.950412  24.850412  15.650412   6.550412 -10.549588   \n",
       "2  23.950412  24.850412  15.650412   6.550412 -10.549588 -21.549588   \n",
       "3  24.850412  15.650412   6.550412 -10.549588 -21.549588 -18.749588   \n",
       "4  15.650412   6.550412 -10.549588 -21.549588 -18.749588 -23.749588   \n",
       "\n",
       "         t-6        t-5        t-4        t-3        t-2        t-1          t  \n",
       "0 -10.549588 -21.549588 -18.749588 -23.749588  -9.749588  -4.349588  11.750412  \n",
       "1 -21.549588 -18.749588 -23.749588  -9.749588  -4.349588  11.750412  19.150412  \n",
       "2 -18.749588 -23.749588  -9.749588  -4.349588  11.750412  19.150412  23.250412  \n",
       "3 -23.749588  -9.749588  -4.349588  11.750412  19.150412  23.250412  19.250412  \n",
       "4  -9.749588  -4.349588  11.750412  19.150412  23.250412  19.250412  18.750412  "
      ]
     },
     "execution_count": 32,
     "metadata": {},
     "output_type": "execute_result"
    }
   ],
   "source": [
    "# load data\n",
    "df5 = pd.read_csv('~/Desktop/section_4/temp_lags_12months_features.csv', header=0)\n",
    "df5.head()"
   ]
  },
  {
   "cell_type": "code",
   "execution_count": 33,
   "metadata": {},
   "outputs": [],
   "source": [
    "temp = df5.values\n",
    "# split into lagged variables and original time series\n",
    "X5= temp[:,0:-1]  # slice all rows and start with column 0 and go up to but not including the last column\n",
    "y5 = temp[:,-1]  # slice all rows and last column, essentially separating out 't' column"
   ]
  },
  {
   "cell_type": "code",
   "execution_count": 34,
   "metadata": {},
   "outputs": [
    {
     "data": {
      "text/plain": [
       "array([[  8.25041237,  17.05041237,  23.95041237, ..., -23.74958763,\n",
       "         -9.74958763,  -4.34958763],\n",
       "       [ 17.05041237,  23.95041237,  24.85041237, ...,  -9.74958763,\n",
       "         -4.34958763,  11.75041237],\n",
       "       [ 23.95041237,  24.85041237,  15.65041237, ...,  -4.34958763,\n",
       "         11.75041237,  19.15041237],\n",
       "       ...,\n",
       "       [ -8.34958763, -21.54958763, -26.64958763, ...,  23.25041237,\n",
       "         18.35041237,   3.15041237],\n",
       "       [-21.54958763, -26.64958763, -18.44958763, ...,  18.35041237,\n",
       "          3.15041237, -17.54958763],\n",
       "       [-26.64958763, -18.44958763, -13.34958763, ...,   3.15041237,\n",
       "        -17.54958763, -17.44958763]])"
      ]
     },
     "execution_count": 34,
     "metadata": {},
     "output_type": "execute_result"
    }
   ],
   "source": [
    "# Columns t-1 to t-12, which are the lagged variables\n",
    "X5"
   ]
  },
  {
   "cell_type": "code",
   "execution_count": 35,
   "metadata": {},
   "outputs": [
    {
     "data": {
      "text/plain": [
       "array([ 11.75041237,  19.15041237,  23.25041237,  19.25041237,\n",
       "        18.75041237,   3.75041237, -13.34958763, -20.74958763,\n",
       "       -42.64958763, -24.44958763])"
      ]
     },
     "execution_count": 35,
     "metadata": {},
     "output_type": "execute_result"
    }
   ],
   "source": [
    "# Column t, which is the original time series\n",
    "y5[0:10]"
   ]
  },
  {
   "cell_type": "code",
   "execution_count": 36,
   "metadata": {},
   "outputs": [
    {
     "name": "stdout",
     "output_type": "stream",
     "text": [
      "Observations for Target: 957\n",
      "Training Observations for Target: 765\n",
      "Testing Observations for Target: 192\n"
     ]
    }
   ],
   "source": [
    "# Target Train-Test split\n",
    "from pandas import read_csv\n",
    "\n",
    "Y5 = y5\n",
    "traintarget_size = int(len(Y5) * 0.80)   # Set split\n",
    "train_target, test_target = Y5[0:traintarget_size], Y5[traintarget_size:len(Y5)]\n",
    "\n",
    "print('Observations for Target: %d' % (len(Y5)))\n",
    "print('Training Observations for Target: %d' % (len(train_target)))\n",
    "print('Testing Observations for Target: %d' % (len(test_target)))"
   ]
  },
  {
   "cell_type": "code",
   "execution_count": 37,
   "metadata": {},
   "outputs": [
    {
     "name": "stdout",
     "output_type": "stream",
     "text": [
      "Observations for feature: 957\n",
      "Training Observations for feature: 765\n",
      "Testing Observations for feature: 192\n"
     ]
    }
   ],
   "source": [
    "# Features Train-Test split\n",
    "\n",
    "trainfeature_size = int(len(X5) * 0.80)\n",
    "train_feature, test_feature = X5[0:trainfeature_size], X5[trainfeature_size:len(X5)]\n",
    "print('Observations for feature: %d' % (len(X5)))\n",
    "print('Training Observations for feature: %d' % (len(train_feature)))\n",
    "print('Testing Observations for feature: %d' % (len(test_feature)))"
   ]
  },
  {
   "cell_type": "code",
   "execution_count": 38,
   "metadata": {},
   "outputs": [
    {
     "name": "stdout",
     "output_type": "stream",
     "text": [
      "0.966727972479287\n",
      "0.9382694989776716\n"
     ]
    }
   ],
   "source": [
    "# https://scikit-learn.org/stable/modules/generated/sklearn.ensemble.GradientBoostingRegressor.html\n",
    "from sklearn.ensemble import GradientBoostingRegressor\n",
    "\n",
    "\n",
    "# The fraction of samples to be used for fitting the individual base learners. \n",
    "# Choosing subsample < 1.0 leads to a reduction of variance and an increase in bias.\n",
    "# Create GB model -- hyperparameters \n",
    "gbr = GradientBoostingRegressor(max_features=8,\n",
    "                                learning_rate=0.01,\n",
    "                                n_estimators=500,\n",
    "                                subsample=0.6,\n",
    "                                random_state=99)\n",
    "\n",
    "gbr.fit(train_feature, train_target)\n",
    "\n",
    "print(gbr.score(train_feature, train_target))\n",
    "print(gbr.score(test_feature, test_target))"
   ]
  },
  {
   "cell_type": "code",
   "execution_count": 39,
   "metadata": {},
   "outputs": [
    {
     "data": {
      "image/png": "[encoded data removed]",
      "text/plain": [
       "<Figure size 432x288 with 1 Axes>"
      ]
     },
     "metadata": {
      "needs_background": "light"
     },
     "output_type": "display_data"
    }
   ],
   "source": [
    "# Gradient Boosted Model Feature Importance\n",
    "# Extract feature importances from the fitted gradient boosting model\n",
    "feature_importances = gbr.feature_importances_\n",
    "\n",
    "# Get the indices of the largest to smallest feature importances\n",
    "sorted_index = np.argsort(feature_importances)[::-1]\n",
    "x5 = range(X5.shape[1])\n",
    "\n",
    "# Create tick labels \n",
    "feature_names = ['t-12', 't-11', 't-10', 't-9', 't-8', 't-7', 't-6', 't-5', 't-4', 't-3',\n",
    "       't-2', 't-1']\n",
    "labels = np.array(feature_names)[sorted_index]\n",
    "\n",
    "plot.bar(x5, feature_importances[sorted_index], tick_label=labels)\n",
    "\n",
    "# Set the tick lables to be the feature names, according to the sorted feature_idx\n",
    "plot.xticks(rotation=90)\n",
    "plot.show()"
   ]
  },
  {
   "cell_type": "code",
   "execution_count": null,
   "metadata": {},
   "outputs": [],
   "source": []
  },
  {
   "cell_type": "markdown",
   "metadata": {},
   "source": [
    "## Summary"
   ]
  },
  {
   "cell_type": "markdown",
   "metadata": {},
   "source": [
    "In summary, we looked at a Gradient Boosted model on a dataset that consisted of 12 lagged variables.  The dataset was split into features and target. It was further split according to a training and testing datasets.  In some ways, the feature importances of the Gradient Boosted model are similar to those of the feature importances of the Random Forest model."
   ]
  },
  {
   "cell_type": "code",
   "execution_count": null,
   "metadata": {},
   "outputs": [],
   "source": []
  }
 ],
 "metadata": {
  "kernelspec": {
   "display_name": "Python 3 (ipykernel)",
   "language": "python",
   "name": "python3"
  },
  "language_info": {
   "codemirror_mode": {
    "name": "ipython",
    "version": 3
   },
   "file_extension": ".py",
   "mimetype": "text/x-python",
   "name": "python",
   "nbconvert_exporter": "python",
   "pygments_lexer": "ipython3",
   "version": "3.8.11"
  }
 },
 "nbformat": 4,
 "nbformat_minor": 2
}
